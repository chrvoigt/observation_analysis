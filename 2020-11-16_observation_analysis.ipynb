{
 "cells": [
  {
   "cell_type": "markdown",
   "metadata": {
    "hideCode": false,
    "hidePrompt": false,
    "toc": true
   },
   "source": [
    "<h1>Table of Contents<span class=\"tocSkip\"></span></h1>\n",
    "<div class=\"toc\"><ul class=\"toc-item\"><li><span><a href=\"#Reading-the-data-as-provided-by-the-gadget-(there-are-always-two-types-of-files---tracks-and-categories-of-spots)\" data-toc-modified-id=\"Reading-the-data-as-provided-by-the-gadget-(there-are-always-two-types-of-files---tracks-and-categories-of-spots)-1\"><span class=\"toc-item-num\">1&nbsp;&nbsp;</span>Reading the data as provided by the gadget (there are always two types of files - tracks and categories of spots)</a></span></li><li><span><a href=\"#Aspects-of-data-quality\" data-toc-modified-id=\"Aspects-of-data-quality-2\"><span class=\"toc-item-num\">2&nbsp;&nbsp;</span>Aspects of data quality</a></span></li><li><span><a href=\"#Distance-measurement\" data-toc-modified-id=\"Distance-measurement-3\"><span class=\"toc-item-num\">3&nbsp;&nbsp;</span>Distance measurement</a></span></li><li><span><a href=\"#Use-of-categories-(1---5)\" data-toc-modified-id=\"Use-of-categories-(1---5)-4\"><span class=\"toc-item-num\">4&nbsp;&nbsp;</span>Use of categories (1 - 5)</a></span><ul class=\"toc-item\"><li><ul class=\"toc-item\"><li><span><a href=\"#Example---Gastronomy-during-Covid19\" data-toc-modified-id=\"Example---Gastronomy-during-Covid19-4.0.1\"><span class=\"toc-item-num\">4.0.1&nbsp;&nbsp;</span>Example - Gastronomy during Covid19</a></span></li></ul></li></ul></li><li><span><a href=\"#Basic-Map-Parameters\" data-toc-modified-id=\"Basic-Map-Parameters-5\"><span class=\"toc-item-num\">5&nbsp;&nbsp;</span>Basic Map Parameters</a></span></li><li><span><a href=\"#Basic-Map\" data-toc-modified-id=\"Basic-Map-6\"><span class=\"toc-item-num\">6&nbsp;&nbsp;</span>Basic Map</a></span></li><li><span><a href=\"#Adding-categories-1-5-to-the-map\" data-toc-modified-id=\"Adding-categories-1-5-to-the-map-7\"><span class=\"toc-item-num\">7&nbsp;&nbsp;</span>Adding categories 1-5 to the map</a></span></li><li><span><a href=\"#Create-a-Split-Map\" data-toc-modified-id=\"Create-a-Split-Map-8\"><span class=\"toc-item-num\">8&nbsp;&nbsp;</span>Create a Split Map</a></span></li><li><span><a href=\"#The-resulting-HTML-file-should-be-visible-in-any-browser-(however,-icons-will-be-missing---fixible)\" data-toc-modified-id=\"The-resulting-HTML-file-should-be-visible-in-any-browser-(however,-icons-will-be-missing---fixible)-9\"><span class=\"toc-item-num\">9&nbsp;&nbsp;</span>The resulting HTML file should be visible in any browser (however, icons will be missing - fixible)</a></span></li><li><span><a href=\"#Integrating-a-different-basemap-with-more-details\" data-toc-modified-id=\"Integrating-a-different-basemap-with-more-details-10\"><span class=\"toc-item-num\">10&nbsp;&nbsp;</span>Integrating a different basemap with more details</a></span></li><li><span><a href=\"#For-later:-Experimenting-with-coloring-regions-or-neighborhoods\" data-toc-modified-id=\"For-later:-Experimenting-with-coloring-regions-or-neighborhoods-11\"><span class=\"toc-item-num\">11&nbsp;&nbsp;</span>For later: Experimenting with coloring regions or neighborhoods</a></span></li></ul></div>"
   ]
  },
  {
   "cell_type": "code",
   "execution_count": 1,
   "metadata": {
    "hideCode": false,
    "hidePrompt": false
   },
   "outputs": [],
   "source": [
    "# not all of these libraries are needed but for now let's load them to be prepared :-) \n",
    "from ipyleaflet import (Map, GeoData, WidgetControl, GeoJSON, basemaps, LocalTileLayer,\n",
    " LayersControl, Icon, Marker,basemap_to_tiles, Choropleth, AntPath,\n",
    " MarkerCluster, Heatmap, SearchControl, FullScreenControl, AwesomeIcon, \n",
    " ScaleControl, MeasureControl, SplitMapControl, WMSLayer, Polygon, Choropleth)"
   ]
  },
  {
   "cell_type": "code",
   "execution_count": 2,
   "metadata": {
    "hideCode": false,
    "hidePrompt": false
   },
   "outputs": [],
   "source": [
    "# ipywidgets add user interactions to our notebook cells \n",
    "# read the docs https://ipywidgets.readthedocs.io/en/latest/\n",
    "from ipywidgets import Text, HTML, IntSlider, ColorPicker, jslink, Layout\n",
    "from branca.colormap import linear"
   ]
  },
  {
   "cell_type": "code",
   "execution_count": 3,
   "metadata": {
    "hideCode": false,
    "hidePrompt": false
   },
   "outputs": [],
   "source": [
    "# something to look into when wanting to color areas of a city or a region (Choropleth Maps)\n",
    "# https://blog.datawrapper.de/choroplethmaps/\n",
    "#import geopandas as gpd\n",
    "#import json"
   ]
  },
  {
   "cell_type": "code",
   "execution_count": 4,
   "metadata": {
    "hideCode": false,
    "hidePrompt": false
   },
   "outputs": [],
   "source": [
    "# Pandas = derived from \"Python and data analysis\"\n",
    "import pandas as pd  \n",
    "import math "
   ]
  },
  {
   "cell_type": "markdown",
   "metadata": {
    "hideCode": false,
    "hidePrompt": false
   },
   "source": [
    "## Reading the data as provided by the gadget (there are always two types of files - tracks and categories of spots)"
   ]
  },
  {
   "cell_type": "markdown",
   "metadata": {},
   "source": [
    "*** Important ***\n",
    "> first line in CVS should look like this:    \n",
    "> Date,Time,RawTime,Latitude,Longitude,Altitude,Sats,SatSpeed,Precision"
   ]
  },
  {
   "cell_type": "code",
   "execution_count": 33,
   "metadata": {
    "hideCode": false,
    "hidePrompt": false
   },
   "outputs": [
    {
     "name": "stdout",
     "output_type": "stream",
     "text": [
      "number of track points:  341\n"
     ]
    },
    {
     "data": {
      "text/html": [
       "<div>\n",
       "<style scoped>\n",
       "    .dataframe tbody tr th:only-of-type {\n",
       "        vertical-align: middle;\n",
       "    }\n",
       "\n",
       "    .dataframe tbody tr th {\n",
       "        vertical-align: top;\n",
       "    }\n",
       "\n",
       "    .dataframe thead th {\n",
       "        text-align: right;\n",
       "    }\n",
       "</style>\n",
       "<table border=\"1\" class=\"dataframe\">\n",
       "  <thead>\n",
       "    <tr style=\"text-align: right;\">\n",
       "      <th></th>\n",
       "      <th>Date</th>\n",
       "      <th>Time</th>\n",
       "      <th>RawTime</th>\n",
       "      <th>Latitude</th>\n",
       "      <th>Longitude</th>\n",
       "      <th>Altitude</th>\n",
       "      <th>Sats</th>\n",
       "      <th>SatSpeed</th>\n",
       "      <th>Precision</th>\n",
       "    </tr>\n",
       "  </thead>\n",
       "  <tbody>\n",
       "    <tr>\n",
       "      <th>333</th>\n",
       "      <td>61120</td>\n",
       "      <td>16:17:44</td>\n",
       "      <td>15174400</td>\n",
       "      <td>48.232300</td>\n",
       "      <td>16.373714</td>\n",
       "      <td>201.2</td>\n",
       "      <td>5</td>\n",
       "      <td>1.9076</td>\n",
       "      <td>1.51</td>\n",
       "    </tr>\n",
       "    <tr>\n",
       "      <th>334</th>\n",
       "      <td>61120</td>\n",
       "      <td>16:17:49</td>\n",
       "      <td>15174900</td>\n",
       "      <td>48.232271</td>\n",
       "      <td>16.373638</td>\n",
       "      <td>201.5</td>\n",
       "      <td>6</td>\n",
       "      <td>3.5373</td>\n",
       "      <td>1.47</td>\n",
       "    </tr>\n",
       "    <tr>\n",
       "      <th>335</th>\n",
       "      <td>61120</td>\n",
       "      <td>16:17:54</td>\n",
       "      <td>15175400</td>\n",
       "      <td>48.232249</td>\n",
       "      <td>16.373592</td>\n",
       "      <td>201.9</td>\n",
       "      <td>6</td>\n",
       "      <td>0.6667</td>\n",
       "      <td>1.47</td>\n",
       "    </tr>\n",
       "    <tr>\n",
       "      <th>336</th>\n",
       "      <td>61120</td>\n",
       "      <td>16:17:59</td>\n",
       "      <td>15175900</td>\n",
       "      <td>48.232195</td>\n",
       "      <td>16.373600</td>\n",
       "      <td>198.9</td>\n",
       "      <td>6</td>\n",
       "      <td>2.2594</td>\n",
       "      <td>2.03</td>\n",
       "    </tr>\n",
       "    <tr>\n",
       "      <th>337</th>\n",
       "      <td>61120</td>\n",
       "      <td>16:18:04</td>\n",
       "      <td>15180400</td>\n",
       "      <td>48.232100</td>\n",
       "      <td>16.373603</td>\n",
       "      <td>197.0</td>\n",
       "      <td>5</td>\n",
       "      <td>2.2594</td>\n",
       "      <td>2.03</td>\n",
       "    </tr>\n",
       "    <tr>\n",
       "      <th>338</th>\n",
       "      <td>61120</td>\n",
       "      <td>16:18:09</td>\n",
       "      <td>15180900</td>\n",
       "      <td>48.232035</td>\n",
       "      <td>16.373612</td>\n",
       "      <td>195.8</td>\n",
       "      <td>5</td>\n",
       "      <td>2.2594</td>\n",
       "      <td>1.51</td>\n",
       "    </tr>\n",
       "    <tr>\n",
       "      <th>339</th>\n",
       "      <td>61120</td>\n",
       "      <td>16:18:14</td>\n",
       "      <td>15181400</td>\n",
       "      <td>48.231941</td>\n",
       "      <td>16.373633</td>\n",
       "      <td>195.8</td>\n",
       "      <td>5</td>\n",
       "      <td>5.2226</td>\n",
       "      <td>1.51</td>\n",
       "    </tr>\n",
       "    <tr>\n",
       "      <th>340</th>\n",
       "      <td>61120</td>\n",
       "      <td>16:18:16</td>\n",
       "      <td>15181600</td>\n",
       "      <td>48.231913</td>\n",
       "      <td>16.373650</td>\n",
       "      <td>195.8</td>\n",
       "      <td>5</td>\n",
       "      <td>4.9078</td>\n",
       "      <td>1.51</td>\n",
       "    </tr>\n",
       "  </tbody>\n",
       "</table>\n",
       "</div>"
      ],
      "text/plain": [
       "      Date      Time   RawTime   Latitude  Longitude  Altitude  Sats  \\\n",
       "333  61120  16:17:44  15174400  48.232300  16.373714     201.2     5   \n",
       "334  61120  16:17:49  15174900  48.232271  16.373638     201.5     6   \n",
       "335  61120  16:17:54  15175400  48.232249  16.373592     201.9     6   \n",
       "336  61120  16:17:59  15175900  48.232195  16.373600     198.9     6   \n",
       "337  61120  16:18:04  15180400  48.232100  16.373603     197.0     5   \n",
       "338  61120  16:18:09  15180900  48.232035  16.373612     195.8     5   \n",
       "339  61120  16:18:14  15181400  48.231941  16.373633     195.8     5   \n",
       "340  61120  16:18:16  15181600  48.231913  16.373650     195.8     5   \n",
       "\n",
       "     SatSpeed  Precision  \n",
       "333    1.9076       1.51  \n",
       "334    3.5373       1.47  \n",
       "335    0.6667       1.47  \n",
       "336    2.2594       2.03  \n",
       "337    2.2594       2.03  \n",
       "338    2.2594       1.51  \n",
       "339    5.2226       1.51  \n",
       "340    4.9078       1.51  "
      ]
     },
     "execution_count": 33,
     "metadata": {},
     "output_type": "execute_result"
    }
   ],
   "source": [
    "\n",
    "categories=pd.read_csv('data/2020-11-06_rate_Wallenstein_Gastro_Corona.csv', sep=',')\n",
    "tracks=pd.read_csv('data/2020-11-06_track_Wallenstein_Gastro_Corona.csv', sep=',')\n",
    "\n",
    "\n",
    "'''categories=pd.read_csv('data/2020-10-12_rate_waste.csv', sep=',')\n",
    "tracks=pd.read_csv('data/2020-10-12_track_waste.csv', sep=',')'''\n",
    "\n",
    "print('number of track points: ', len (tracks))\n",
    "tracks.tail(8)"
   ]
  },
  {
   "cell_type": "markdown",
   "metadata": {
    "hideCode": false,
    "hidePrompt": false
   },
   "source": [
    "## Aspects of data quality"
   ]
  },
  {
   "cell_type": "code",
   "execution_count": 34,
   "metadata": {
    "hideCode": false,
    "hidePrompt": false
   },
   "outputs": [
    {
     "name": "stdout",
     "output_type": "stream",
     "text": [
      "Frequency of same time records:       [1, 1, 1, 1, 1, 1, 1, 1, 1, 1, 1, 1, 1, 1, 1, 1, 1, 1, 1, 1]\n",
      "Distribution of number of satelites:  [211, 75, 44, 8, 3]\n"
     ]
    }
   ],
   "source": [
    "print('Frequency of same time records:      ', list(tracks.groupby(tracks['RawTime']).size().sort_values(ascending=False)) [0:20])\n",
    "print('Distribution of number of satelites: ', list(tracks.groupby(tracks['Sats']).size().sort_values(ascending=False)) [0:20])"
   ]
  },
  {
   "cell_type": "code",
   "execution_count": 35,
   "metadata": {
    "hideCode": false,
    "hidePrompt": false
   },
   "outputs": [
    {
     "name": "stdout",
     "output_type": "stream",
     "text": [
      "satellite density (sat-number, frequency):  [(5, 211), (6, 75), (4, 44), (7, 8), (3, 3)]\n"
     ]
    }
   ],
   "source": [
    "satDistribution = tracks.groupby(tracks['Sats']).size().sort_values(ascending=False)\n",
    "satNum =  list(satDistribution.keys())\n",
    "satFreq = list(satDistribution)\n",
    "satDens = list (zip (satNum, satFreq))\n",
    " \n",
    "print('satellite density (sat-number, frequency): ', satDens)\n"
   ]
  },
  {
   "cell_type": "code",
   "execution_count": 36,
   "metadata": {
    "hideCode": false,
    "hidePrompt": false
   },
   "outputs": [
    {
     "data": {
      "text/plain": [
       "<BarContainer object of 5 artists>"
      ]
     },
     "execution_count": 36,
     "metadata": {},
     "output_type": "execute_result"
    },
    {
     "data": {
      "image/png": "[encoded data removed]",
      "text/plain": [
       "<Figure size 432x288 with 1 Axes>"
      ]
     },
     "metadata": {
      "needs_background": "light"
     },
     "output_type": "display_data"
    }
   ],
   "source": [
    "from matplotlib import pyplot as plt\n",
    "plt.bar(satNum, satFreq)"
   ]
  },
  {
   "cell_type": "markdown",
   "metadata": {
    "hideCode": false,
    "hidePrompt": false,
    "hide_input": false
   },
   "source": [
    "## Distance measurement  "
   ]
  },
  {
   "cell_type": "code",
   "execution_count": 37,
   "metadata": {
    "hideCode": false,
    "hidePrompt": false
   },
   "outputs": [],
   "source": [
    "# Haversine formula example in Python\n",
    "# Author: Wayne Dyck\n",
    "# https://en.wikipedia.org/wiki/Haversine_formula \n",
    "\n",
    "def distance(origin, destination):\n",
    "    lat1, lon1 = origin\n",
    "    lat2, lon2 = destination\n",
    "    radius = 6371 # km\n",
    "\n",
    "    dlat = math.radians(lat2-lat1)\n",
    "    dlon = math.radians(lon2-lon1)\n",
    "    a = math.sin(dlat/2) * math.sin(dlat/2) + math.cos(math.radians(lat1)) \\\n",
    "        * math.cos(math.radians(lat2)) * math.sin(dlon/2) * math.sin(dlon/2)\n",
    "    c = 2 * math.atan2(math.sqrt(a), math.sqrt(1-a))\n",
    "    d = radius * c\n",
    "\n",
    "    return d"
   ]
  },
  {
   "cell_type": "code",
   "execution_count": 38,
   "metadata": {},
   "outputs": [
    {
     "data": {
      "text/html": [
       "<div>\n",
       "<style scoped>\n",
       "    .dataframe tbody tr th:only-of-type {\n",
       "        vertical-align: middle;\n",
       "    }\n",
       "\n",
       "    .dataframe tbody tr th {\n",
       "        vertical-align: top;\n",
       "    }\n",
       "\n",
       "    .dataframe thead th {\n",
       "        text-align: right;\n",
       "    }\n",
       "</style>\n",
       "<table border=\"1\" class=\"dataframe\">\n",
       "  <thead>\n",
       "    <tr style=\"text-align: right;\">\n",
       "      <th></th>\n",
       "      <th>Date</th>\n",
       "      <th>Time</th>\n",
       "      <th>RawTime</th>\n",
       "      <th>Latitude</th>\n",
       "      <th>Longitude</th>\n",
       "      <th>Altitude</th>\n",
       "      <th>Sats</th>\n",
       "      <th>SatSpeed</th>\n",
       "      <th>Precision</th>\n",
       "      <th>Distance</th>\n",
       "    </tr>\n",
       "  </thead>\n",
       "  <tbody>\n",
       "    <tr>\n",
       "      <th>0</th>\n",
       "      <td>61120</td>\n",
       "      <td>15:42:31</td>\n",
       "      <td>14423100</td>\n",
       "      <td>48.231356</td>\n",
       "      <td>16.373740</td>\n",
       "      <td>174.5</td>\n",
       "      <td>5</td>\n",
       "      <td>0.5000</td>\n",
       "      <td>2.61</td>\n",
       "      <td>0</td>\n",
       "    </tr>\n",
       "    <tr>\n",
       "      <th>1</th>\n",
       "      <td>61120</td>\n",
       "      <td>15:42:36</td>\n",
       "      <td>14423600</td>\n",
       "      <td>48.231421</td>\n",
       "      <td>16.373773</td>\n",
       "      <td>172.8</td>\n",
       "      <td>5</td>\n",
       "      <td>3.3706</td>\n",
       "      <td>2.61</td>\n",
       "      <td>0</td>\n",
       "    </tr>\n",
       "    <tr>\n",
       "      <th>2</th>\n",
       "      <td>61120</td>\n",
       "      <td>15:42:41</td>\n",
       "      <td>14424100</td>\n",
       "      <td>48.231450</td>\n",
       "      <td>16.373781</td>\n",
       "      <td>172.2</td>\n",
       "      <td>5</td>\n",
       "      <td>2.8336</td>\n",
       "      <td>2.61</td>\n",
       "      <td>0</td>\n",
       "    </tr>\n",
       "  </tbody>\n",
       "</table>\n",
       "</div>"
      ],
      "text/plain": [
       "    Date      Time   RawTime   Latitude  Longitude  Altitude  Sats  SatSpeed  \\\n",
       "0  61120  15:42:31  14423100  48.231356  16.373740     174.5     5    0.5000   \n",
       "1  61120  15:42:36  14423600  48.231421  16.373773     172.8     5    3.3706   \n",
       "2  61120  15:42:41  14424100  48.231450  16.373781     172.2     5    2.8336   \n",
       "\n",
       "   Precision  Distance  \n",
       "0       2.61         0  \n",
       "1       2.61         0  \n",
       "2       2.61         0  "
      ]
     },
     "execution_count": 38,
     "metadata": {},
     "output_type": "execute_result"
    }
   ],
   "source": [
    "tracks_d = tracks.assign (Distance = 0) \n",
    "tracks_d.head(3)"
   ]
  },
  {
   "cell_type": "code",
   "execution_count": 39,
   "metadata": {},
   "outputs": [],
   "source": [
    "for i in range (len(tracks_d)-1):\n",
    "    j = i+1\n",
    "    tracks_d.loc[j,'Distance'] = round (distance((tracks_d.Latitude[i], \n",
    "                                         tracks_d.Longitude[i]), \n",
    "                                        (tracks_d.Latitude[j], \n",
    "                                         tracks_d.Longitude[j]))*1000, 2)"
   ]
  },
  {
   "cell_type": "code",
   "execution_count": 40,
   "metadata": {
    "scrolled": true
   },
   "outputs": [
    {
     "data": {
      "text/html": [
       "<div>\n",
       "<style scoped>\n",
       "    .dataframe tbody tr th:only-of-type {\n",
       "        vertical-align: middle;\n",
       "    }\n",
       "\n",
       "    .dataframe tbody tr th {\n",
       "        vertical-align: top;\n",
       "    }\n",
       "\n",
       "    .dataframe thead th {\n",
       "        text-align: right;\n",
       "    }\n",
       "</style>\n",
       "<table border=\"1\" class=\"dataframe\">\n",
       "  <thead>\n",
       "    <tr style=\"text-align: right;\">\n",
       "      <th></th>\n",
       "      <th>Date</th>\n",
       "      <th>Time</th>\n",
       "      <th>RawTime</th>\n",
       "      <th>Latitude</th>\n",
       "      <th>Longitude</th>\n",
       "      <th>Altitude</th>\n",
       "      <th>Sats</th>\n",
       "      <th>SatSpeed</th>\n",
       "      <th>Precision</th>\n",
       "      <th>Distance</th>\n",
       "    </tr>\n",
       "  </thead>\n",
       "  <tbody>\n",
       "    <tr>\n",
       "      <th>336</th>\n",
       "      <td>61120</td>\n",
       "      <td>16:17:59</td>\n",
       "      <td>15175900</td>\n",
       "      <td>48.232195</td>\n",
       "      <td>16.373600</td>\n",
       "      <td>198.9</td>\n",
       "      <td>6</td>\n",
       "      <td>2.2594</td>\n",
       "      <td>2.03</td>\n",
       "      <td>6.03</td>\n",
       "    </tr>\n",
       "    <tr>\n",
       "      <th>337</th>\n",
       "      <td>61120</td>\n",
       "      <td>16:18:04</td>\n",
       "      <td>15180400</td>\n",
       "      <td>48.232100</td>\n",
       "      <td>16.373603</td>\n",
       "      <td>197.0</td>\n",
       "      <td>5</td>\n",
       "      <td>2.2594</td>\n",
       "      <td>2.03</td>\n",
       "      <td>10.57</td>\n",
       "    </tr>\n",
       "    <tr>\n",
       "      <th>338</th>\n",
       "      <td>61120</td>\n",
       "      <td>16:18:09</td>\n",
       "      <td>15180900</td>\n",
       "      <td>48.232035</td>\n",
       "      <td>16.373612</td>\n",
       "      <td>195.8</td>\n",
       "      <td>5</td>\n",
       "      <td>2.2594</td>\n",
       "      <td>1.51</td>\n",
       "      <td>7.26</td>\n",
       "    </tr>\n",
       "    <tr>\n",
       "      <th>339</th>\n",
       "      <td>61120</td>\n",
       "      <td>16:18:14</td>\n",
       "      <td>15181400</td>\n",
       "      <td>48.231941</td>\n",
       "      <td>16.373633</td>\n",
       "      <td>195.8</td>\n",
       "      <td>5</td>\n",
       "      <td>5.2226</td>\n",
       "      <td>1.51</td>\n",
       "      <td>10.57</td>\n",
       "    </tr>\n",
       "    <tr>\n",
       "      <th>340</th>\n",
       "      <td>61120</td>\n",
       "      <td>16:18:16</td>\n",
       "      <td>15181600</td>\n",
       "      <td>48.231913</td>\n",
       "      <td>16.373650</td>\n",
       "      <td>195.8</td>\n",
       "      <td>5</td>\n",
       "      <td>4.9078</td>\n",
       "      <td>1.51</td>\n",
       "      <td>3.36</td>\n",
       "    </tr>\n",
       "  </tbody>\n",
       "</table>\n",
       "</div>"
      ],
      "text/plain": [
       "      Date      Time   RawTime   Latitude  Longitude  Altitude  Sats  \\\n",
       "336  61120  16:17:59  15175900  48.232195  16.373600     198.9     6   \n",
       "337  61120  16:18:04  15180400  48.232100  16.373603     197.0     5   \n",
       "338  61120  16:18:09  15180900  48.232035  16.373612     195.8     5   \n",
       "339  61120  16:18:14  15181400  48.231941  16.373633     195.8     5   \n",
       "340  61120  16:18:16  15181600  48.231913  16.373650     195.8     5   \n",
       "\n",
       "     SatSpeed  Precision  Distance  \n",
       "336    2.2594       2.03      6.03  \n",
       "337    2.2594       2.03     10.57  \n",
       "338    2.2594       1.51      7.26  \n",
       "339    5.2226       1.51     10.57  \n",
       "340    4.9078       1.51      3.36  "
      ]
     },
     "execution_count": 40,
     "metadata": {},
     "output_type": "execute_result"
    }
   ],
   "source": [
    "tracks_d.tail()"
   ]
  },
  {
   "cell_type": "code",
   "execution_count": 41,
   "metadata": {},
   "outputs": [
    {
     "name": "stdout",
     "output_type": "stream",
     "text": [
      "all data points:  341\n",
      "location changes:  340\n",
      "reduction by:  0.29  %\n"
     ]
    }
   ],
   "source": [
    "data_points = len(tracks_d)\n",
    "print('all data points: ', data_points)\n",
    "tracks_d = tracks_d[tracks_d['Distance'] > 0]\n",
    "\n",
    "location_changes =len (tracks_d)\n",
    "print('location changes: ', location_changes)\n",
    "print ('reduction by: ', round (100 * (1 - location_changes / data_points), 2), ' %') "
   ]
  },
  {
   "cell_type": "code",
   "execution_count": 42,
   "metadata": {},
   "outputs": [
    {
     "data": {
      "text/plain": [
       "2807.29"
      ]
     },
     "execution_count": 42,
     "metadata": {},
     "output_type": "execute_result"
    }
   ],
   "source": [
    "tracks_d.Distance.sum().round(2)"
   ]
  },
  {
   "cell_type": "code",
   "execution_count": 43,
   "metadata": {},
   "outputs": [
    {
     "data": {
      "text/plain": [
       "8.26"
      ]
     },
     "execution_count": 43,
     "metadata": {},
     "output_type": "execute_result"
    }
   ],
   "source": [
    "tracks_d.Distance.mean().round(2)"
   ]
  },
  {
   "cell_type": "code",
   "execution_count": 44,
   "metadata": {},
   "outputs": [],
   "source": [
    "tracks_d.to_csv('data/2020-11-06_track_dist_Wallenstein_Gastro.csv', index=False)"
   ]
  },
  {
   "cell_type": "markdown",
   "metadata": {
    "hideCode": false,
    "hidePrompt": false
   },
   "source": [
    "## Use of categories (1 - 5)"
   ]
  },
  {
   "cell_type": "markdown",
   "metadata": {},
   "source": [
    "#### Example - Gastronomy during Covid19 \n",
    "\n",
    "- cat1 - Business as usual (Green)\n",
    "- cat2 - Limited opening hours (Orange)\n",
    "- cat3 - Temporarily Closed (Red)\n",
    "- cat4 - Closed & No Information (Grey) \n",
    "- cat5 - Out of business  (Black)"
   ]
  },
  {
   "cell_type": "code",
   "execution_count": 45,
   "metadata": {
    "hideCode": false,
    "hidePrompt": false
   },
   "outputs": [
    {
     "data": {
      "text/plain": [
       "Category\n",
       "1    11\n",
       "2     2\n",
       "3     3\n",
       "4     8\n",
       "5     1\n",
       "dtype: int64"
      ]
     },
     "execution_count": 45,
     "metadata": {},
     "output_type": "execute_result"
    }
   ],
   "source": [
    "cat=categories.groupby(['Category']).size()\n",
    "cat\n"
   ]
  },
  {
   "cell_type": "code",
   "execution_count": 46,
   "metadata": {
    "hideCode": false,
    "hidePrompt": false
   },
   "outputs": [],
   "source": [
    "catSeries = pd.Series([0,0,0,0,0,0])\n",
    "catSeries = catSeries [1:6]"
   ]
  },
  {
   "cell_type": "code",
   "execution_count": 47,
   "metadata": {
    "hideCode": false,
    "hidePrompt": false
   },
   "outputs": [
    {
     "data": {
      "text/plain": [
       "1    11\n",
       "2     2\n",
       "3     3\n",
       "4     8\n",
       "5     1\n",
       "dtype: int64"
      ]
     },
     "execution_count": 47,
     "metadata": {},
     "output_type": "execute_result"
    }
   ],
   "source": [
    "for x in cat.index:\n",
    "    catSeries [x] = cat [x]\n",
    "catSeries"
   ]
  },
  {
   "cell_type": "code",
   "execution_count": 48,
   "metadata": {
    "hideCode": false,
    "hidePrompt": false
   },
   "outputs": [
    {
     "data": {
      "text/plain": [
       "<BarContainer object of 5 artists>"
      ]
     },
     "execution_count": 48,
     "metadata": {},
     "output_type": "execute_result"
    },
    {
     "data": {
      "image/png": "[encoded data removed]",
      "text/plain": [
       "<Figure size 432x288 with 1 Axes>"
      ]
     },
     "metadata": {
      "needs_background": "light"
     },
     "output_type": "display_data"
    }
   ],
   "source": [
    "\n",
    "plt.bar(catSeries.index, catSeries)"
   ]
  },
  {
   "cell_type": "code",
   "execution_count": 49,
   "metadata": {
    "hideCode": false,
    "hidePrompt": false
   },
   "outputs": [],
   "source": [
    "# at this point we add some meaning to the categories \n",
    "cat1 = categories[ categories['Category'] == 1] \n",
    "cat2 = categories[ categories['Category'] == 2] \n",
    "cat3 = categories[ categories['Category'] == 3] \n",
    "cat4 = categories[ categories['Category'] == 4] \n",
    "cat5 = categories[ categories['Category'] == 5]  \n"
   ]
  },
  {
   "cell_type": "code",
   "execution_count": 50,
   "metadata": {
    "hideCode": false,
    "hidePrompt": false
   },
   "outputs": [],
   "source": [
    "# a collection of points (GPS coordinates) needs to be provided as a list of lists, this is what this funciton does  \n",
    "def location_converter (df): \n",
    "    markers = df.loc[:,{'Latitude','Longitude'}] #ouput dataframe \n",
    "    markers = markers.reindex(columns = ['Latitude','Longitude']) #\n",
    "    markers = markers.to_records(index=False) #output array\n",
    "    markers = list (markers) #output list of tuples\n",
    "    markers = [list(i) for i in markers] # list of lists\n",
    "    return markers\n"
   ]
  },
  {
   "cell_type": "code",
   "execution_count": 51,
   "metadata": {
    "hideCode": false,
    "hidePrompt": false
   },
   "outputs": [
    {
     "data": {
      "text/plain": [
       "[[48.231356, 16.373739999999998], [48.23142100000001, 16.373773]]"
      ]
     },
     "execution_count": 51,
     "metadata": {},
     "output_type": "execute_result"
    }
   ],
   "source": [
    "# calling the funnnction and checking outpu \n",
    "cat1_pos = location_converter (cat1)\n",
    "cat2_pos = location_converter (cat2)\n",
    "cat3_pos = location_converter (cat3)\n",
    "cat4_pos = location_converter (cat4)\n",
    "cat5_pos = location_converter (cat5)\n",
    "\n",
    "track_pos = location_converter (tracks)\n",
    "track_pos [0:2]"
   ]
  },
  {
   "cell_type": "code",
   "execution_count": 52,
   "metadata": {
    "hideCode": false,
    "hidePrompt": false
   },
   "outputs": [
    {
     "data": {
      "text/plain": [
       "'/Users/me/code/notebooks/ipyleaflet/observation-analysis'"
      ]
     },
     "execution_count": 52,
     "metadata": {},
     "output_type": "execute_result"
    }
   ],
   "source": [
    "import os\n",
    "os.getcwd()"
   ]
  },
  {
   "cell_type": "markdown",
   "metadata": {
    "hideCode": false,
    "hidePrompt": false
   },
   "source": [
    "## Basic Map Parameters "
   ]
  },
  {
   "cell_type": "code",
   "execution_count": 53,
   "metadata": {
    "hideCode": false,
    "hidePrompt": false
   },
   "outputs": [
    {
     "data": {
      "text/plain": [
       "'\\nalternative options for basemaps are \\nbasemap = basemaps.Stamen.Watercolor\\nbasemap = basemaps.Stamen.Toner\\nbasemap = basemaps.Stamen.Terrain\\nbasemap = basemaps.Esri.WorldStreetMap \\netc  \\n\\n'"
      ]
     },
     "execution_count": 53,
     "metadata": {},
     "output_type": "execute_result"
    }
   ],
   "source": [
    "# the centre of your map should be about the starting point of your mapping tour \n",
    "center = [48.231139, 16.374955]\n",
    "zoom =16\n",
    "\n",
    "# you can adjust the map size via ipwidgets *Layout* attribute  \n",
    "basemap = basemaps.Esri.WorldStreetMap\n",
    "layout = Layout(width='100%', height='600px')\n",
    "\n",
    "\"\"\"\n",
    "alternative options for basemaps are \n",
    "basemap = basemaps.Stamen.Watercolor\n",
    "basemap = basemaps.Stamen.Toner\n",
    "basemap = basemaps.Stamen.Terrain\n",
    "basemap = basemaps.Esri.WorldStreetMap \n",
    "etc  \n",
    "\n",
    "\"\"\""
   ]
  },
  {
   "cell_type": "markdown",
   "metadata": {
    "hideCode": false,
    "hidePrompt": false
   },
   "source": [
    "## Basic Map "
   ]
  },
  {
   "cell_type": "code",
   "execution_count": 54,
   "metadata": {},
   "outputs": [],
   "source": [
    "if m: m.clear_layers()"
   ]
  },
  {
   "cell_type": "code",
   "execution_count": 55,
   "metadata": {
    "hideCode": false,
    "hidePrompt": false,
    "scrolled": true
   },
   "outputs": [
    {
     "data": {
      "application/vnd.jupyter.widget-view+json": {
       "model_id": "d2f0740865714c09abbfa4d10aa107ea",
       "version_major": 2,
       "version_minor": 0
      },
      "text/plain": [
       "Map(center=[48.231139, 16.374955], controls=(ZoomControl(options=['position', 'zoom_in_text', 'zoom_in_title',…"
      ]
     },
     "metadata": {},
     "output_type": "display_data"
    }
   ],
   "source": [
    "m = Map(center=center, zoom=zoom, basemap = basemap, layout=layout)\n",
    "\n",
    "# add user interaction / user information such as the scale of a map \n",
    "zoom_slider = IntSlider(description='Zoom level:', min=10, max=20, value=16)\n",
    "jslink((zoom_slider, 'value'), (m, 'zoom'))\n",
    "\n",
    "widget_control1 = WidgetControl(widget=zoom_slider, position='topright')\n",
    "m.add_control(widget_control1)\n",
    "m.add_control(FullScreenControl())\n",
    "m.add_control(ScaleControl(position='bottomleft', imperial = False))\n",
    "m.add_control(LayersControl(position='topright'))\n",
    "\n",
    "# this adds a nice feature to meassure the length of a path or a polygone area in square meters \n",
    "measure = MeasureControl(\n",
    "    position='bottomleft',\n",
    "    active_color = 'orange',\n",
    "    primary_length_unit = 'meters',\n",
    "    primary_area_unit = 'sqmeters',\n",
    "    completed_color = 'blue'\n",
    ")\n",
    "m.add_control(measure)\n",
    "display (m)"
   ]
  },
  {
   "cell_type": "markdown",
   "metadata": {
    "hideCode": false,
    "hidePrompt": false
   },
   "source": [
    "## Adding categories 1-5 to the map "
   ]
  },
  {
   "cell_type": "code",
   "execution_count": 56,
   "metadata": {},
   "outputs": [
    {
     "data": {
      "text/plain": [
       "'\\ntry: \\n    print(\"File exist: \", os.path.isfile(foot_icon))\\nexcept:\\n    print(foot_icon)\\n'"
      ]
     },
     "execution_count": 56,
     "metadata": {},
     "output_type": "execute_result"
    }
   ],
   "source": [
    "# Mapping categories with Icons \n",
    "\n",
    "\n",
    "#for jupyter notebook \n",
    "icon_1 = Icon(icon_url= 'icons/gastro/gastro_green.png', icon_size=[30, 35]) \n",
    "icon_2 = Icon(icon_url= 'icons/gastro/gastro_orange.png', icon_size=[30, 35]) \n",
    "icon_3 = Icon(icon_url= 'icons/gastro/gastro_red.png', icon_size=[30, 40]) \n",
    "icon_4 = Icon(icon_url= 'icons/gastro/gastro_grey.png', icon_size=[30, 40]) \n",
    "icon_5 = Icon(icon_url= 'icons/gastro/gastro_black.png', icon_size=[30, 40]) \n",
    "\n",
    "'''\n",
    "#accessing icons in jupyter labs, requires a different paths  \n",
    "trash_icon = Icon(icon_url='files/'+os.getcwd().split('/')[-1]+'/icons/trashbin.png', icon_size=[30, 40])\n",
    "tree_icon = Icon(icon_url='files/'+os.getcwd().split('/')[-1]+'/icons/tree.png', icon_size=[30, 40])\n",
    "'''\n",
    "#external icons \n",
    "#icon = Icon(icon_url='https://leafletjs.com/examples/custom-icons/leaf-green.png', icon_size=[38, 95], icon_anchor=[22,94])\n",
    "# Just to see what os.path returns? \n",
    "'''\n",
    "try: \n",
    "    print(\"File exist: \", os.path.isfile(foot_icon))\n",
    "except:\n",
    "    print(foot_icon)\n",
    "'''"
   ]
  },
  {
   "cell_type": "code",
   "execution_count": 57,
   "metadata": {
    "hideCode": false,
    "hidePrompt": false
   },
   "outputs": [
    {
     "data": {
      "application/vnd.jupyter.widget-view+json": {
       "model_id": "d2f0740865714c09abbfa4d10aa107ea",
       "version_major": 2,
       "version_minor": 0
      },
      "text/plain": [
       "Map(bottom=5816168.0, center=[48.231139, 16.374955], controls=(ZoomControl(options=['position', 'zoom_in_text'…"
      ]
     },
     "metadata": {},
     "output_type": "display_data"
    }
   ],
   "source": [
    "#trash_icon = AwesomeIcon (name='trash', marker_color='white', icon_color='black', spin=True)\n",
    "#trash_icon = Icon(icon_url='https://leafletjs.com/examples/custom-icons/leaf-red.png', icon_size=[25, 40]) #red, green, yellow\n",
    "\n",
    "for i in range(len(cat1_pos)):\n",
    "    cat1_marker  = Marker(location=cat1_pos[i], icon = icon_1)\n",
    "    m.add_layer(cat1_marker);\n",
    "    \n",
    "for i in range(len(cat2_pos)):\n",
    "    cat2_marker  = Marker(location=cat2_pos[i], icon = icon_2)\n",
    "    m.add_layer(cat2_marker);\n",
    "\n",
    "for i in range(len(cat3_pos)):\n",
    "    cat3_marker  = Marker(location=cat3_pos[i], icon = icon_3)\n",
    "    m.add_layer(cat3_marker);\n",
    "    \n",
    "for i in range(len(cat4_pos)):\n",
    "    cat4_marker  = Marker(location=cat4_pos[i], icon = icon_4)\n",
    "    m.add_layer(cat4_marker);\n",
    "    \n",
    "for i in range(len(cat5_pos)):\n",
    "    cat5_marker  = Marker(location=cat5_pos[i], icon = icon_5)\n",
    "    m.add_layer(cat5_marker);\n",
    "    \n",
    "    \n",
    "    \n",
    " # creating the path of the mapping exercise \n",
    "\n",
    "''' \n",
    "# https://www.rapidtables.com/web/color/Gold_Color.html \n",
    "# grey antz path \n",
    "    color='#D3D3D3',\n",
    "    pulse_color='#A9A9A9',\n",
    "    \n",
    "# golden antv path\n",
    "    color='#FAFAD2',\n",
    "    pulse_color='#FFD700',\n",
    "'''  \n",
    "    \n",
    "ant_path = AntPath (\n",
    "    locations=track_pos,     \n",
    "    dash_array=[1, 10],\n",
    "    delay=2000,\n",
    "    color='#A0522D',\n",
    "    pulse_color='#FFD700',\n",
    "    name='Trail')\n",
    "\n",
    "m.add_layer(ant_path)\n",
    "\n",
    "display (m) "
   ]
  },
  {
   "cell_type": "code",
   "execution_count": null,
   "metadata": {
    "hideCode": false,
    "hidePrompt": false
   },
   "outputs": [],
   "source": [
    "# creating the path of the mapping exercise \n",
    "\n",
    "ant_path = AntPath (\n",
    "    locations=track_pos,     \n",
    "    dash_array=[1, 10],\n",
    "    delay=2000,\n",
    "    color='#7590ba',\n",
    "    pulse_color='#3f6fba',\n",
    "    name='Trail')\n",
    "\n",
    "m.add_layer(ant_path)\n",
    "\n",
    "display (m) "
   ]
  },
  {
   "cell_type": "markdown",
   "metadata": {
    "hideCode": false,
    "hidePrompt": false
   },
   "source": [
    "## Create a Split Map "
   ]
  },
  {
   "cell_type": "code",
   "execution_count": 58,
   "metadata": {
    "hideCode": false,
    "hidePrompt": false
   },
   "outputs": [
    {
     "data": {
      "application/vnd.jupyter.widget-view+json": {
       "model_id": "00c738ca792c4142bb21452769dc5928",
       "version_major": 2,
       "version_minor": 0
      },
      "text/plain": [
       "Map(center=[48.231139, 16.374955], controls=(ZoomControl(options=['position', 'zoom_in_text', 'zoom_in_title',…"
      ]
     },
     "metadata": {},
     "output_type": "display_data"
    }
   ],
   "source": [
    "basemap = basemaps.Esri.WorldStreetMap\n",
    "split_map = Map(center=center, zoom=zoom, layout=layout)\n",
    "\n",
    "# create right and left layers\n",
    "left_layer  = basemap_to_tiles(basemap=basemap)\n",
    "right_layer = basemap_to_tiles(basemap=basemaps.Stamen.Toner) \n",
    "\n",
    "# create split control\n",
    "control = SplitMapControl(left_layer=left_layer, right_layer=right_layer)\n",
    "\n",
    "#add control to map\n",
    "split_map.add_control(control)\n",
    "\n",
    "# display map\n",
    "\n",
    "zoom_slider = IntSlider(description='Zoom level:', min=10, max=20, value=16)\n",
    "jslink((zoom_slider, 'value'), (m, 'zoom'))\n",
    "\n",
    "widget_control1 = WidgetControl(widget=zoom_slider, position='topright')\n",
    "split_map.add_control(widget_control1)\n",
    "split_map.add_control(FullScreenControl())\n",
    "split_map.add_control(ScaleControl(position='bottomleft', imperial = False))\n",
    "split_map.add_control(LayersControl(position='topright')) \n",
    "\n",
    "display(split_map)"
   ]
  },
  {
   "cell_type": "markdown",
   "metadata": {
    "hideCode": false,
    "hidePrompt": false
   },
   "source": [
    "## The resulting HTML file should be visible in any browser (however, icons will be missing - fixible)"
   ]
  },
  {
   "cell_type": "code",
   "execution_count": 59,
   "metadata": {
    "hideCode": false,
    "hidePrompt": false
   },
   "outputs": [],
   "source": [
    "m.save('my_map.html', title='My Map')"
   ]
  },
  {
   "cell_type": "markdown",
   "metadata": {
    "hideCode": false,
    "hidePrompt": false
   },
   "source": [
    "## Integrating a different basemap with more details "
   ]
  },
  {
   "cell_type": "code",
   "execution_count": 60,
   "metadata": {
    "hideCode": false,
    "hidePrompt": false,
    "scrolled": true
   },
   "outputs": [
    {
     "data": {
      "application/vnd.jupyter.widget-view+json": {
       "model_id": "d2f0740865714c09abbfa4d10aa107ea",
       "version_major": 2,
       "version_minor": 0
      },
      "text/plain": [
       "Map(bottom=5816253.0, center=[48.22991877252987, 16.37218236923218], controls=(ZoomControl(options=['position'…"
      ]
     },
     "metadata": {},
     "output_type": "display_data"
    }
   ],
   "source": [
    "from ipyleaflet import Map, WMSLayer, basemaps\n",
    "#wmts = \"http://maps.wien.gv.at/basemap/geolandbasemap/normal/google3857/{z}/{y}/{x}.png\"\n",
    "\n",
    "wms = WMSLayer(\n",
    "    url='http://maps.wien.gv.at/basemap/geolandbasemap/normal/google3857/{z}/{y}/{x}.png',\n",
    "    format='image/png',\n",
    "    transparent=True,\n",
    "    attribution='wait'\n",
    ")\n",
    "\n",
    "m.add_layer(wms)\n",
    "\n",
    "m"
   ]
  },
  {
   "cell_type": "markdown",
   "metadata": {
    "hideCode": false,
    "hidePrompt": false
   },
   "source": [
    "## For later: Experimenting with coloring regions or neighborhoods "
   ]
  },
  {
   "cell_type": "code",
   "execution_count": null,
   "metadata": {
    "hideCode": false,
    "hidePrompt": false
   },
   "outputs": [],
   "source": [
    "import csv \n",
    "from collections import defaultdict"
   ]
  },
  {
   "cell_type": "code",
   "execution_count": null,
   "metadata": {
    "hideCode": false,
    "hidePrompt": false
   },
   "outputs": [],
   "source": [
    "#the syntax is: mydict[key] = \"value\"\n",
    "#mydict [\"iphone 5S\"] = 2013\n",
    "\n",
    "def parse_csv_by_field(filename, fieldnames):\n",
    "    print(fieldnames)\n",
    "    d = defaultdict(list)\n",
    "    with open(filename, newline='') as csvfile:\n",
    "        reader = csv.DictReader(csvfile, fieldnames)\n",
    "        next(reader)  # remove header\n",
    "        for row in reader:\n",
    "            d[row ['bundesland']] = int (row ['measurement'])\n",
    "    return dict(d)\n",
    "\n",
    "\n",
    "area_data = parse_csv_by_field('data/area_data.csv', ['bundesland','measurement'])\n",
    "area_data \n",
    " \n",
    "    "
   ]
  },
  {
   "cell_type": "code",
   "execution_count": null,
   "metadata": {
    "hideCode": false,
    "hidePrompt": false
   },
   "outputs": [],
   "source": [
    "m.clear_layers()"
   ]
  },
  {
   "cell_type": "raw",
   "metadata": {
    "hideCode": false,
    "hidePrompt": false
   },
   "source": [
    "geo_json_borders\n",
    "\n",
    "{'type': 'FeatureCollection',\n",
    " 'name': 'gemeinden_999_geo',\n",
    " 'crs': {'type': 'name',\n",
    "  'properties': {'name': 'urn:ogc:def:crs:OGC:1.3:CRS84'}},\n",
    " 'features': [{'type': 'Feature',\n",
    "   'properties': {'name': 'Pöttsching', 'iso': '10609'},\n",
    "   'geometry': {'type': 'MultiPolygon',\n",
    "    'coordinates': [[[[16.404354111718263, 47.79918128500937],\n",
    "       [16.400857594414486, 47.79178318259396],\n",
    "       [16.370098559225617, 47.75647909430695],\n",
    "       [16.36178609891293, 47.750404442983026],\n",
    "       [16.337313248332276, 47.775956948979676],"
   ]
  },
  {
   "cell_type": "code",
   "execution_count": null,
   "metadata": {
    "hideCode": false,
    "hidePrompt": false
   },
   "outputs": [],
   "source": [
    "import geopandas as gpd\n",
    "import json \n",
    "states = gpd.read_file('geojson/laender.json')\n",
    "print(states.head())"
   ]
  },
  {
   "cell_type": "raw",
   "metadata": {
    "hideCode": false,
    "hidePrompt": false
   },
   "source": [
    "borders1 = 'geojson/bezirke_vienna.json'\n",
    "borders2 = 'geojson/gemeinden_999_geo.json'\n",
    "borders3 = 'geojson/laender.json'\n",
    "\n",
    "with open(borders3) as f:\n",
    "    geo_json_borders = json.load(f)\n",
    "\n",
    "wms = WMSLayer(\n",
    "    url='http://maps.wien.gv.at/basemap/geolandbasemap/normal/google3857/{z}/{y}/{x}.png',\n",
    "    format='image/png',\n",
    "    transparent=True,\n",
    "    attribution='wait'\n",
    ")\n",
    "\n",
    "\n",
    "m = Map(center=center, zoom=12, layout=Layout(width='100%', height='600px'))\n",
    "\n",
    "'''\n",
    "border_layer = GeoJSON(data=geo_json_borders,\n",
    "                                 style = {'color': 'red', \n",
    "                                          'opacity': 1.0, \n",
    "                                          'weight': 2.9,\n",
    "                                          'fill': 'blue',\n",
    "                                          'fillOpacity': 0.2})\n",
    "'''\n",
    "\n",
    "layer = Choropleth(\n",
    "    geo_data=geo_json_borders,\n",
    "    choro_data=area_data,\n",
    "    key_on= 'iso',\n",
    "    colormap=linear.YlOrRd_04,\n",
    "    border_color='black',\n",
    "    style={'fillOpacity': 0.8, 'dashArray': '5, 5'})\n",
    "\n",
    "\n",
    "m.add_layer(wms)\n",
    "m.add_layer(border_layer)\n",
    "\n",
    "m"
   ]
  },
  {
   "cell_type": "code",
   "execution_count": null,
   "metadata": {
    "hideCode": false,
    "hidePrompt": false
   },
   "outputs": [],
   "source": [
    "geo_json_borders ['features'] [0] ['properties'] ['name']"
   ]
  },
  {
   "cell_type": "code",
   "execution_count": null,
   "metadata": {
    "hideCode": false,
    "hidePrompt": false
   },
   "outputs": [],
   "source": []
  }
 ],
 "metadata": {
  "hide_code_all_hidden": false,
  "hide_input": false,
  "kernelspec": {
   "display_name": "ipyleaflet",
   "language": "python",
   "name": "ipyleaflet"
  },
  "language_info": {
   "codemirror_mode": {
    "name": "ipython",
    "version": 3
   },
   "file_extension": ".py",
   "mimetype": "text/x-python",
   "name": "python",
   "nbconvert_exporter": "python",
   "pygments_lexer": "ipython3",
   "version": "3.8.1"
  },
  "toc": {
   "base_numbering": 1,
   "nav_menu": {},
   "number_sections": true,
   "sideBar": true,
   "skip_h1_title": false,
   "title_cell": "Table of Contents",
   "title_sidebar": "Contents",
   "toc_cell": true,
   "toc_position": {
    "height": "calc(100% - 180px)",
    "left": "10px",
    "top": "150px",
    "width": "288px"
   },
   "toc_section_display": true,
   "toc_window_display": false
  },
  "widgets": {
   "application/vnd.jupyter.widget-state+json": {
    "state": {
     "03ea9c84d99049c1bda4bd2715f09d21": {
      "model_module": "jupyter-leaflet",
      "model_module_version": "^0.13.2",
      "model_name": "LeafletMarkerModel",
      "state": {
       "_model_module_version": "^0.13.2",
       "_view_module_version": "^0.13.2",
       "icon": "IPY_MODEL_5833167c73d3404db75d5aa659a93618",
       "location": [
        48.229406,
        16.371234
       ],
       "options": [
        "alt",
        "draggable",
        "keyboard",
        "rise_offset",
        "rise_on_hover",
        "rotation_angle",
        "rotation_origin",
        "title",
        "z_index_offset"
       ]
      }
     },
     "069c1881cf5e4e3581ef14ac1f77f789": {
      "model_module": "jupyter-leaflet",
      "model_module_version": "^0.13.2",
      "model_name": "LeafletMarkerModel",
      "state": {
       "_model_module_version": "^0.13.2",
       "_view_module_version": "^0.13.2",
       "icon": "IPY_MODEL_38252593e31f4243b6e5a1ee8768cd91",
       "location": [
        48.230563000000004,
        16.375514000000003
       ],
       "options": [
        "alt",
        "draggable",
        "keyboard",
        "rise_offset",
        "rise_on_hover",
        "rotation_angle",
        "rotation_origin",
        "title",
        "z_index_offset"
       ]
      }
     },
     "08c6fe21aa5149f2b81093b404353b9a": {
      "model_module": "@jupyter-widgets/controls",
      "model_module_version": "1.5.0",
      "model_name": "LinkModel",
      "state": {
       "source": [
        "IPY_MODEL_d62d0ef0224c438a92da86eda4f409f7",
        "value"
       ],
       "target": [
        "IPY_MODEL_47a386390fde48918ca9ad01d917c6c2",
        "zoom"
       ]
      }
     },
     "0923c4f3abe34e9ca493da2cc1977163": {
      "model_module": "@jupyter-widgets/controls",
      "model_module_version": "1.5.0",
      "model_name": "SliderStyleModel",
      "state": {
       "description_width": ""
      }
     },
     "09715252ea1242ec9edd21244ae4aaa8": {
      "model_module": "jupyter-leaflet",
      "model_module_version": "^0.13.2",
      "model_name": "LeafletFullScreenControlModel",
      "state": {
       "_model_module_version": "^0.13.2",
       "_view_module_version": "^0.13.2",
       "options": [
        "position"
       ]
      }
     },
     "0b1a7f1f41f943149262ae127c38ffc7": {
      "model_module": "jupyter-leaflet",
      "model_module_version": "^0.13.2",
      "model_name": "LeafletSplitMapControlModel",
      "state": {
       "_model_module_version": "^0.13.2",
       "_model_name": "LeafletSplitMapControlModel",
       "_view_module_version": "^0.13.2",
       "_view_name": "LeafletSplitMapControlView",
       "left_layer": "IPY_MODEL_ffa6ee13b4ef48dd84294be5943a2f4e",
       "options": [
        "position"
       ],
       "right_layer": "IPY_MODEL_8a170d34ffdd41a7bee420a2cdd9c2cb"
      }
     },
     "0bbb15bee07b4731906638d84bceb499": {
      "model_module": "jupyter-leaflet",
      "model_module_version": "^0.13.2",
      "model_name": "LeafletMarkerModel",
      "state": {
       "_model_module_version": "^0.13.2",
       "_view_module_version": "^0.13.2",
       "icon": "IPY_MODEL_38252593e31f4243b6e5a1ee8768cd91",
       "location": [
        48.229986,
        16.371497
       ],
       "options": [
        "alt",
        "draggable",
        "keyboard",
        "rise_offset",
        "rise_on_hover",
        "rotation_angle",
        "rotation_origin",
        "title",
        "z_index_offset"
       ]
      }
     },
     "1321b353fd0e479ca0813af7f56cdc89": {
      "model_module": "jupyter-leaflet",
      "model_module_version": "^0.13.2",
      "model_name": "LeafletMapStyleModel",
      "state": {
       "_model_module_version": "^0.13.2"
      }
     },
     "140f083a6ae04024ac281f1884d99ef3": {
      "model_module": "@jupyter-widgets/controls",
      "model_module_version": "1.5.0",
      "model_name": "LinkModel",
      "state": {
       "source": [
        "IPY_MODEL_cc3139c81f2f4ebbbb1ef597cd57e69a",
        "value"
       ],
       "target": [
        "IPY_MODEL_47a386390fde48918ca9ad01d917c6c2",
        "zoom"
       ]
      }
     },
     "1780ebd9e7554435b3682b0ddd267346": {
      "model_module": "jupyter-leaflet",
      "model_module_version": "^0.13.2",
      "model_name": "LeafletMapStyleModel",
      "state": {
       "_model_module_version": "^0.13.2",
       "cursor": "move"
      }
     },
     "19fa6f3416df4a199649165ccae72eb8": {
      "model_module": "@jupyter-widgets/base",
      "model_module_version": "1.2.0",
      "model_name": "LayoutModel",
      "state": {}
     },
     "1aec900f0c894fe0a2139c92704829b9": {
      "model_module": "jupyter-leaflet",
      "model_module_version": "^0.13.2",
      "model_name": "LeafletMarkerModel",
      "state": {
       "_model_module_version": "^0.13.2",
       "_view_module_version": "^0.13.2",
       "icon": "IPY_MODEL_5bd13314aaef47c9a3a1238367a34716",
       "location": [
        48.229673999999996,
        16.370348
       ],
       "options": [
        "alt",
        "draggable",
        "keyboard",
        "rise_offset",
        "rise_on_hover",
        "rotation_angle",
        "rotation_origin",
        "title",
        "z_index_offset"
       ]
      }
     },
     "1e8431743a7b4a4a9a0c40d1757c137d": {
      "model_module": "jupyter-leaflet",
      "model_module_version": "^0.13.2",
      "model_name": "LeafletMarkerModel",
      "state": {
       "_model_module_version": "^0.13.2",
       "_view_module_version": "^0.13.2",
       "icon": "IPY_MODEL_5833167c73d3404db75d5aa659a93618",
       "location": [
        48.231079,
        16.374826000000002
       ],
       "options": [
        "alt",
        "draggable",
        "keyboard",
        "rise_offset",
        "rise_on_hover",
        "rotation_angle",
        "rotation_origin",
        "title",
        "z_index_offset"
       ]
      }
     },
     "210c6a3f6c554f79a32024a66b60946d": {
      "model_module": "jupyter-leaflet",
      "model_module_version": "^0.13.2",
      "model_name": "LeafletWidgetControlModel",
      "state": {
       "_model_module": "jupyter-leaflet",
       "_model_module_version": "^0.13.2",
       "_view_count": null,
       "_view_module": "jupyter-leaflet",
       "_view_module_version": "^0.13.2",
       "options": [
        "position"
       ],
       "position": "topright",
       "widget": "IPY_MODEL_d62d0ef0224c438a92da86eda4f409f7"
      }
     },
     "2184b89979c9424dad698db56a83f1a7": {
      "model_module": "jupyter-leaflet",
      "model_module_version": "^0.13.2",
      "model_name": "LeafletMarkerModel",
      "state": {
       "_model_module_version": "^0.13.2",
       "_view_module_version": "^0.13.2",
       "icon": "IPY_MODEL_b5a28740d5424d7eba19955d171444f4",
       "location": [
        48.229118,
        16.370892
       ],
       "options": [
        "alt",
        "draggable",
        "keyboard",
        "rise_offset",
        "rise_on_hover",
        "rotation_angle",
        "rotation_origin",
        "title",
        "z_index_offset"
       ]
      }
     },
     "23abe83dc2bc4f91b1276290f5976fac": {
      "model_module": "jupyter-leaflet",
      "model_module_version": "^0.13.2",
      "model_name": "LeafletMarkerModel",
      "state": {
       "_model_module_version": "^0.13.2",
       "_view_module_version": "^0.13.2",
       "icon": "IPY_MODEL_5bd13314aaef47c9a3a1238367a34716",
       "location": [
        48.230596999999996,
        16.373124
       ],
       "options": [
        "alt",
        "draggable",
        "keyboard",
        "rise_offset",
        "rise_on_hover",
        "rotation_angle",
        "rotation_origin",
        "title",
        "z_index_offset"
       ]
      }
     },
     "24caeb048661413e90cad11121bcc317": {
      "model_module": "jupyter-leaflet",
      "model_module_version": "^0.13.2",
      "model_name": "LeafletZoomControlModel",
      "state": {
       "_model_module_version": "^0.13.2",
       "_view_module_version": "^0.13.2",
       "options": [
        "position",
        "zoom_in_text",
        "zoom_in_title",
        "zoom_out_text",
        "zoom_out_title"
       ]
      }
     },
     "24dbff4315f641d9b95672fe13bc600a": {
      "model_module": "jupyter-leaflet",
      "model_module_version": "^0.13.2",
      "model_name": "LeafletMarkerModel",
      "state": {
       "_model_module_version": "^0.13.2",
       "_view_module_version": "^0.13.2",
       "icon": "IPY_MODEL_5833167c73d3404db75d5aa659a93618",
       "location": [
        48.231858,
        16.374661
       ],
       "options": [
        "alt",
        "draggable",
        "keyboard",
        "rise_offset",
        "rise_on_hover",
        "rotation_angle",
        "rotation_origin",
        "title",
        "z_index_offset"
       ]
      }
     },
     "274fb1a0482e44e38e927ed7abf45b94": {
      "model_module": "jupyter-leaflet",
      "model_module_version": "^0.13.2",
      "model_name": "LeafletMarkerModel",
      "state": {
       "_model_module_version": "^0.13.2",
       "_view_module_version": "^0.13.2",
       "icon": "IPY_MODEL_b5a28740d5424d7eba19955d171444f4",
       "location": [
        48.229406,
        16.371234
       ],
       "options": [
        "alt",
        "draggable",
        "keyboard",
        "rise_offset",
        "rise_on_hover",
        "rotation_angle",
        "rotation_origin",
        "title",
        "z_index_offset"
       ]
      }
     },
     "2a7cee85e2e04bd28cd609d6b93fff66": {
      "model_module": "jupyter-leaflet",
      "model_module_version": "^0.13.2",
      "model_name": "LeafletMarkerModel",
      "state": {
       "_model_module_version": "^0.13.2",
       "_view_module_version": "^0.13.2",
       "icon": "IPY_MODEL_38252593e31f4243b6e5a1ee8768cd91",
       "options": [
        "alt",
        "draggable",
        "keyboard",
        "rise_offset",
        "rise_on_hover",
        "rotation_angle",
        "rotation_origin",
        "title",
        "z_index_offset"
       ]
      }
     },
     "349e1e7000ab41da8b34cac1cffc6f72": {
      "model_module": "jupyter-leaflet",
      "model_module_version": "^0.13.2",
      "model_name": "LeafletLayersControlModel",
      "state": {
       "_model_module_version": "^0.13.2",
       "_view_module_version": "^0.13.2",
       "options": [
        "position"
       ],
       "position": "topright"
      }
     },
     "37956e6082674616ab2050fc2a4d484d": {
      "model_module": "jupyter-leaflet",
      "model_module_version": "^0.13.2",
      "model_name": "LeafletMarkerModel",
      "state": {
       "_model_module_version": "^0.13.2",
       "_view_module_version": "^0.13.2",
       "icon": "IPY_MODEL_5833167c73d3404db75d5aa659a93618",
       "location": [
        48.230641999999996,
        16.37363
       ],
       "options": [
        "alt",
        "draggable",
        "keyboard",
        "rise_offset",
        "rise_on_hover",
        "rotation_angle",
        "rotation_origin",
        "title",
        "z_index_offset"
       ]
      }
     },
     "37c2061d5c9b4f2b975a5c1ded3b8035": {
      "model_module": "jupyter-leaflet",
      "model_module_version": "^0.13.2",
      "model_name": "LeafletMarkerModel",
      "state": {
       "_model_module_version": "^0.13.2",
       "_view_module_version": "^0.13.2",
       "icon": "IPY_MODEL_5bd13314aaef47c9a3a1238367a34716",
       "location": [
        48.230903999999995,
        16.373520000000003
       ],
       "options": [
        "alt",
        "draggable",
        "keyboard",
        "rise_offset",
        "rise_on_hover",
        "rotation_angle",
        "rotation_origin",
        "title",
        "z_index_offset"
       ]
      }
     },
     "38252593e31f4243b6e5a1ee8768cd91": {
      "model_module": "jupyter-leaflet",
      "model_module_version": "^0.13.2",
      "model_name": "LeafletIconModel",
      "state": {
       "_model_module_version": "^0.13.2",
       "_view_module_version": "^0.13.2",
       "icon_size": [
        30,
        40
       ],
       "icon_url": "icons/tree.png",
       "options": [
        "icon_anchor",
        "icon_size",
        "icon_url",
        "popup_anchor",
        "shadow_anchor",
        "shadow_size",
        "shadow_url"
       ],
       "shadow_url": null
      }
     },
     "3b5c11346bbc458089be615ae60cb767": {
      "model_module": "jupyter-leaflet",
      "model_module_version": "^0.13.2",
      "model_name": "LeafletScaleControlModel",
      "state": {
       "_model_module_version": "^0.13.2",
       "_view_module_version": "^0.13.2",
       "imperial": false,
       "max_width": 100,
       "metric": true,
       "options": [
        "imperial",
        "max_width",
        "metric",
        "position",
        "update_when_idle"
       ],
       "position": "bottomleft",
       "update_when_idle": false
      }
     },
     "3bea1f30a2224bee85239cfd5b669c32": {
      "model_module": "jupyter-leaflet",
      "model_module_version": "^0.13.2",
      "model_name": "LeafletMarkerModel",
      "state": {
       "_model_module_version": "^0.13.2",
       "_view_module_version": "^0.13.2",
       "icon": "IPY_MODEL_38252593e31f4243b6e5a1ee8768cd91",
       "location": [
        48.230596999999996,
        16.373124
       ],
       "options": [
        "alt",
        "draggable",
        "keyboard",
        "rise_offset",
        "rise_on_hover",
        "rotation_angle",
        "rotation_origin",
        "title",
        "z_index_offset"
       ]
      }
     },
     "41c1d023d72b423c9d2f230abe8d9a17": {
      "model_module": "jupyter-leaflet",
      "model_module_version": "^0.13.2",
      "model_name": "LeafletAttributionControlModel",
      "state": {
       "_model_module_version": "^0.13.2",
       "_view_module_version": "^0.13.2",
       "options": [
        "position",
        "prefix"
       ],
       "position": "bottomright",
       "prefix": "ipyleaflet"
      }
     },
     "42fef0350be142a893dcc65c365f8e88": {
      "model_module": "jupyter-leaflet",
      "model_module_version": "^0.13.2",
      "model_name": "LeafletMarkerModel",
      "state": {
       "_model_module_version": "^0.13.2",
       "_view_module_version": "^0.13.2",
       "icon": "IPY_MODEL_38252593e31f4243b6e5a1ee8768cd91",
       "location": [
        48.232172999999996,
        16.374737
       ],
       "options": [
        "alt",
        "draggable",
        "keyboard",
        "rise_offset",
        "rise_on_hover",
        "rotation_angle",
        "rotation_origin",
        "title",
        "z_index_offset"
       ]
      }
     },
     "45edb9afe33a41fdadf56de5d1bbc46f": {
      "model_module": "jupyter-leaflet",
      "model_module_version": "^0.13.2",
      "model_name": "LeafletMarkerModel",
      "state": {
       "_model_module_version": "^0.13.2",
       "_view_module_version": "^0.13.2",
       "icon": "IPY_MODEL_38252593e31f4243b6e5a1ee8768cd91",
       "location": [
        48.229884000000006,
        16.371082
       ],
       "options": [
        "alt",
        "draggable",
        "keyboard",
        "rise_offset",
        "rise_on_hover",
        "rotation_angle",
        "rotation_origin",
        "title",
        "z_index_offset"
       ]
      }
     },
     "47a386390fde48918ca9ad01d917c6c2": {
      "model_module": "jupyter-leaflet",
      "model_module_version": "^0.13.2",
      "model_name": "LeafletMapModel",
      "state": {
       "_model_module_version": "^0.13.2",
       "_view_module_version": "^0.13.2",
       "bottom": 23264036,
       "center": [
        48.2301903555359,
        16.387996673583988
       ],
       "controls": [
        "IPY_MODEL_f2903822a7da4274ad5f61d0afd07f4a",
        "IPY_MODEL_dfd47f64f2a04f209b25ea9e258ed1da",
        "IPY_MODEL_210c6a3f6c554f79a32024a66b60946d",
        "IPY_MODEL_f8ce08d371c74b0380b55695c3f8056c",
        "IPY_MODEL_5b27d6b212f74171a95bab79f319cbea",
        "IPY_MODEL_c8686681d9604198b37a6d4b72ece32d",
        "IPY_MODEL_eaf8a6faaf3e4a77aa098fa92f2eb7be"
       ],
       "default_style": "IPY_MODEL_48e54dd4b8034d6bb30ebf0d69d0bd43",
       "dragging_style": "IPY_MODEL_d3e9763ebc05443b8b12ed588a8ba1cf",
       "east": 16.39140844345093,
       "fullscreen": false,
       "interpolation": "bilinear",
       "layers": [
        "IPY_MODEL_f68a4970fc4d4555a7a0392153757797",
        "IPY_MODEL_fb04f1f4ee0241a09b629cff3e683797",
        "IPY_MODEL_8c263242e04f4086a5bfcfd8017a0ce0",
        "IPY_MODEL_4d002d9522be4416bf87646f66e939fb",
        "IPY_MODEL_03ea9c84d99049c1bda4bd2715f09d21",
        "IPY_MODEL_5f2f4e3c7e3743d19b069b4c6fbd51e8",
        "IPY_MODEL_37956e6082674616ab2050fc2a4d484d",
        "IPY_MODEL_1e8431743a7b4a4a9a0c40d1757c137d",
        "IPY_MODEL_24dbff4315f641d9b95672fe13bc600a",
        "IPY_MODEL_5510dc211e4841dfa25760ab8ab113bd",
        "IPY_MODEL_37c2061d5c9b4f2b975a5c1ded3b8035",
        "IPY_MODEL_eddbdc4405c847428d10b84b12ad9f53",
        "IPY_MODEL_4ffa2eb3e8fe4bf4b70d0ebf0998b067",
        "IPY_MODEL_6fce4632d1074093a3fa8bf9273afd0a",
        "IPY_MODEL_1aec900f0c894fe0a2139c92704829b9",
        "IPY_MODEL_e1961664f9834146864765313858099d",
        "IPY_MODEL_6890a3ee6e854f00ae7e663c07d558f0",
        "IPY_MODEL_23abe83dc2bc4f91b1276290f5976fac",
        "IPY_MODEL_962d925f4b6547f8a3a9c79e2b8ac099",
        "IPY_MODEL_b586481622f74ff5a7557f42caf38dcb",
        "IPY_MODEL_9ab149a00dd8493490805273ce0016d5",
        "IPY_MODEL_e5b31e4a9db043acb290669fca3e0cae",
        "IPY_MODEL_8f54340a9b4d4e59b8181c3376580f90",
        "IPY_MODEL_fac86cf2983944dd93bef683fdc22625",
        "IPY_MODEL_e37e7b45818d4d318422626ed7c2da66",
        "IPY_MODEL_87cef8a33bd74d0c8131a6873181f770",
        "IPY_MODEL_2184b89979c9424dad698db56a83f1a7",
        "IPY_MODEL_274fb1a0482e44e38e927ed7abf45b94",
        "IPY_MODEL_dc1f483eb69f4007ab8e2a3b54e1e68e",
        "IPY_MODEL_fc254be5d4cf46459d8d439b0402a0b1",
        "IPY_MODEL_ee0f1d47add74f3dbe6b70667fdec3e0",
        "IPY_MODEL_a2db8249f631460eaa12fcafc791dd2b",
        "IPY_MODEL_2a7cee85e2e04bd28cd609d6b93fff66",
        "IPY_MODEL_7ab61395c9d74b0aaf2aa43c513037d9",
        "IPY_MODEL_45edb9afe33a41fdadf56de5d1bbc46f",
        "IPY_MODEL_d9edfad46a504ae4a92a90a1f38d455d",
        "IPY_MODEL_f1a4b800dd8f4f3f9e45bec037b77f6a",
        "IPY_MODEL_4d697c6f07334d6197a9b5d82489fb41",
        "IPY_MODEL_9878451671da422aa9fa49c8e3a37b65",
        "IPY_MODEL_0bbb15bee07b4731906638d84bceb499",
        "IPY_MODEL_3bea1f30a2224bee85239cfd5b669c32",
        "IPY_MODEL_e2c91cd8969a4576a0305d5e94eeca27",
        "IPY_MODEL_069c1881cf5e4e3581ef14ac1f77f789",
        "IPY_MODEL_d3a37c974bcb4981a60d9985b0d5b334",
        "IPY_MODEL_42fef0350be142a893dcc65c365f8e88",
        "IPY_MODEL_7aaf92246c4647c19bbd8935a42d9128",
        "IPY_MODEL_52bf822593aa42db999026f15d1b70fb"
       ],
       "layout": "IPY_MODEL_e85d863c4d694aea89ea7107c11c240f",
       "left": 36608742,
       "modisdate": "yesterday",
       "north": 48.231262379644015,
       "options": [
        "bounce_at_zoom_limits",
        "box_zoom",
        "center",
        "close_popup_on_click",
        "double_click_zoom",
        "dragging",
        "fullscreen",
        "inertia",
        "inertia_deceleration",
        "inertia_max_speed",
        "interpolation",
        "keyboard",
        "keyboard_pan_offset",
        "keyboard_zoom_offset",
        "max_zoom",
        "min_zoom",
        "scroll_wheel_zoom",
        "tap",
        "tap_tolerance",
        "touch_zoom",
        "world_copy_jump",
        "zoom",
        "zoom_animation_threshold",
        "zoom_delta",
        "zoom_snap",
        "zoom_start"
       ],
       "right": 36610012,
       "south": 48.22911830896992,
       "style": "IPY_MODEL_48e54dd4b8034d6bb30ebf0d69d0bd43",
       "top": 23263436,
       "west": 16.384595632553104,
       "window_url": "http://localhost:8888/lab#Reading-the-data-as-provided-by-the-gadget-(there-are-always-two-types-of-files---tracks-and-ratings-of-spots)",
       "zoom": 18
      }
     },
     "48e54dd4b8034d6bb30ebf0d69d0bd43": {
      "model_module": "jupyter-leaflet",
      "model_module_version": "^0.13.2",
      "model_name": "LeafletMapStyleModel",
      "state": {
       "_model_module_version": "^0.13.2"
      }
     },
     "4a9c2a62ee0d4b8f96d76d764a89ebbf": {
      "model_module": "jupyter-leaflet",
      "model_module_version": "^0.13.2",
      "model_name": "LeafletTileLayerModel",
      "state": {
       "_model_module_version": "^0.13.2",
       "_view_module_version": "^0.13.2",
       "base": true,
       "max_native_zoom": 18,
       "max_zoom": 19,
       "min_native_zoom": 0,
       "min_zoom": 1,
       "options": [
        "attribution",
        "detect_retina",
        "max_native_zoom",
        "max_zoom",
        "min_native_zoom",
        "min_zoom",
        "no_wrap",
        "tile_size",
        "tms"
       ]
      }
     },
     "4d002d9522be4416bf87646f66e939fb": {
      "model_module": "jupyter-leaflet",
      "model_module_version": "^0.13.2",
      "model_name": "LeafletMarkerModel",
      "state": {
       "_model_module_version": "^0.13.2",
       "_view_module_version": "^0.13.2",
       "icon": "IPY_MODEL_5833167c73d3404db75d5aa659a93618",
       "location": [
        48.229118,
        16.370892
       ],
       "options": [
        "alt",
        "draggable",
        "keyboard",
        "rise_offset",
        "rise_on_hover",
        "rotation_angle",
        "rotation_origin",
        "title",
        "z_index_offset"
       ]
      }
     },
     "4d697c6f07334d6197a9b5d82489fb41": {
      "model_module": "jupyter-leaflet",
      "model_module_version": "^0.13.2",
      "model_name": "LeafletMarkerModel",
      "state": {
       "_model_module_version": "^0.13.2",
       "_view_module_version": "^0.13.2",
       "icon": "IPY_MODEL_38252593e31f4243b6e5a1ee8768cd91",
       "location": [
        48.229673999999996,
        16.370348
       ],
       "options": [
        "alt",
        "draggable",
        "keyboard",
        "rise_offset",
        "rise_on_hover",
        "rotation_angle",
        "rotation_origin",
        "title",
        "z_index_offset"
       ]
      }
     },
     "4df06b38ae644247bb07b38dbb02c772": {
      "model_module": "@jupyter-widgets/base",
      "model_module_version": "1.2.0",
      "model_name": "LayoutModel",
      "state": {}
     },
     "4e98cd6733c34184ad7b35fdc6248062": {
      "model_module": "jupyter-leaflet",
      "model_module_version": "^0.13.2",
      "model_name": "LeafletFullScreenControlModel",
      "state": {
       "_model_module_version": "^0.13.2",
       "_view_module_version": "^0.13.2",
       "options": [
        "position"
       ]
      }
     },
     "4ffa2eb3e8fe4bf4b70d0ebf0998b067": {
      "model_module": "jupyter-leaflet",
      "model_module_version": "^0.13.2",
      "model_name": "LeafletMarkerModel",
      "state": {
       "_model_module_version": "^0.13.2",
       "_view_module_version": "^0.13.2",
       "icon": "IPY_MODEL_5bd13314aaef47c9a3a1238367a34716",
       "location": [
        48.229494,
        16.369711
       ],
       "options": [
        "alt",
        "draggable",
        "keyboard",
        "rise_offset",
        "rise_on_hover",
        "rotation_angle",
        "rotation_origin",
        "title",
        "z_index_offset"
       ]
      }
     },
     "5024435247d342079be8b3b4c5cf9958": {
      "model_module": "jupyter-leaflet",
      "model_module_version": "^0.13.2",
      "model_name": "LeafletWidgetControlModel",
      "state": {
       "_model_module": "jupyter-leaflet",
       "_model_module_version": "^0.13.2",
       "_view_count": null,
       "_view_module": "jupyter-leaflet",
       "_view_module_version": "^0.13.2",
       "options": [
        "position"
       ],
       "position": "topright",
       "widget": "IPY_MODEL_cc3139c81f2f4ebbbb1ef597cd57e69a"
      }
     },
     "52bf822593aa42db999026f15d1b70fb": {
      "model_module": "jupyter-leaflet",
      "model_module_version": "^0.13.2",
      "model_name": "LeafletAntPathModel",
      "state": {
       "_model_module_version": "^0.13.2",
       "_view_module_version": "^0.13.2",
       "color": "#7590ba",
       "dash_array": [
        1,
        10
       ],
       "delay": 2000,
       "locations": [
        [
         48.231325,
         16.373732
        ],
        [
         48.231356,
         16.373739999999998
        ],
        [
         48.231421000000005,
         16.373773
        ],
        [
         48.23145,
         16.373781
        ],
        [
         48.231477000000005,
         16.373781
        ],
        [
         48.231429,
         16.37376
        ],
        [
         48.231195,
         16.373704999999998
        ],
        [
         48.231015,
         16.373694
        ],
        [
         48.230927,
         16.373727
        ],
        [
         48.230905,
         16.373775
        ],
        [
         48.230789,
         16.373766
        ],
        [
         48.230691,
         16.373754
        ],
        [
         48.230928999999996,
         16.373603
        ],
        [
         48.230944,
         16.373553
        ],
        [
         48.230901,
         16.373521
        ],
        [
         48.230903999999995,
         16.373520000000003
        ],
        [
         48.230897999999996,
         16.373495000000002
        ],
        [
         48.230856,
         16.373448
        ],
        [
         48.230805,
         16.373421
        ],
        [
         48.230725,
         16.373383
        ],
        [
         48.230694,
         16.373312
        ],
        [
         48.230626,
         16.373217
        ],
        [
         48.230639000000004,
         16.373161
        ],
        [
         48.2305,
         16.373057
        ],
        [
         48.230415,
         16.372962
        ],
        [
         48.230418,
         16.372923
        ],
        [
         48.230337,
         16.372832
        ],
        [
         48.23024,
         16.372768
        ],
        [
         48.230212,
         16.372675
        ],
        [
         48.230253999999995,
         16.372647
        ],
        [
         48.230253000000005,
         16.372621
        ],
        [
         48.230214000000004,
         16.3726
        ],
        [
         48.230189,
         16.372585
        ],
        [
         48.230092,
         16.372559
        ],
        [
         48.229933,
         16.372475
        ],
        [
         48.229804,
         16.372084
        ],
        [
         48.229861,
         16.37201
        ],
        [
         48.229827,
         16.371956
        ],
        [
         48.230003,
         16.371848
        ],
        [
         48.230162,
         16.371603
        ],
        [
         48.230214000000004,
         16.371414
        ],
        [
         48.230290000000004,
         16.371272
        ],
        [
         48.23019,
         16.371214000000002
        ],
        [
         48.230083,
         16.371168
        ],
        [
         48.229985,
         16.371159
        ],
        [
         48.229952000000004,
         16.371152
        ],
        [
         48.229884000000006,
         16.371082
        ],
        [
         48.229884000000006,
         16.371082
        ],
        [
         48.229884000000006,
         16.371082
        ],
        [
         48.229884000000006,
         16.371082
        ],
        [
         48.229884000000006,
         16.371082
        ],
        [
         48.229884000000006,
         16.371082
        ],
        [
         48.229884000000006,
         16.371082
        ],
        [
         48.229884000000006,
         16.371082
        ],
        [
         48.229884000000006,
         16.371082
        ],
        [
         48.229884000000006,
         16.371082
        ],
        [
         48.229634000000004,
         16.370667
        ],
        [
         48.229634000000004,
         16.370667
        ],
        [
         48.229634000000004,
         16.370667
        ],
        [
         48.229634000000004,
         16.370667
        ],
        [
         48.229566999999996,
         16.370301
        ],
        [
         48.229538,
         16.370146
        ],
        [
         48.229510999999995,
         16.369997
        ],
        [
         48.229562,
         16.36992
        ],
        [
         48.229582,
         16.369868
        ],
        [
         48.229585,
         16.369823999999998
        ],
        [
         48.229566999999996,
         16.369782
        ],
        [
         48.229458,
         16.369742000000002
        ],
        [
         48.229496000000005,
         16.369692999999998
        ],
        [
         48.229473999999996,
         16.369692
        ],
        [
         48.229456,
         16.369692999999998
        ],
        [
         48.229401,
         16.369694
        ],
        [
         48.229341,
         16.369626999999998
        ],
        [
         48.229321,
         16.369638000000002
        ],
        [
         48.229246,
         16.369642000000002
        ],
        [
         48.229118,
         16.369605
        ],
        [
         48.228858,
         16.369601
        ],
        [
         48.228826,
         16.369467
        ],
        [
         48.228821,
         16.369379000000002
        ],
        [
         48.22888,
         16.369293
        ],
        [
         48.228916,
         16.369232
        ],
        [
         48.228871999999996,
         16.36919
        ],
        [
         48.228865,
         16.369135999999997
        ],
        [
         48.228835,
         16.369062
        ],
        [
         48.228849,
         16.368964000000002
        ],
        [
         48.228908000000004,
         16.368909
        ],
        [
         48.228978000000005,
         16.368884
        ],
        [
         48.228943,
         16.368816
        ],
        [
         48.22885,
         16.368758
        ],
        [
         48.228856,
         16.368721
        ],
        [
         48.228848,
         16.368684
        ],
        [
         48.228848,
         16.368662
        ],
        [
         48.228843,
         16.36865
        ],
        [
         48.22889,
         16.368617
        ],
        [
         48.228902000000005,
         16.368613
        ],
        [
         48.228916999999996,
         16.368555999999998
        ],
        [
         48.228966,
         16.368542
        ],
        [
         48.229025,
         16.36855
        ],
        [
         48.229043,
         16.368601
        ],
        [
         48.229057,
         16.368591000000002
        ],
        [
         48.229017,
         16.3686
        ],
        [
         48.229007,
         16.368620999999997
        ],
        [
         48.228983,
         16.368671
        ],
        [
         48.229003000000006,
         16.368758
        ],
        [
         48.22903,
         16.368827
        ],
        [
         48.229084,
         16.368907999999998
        ],
        [
         48.229108000000004,
         16.368988
        ],
        [
         48.229109,
         16.369024
        ],
        [
         48.229123,
         16.369032999999998
        ],
        [
         48.229139,
         16.36905
        ],
        [
         48.229074,
         16.369023000000002
        ],
        [
         48.229031,
         16.369011999999998
        ],
        [
         48.229034000000006,
         16.369024
        ],
        [
         48.229063000000004,
         16.369027
        ],
        [
         48.229096999999996,
         16.368993
        ],
        [
         48.229092,
         16.368972
        ],
        [
         48.229061,
         16.368935999999998
        ],
        [
         48.229053,
         16.368931
        ],
        [
         48.229075,
         16.368954000000002
        ],
        [
         48.229082,
         16.368964000000002
        ],
        [
         48.229094,
         16.368975
        ],
        [
         48.229128,
         16.369004
        ],
        [
         48.229147,
         16.369007
        ],
        [
         48.229106,
         16.36898
        ],
        [
         48.229068,
         16.368959
        ],
        [
         48.229026,
         16.368947
        ],
        [
         48.229061,
         16.369024
        ],
        [
         48.229199,
         16.369159
        ],
        [
         48.229257000000004,
         16.369269
        ],
        [
         48.229219,
         16.369334
        ],
        [
         48.229201,
         16.369424
        ],
        [
         48.229203999999996,
         16.36948
        ],
        [
         48.229240999999995,
         16.369569
        ],
        [
         48.229234000000005,
         16.369592
        ],
        [
         48.229312,
         16.369654999999998
        ],
        [
         48.229384,
         16.369725
        ],
        [
         48.229455,
         16.369779
        ],
        [
         48.229477,
         16.369839000000002
        ],
        [
         48.229521999999996,
         16.3699
        ],
        [
         48.229524,
         16.369909
        ],
        [
         48.229537,
         16.369913
        ],
        [
         48.22952,
         16.369892
        ],
        [
         48.229543,
         16.369889999999998
        ],
        [
         48.229585,
         16.369954999999997
        ],
        [
         48.229628999999996,
         16.369997
        ],
        [
         48.229658,
         16.370060000000002
        ],
        [
         48.229647,
         16.370151
        ],
        [
         48.22963,
         16.370268
        ],
        [
         48.229673999999996,
         16.370348
        ],
        [
         48.229695,
         16.370404
        ],
        [
         48.229721000000005,
         16.370499
        ],
        [
         48.229714,
         16.370549
        ],
        [
         48.229782,
         16.370616000000002
        ],
        [
         48.229847,
         16.370701999999998
        ],
        [
         48.229871,
         16.370793
        ],
        [
         48.229828999999995,
         16.370859
        ],
        [
         48.229856,
         16.370957999999998
        ],
        [
         48.229865000000004,
         16.371053
        ],
        [
         48.22988,
         16.371113
        ],
        [
         48.229896999999994,
         16.371187
        ],
        [
         48.229887,
         16.371247
        ],
        [
         48.22984,
         16.371235000000002
        ],
        [
         48.229791999999996,
         16.371291
        ],
        [
         48.229715999999996,
         16.371288
        ],
        [
         48.229584,
         16.371263
        ],
        [
         48.229524,
         16.371259
        ],
        [
         48.229459000000006,
         16.371226999999998
        ],
        [
         48.229382,
         16.371171
        ],
        [
         48.229347,
         16.371106
        ],
        [
         48.229313,
         16.371064999999998
        ],
        [
         48.229295,
         16.371037
        ],
        [
         48.229285,
         16.371026
        ],
        [
         48.229281,
         16.371038000000002
        ],
        [
         48.229324,
         16.370986
        ],
        [
         48.2293,
         16.370987
        ],
        [
         48.229268,
         16.370995999999998
        ],
        [
         48.229243,
         16.371002999999998
        ],
        [
         48.229237,
         16.371029
        ],
        [
         48.229253,
         16.371118
        ],
        [
         48.22926,
         16.371118
        ],
        [
         48.229279999999996,
         16.371097
        ],
        [
         48.229354,
         16.371187
        ],
        [
         48.229167,
         16.370898999999998
        ],
        [
         48.22912,
         16.3709
        ],
        [
         48.229163,
         16.370869
        ],
        [
         48.229162,
         16.370898999999998
        ],
        [
         48.229108000000004,
         16.370917000000002
        ],
        [
         48.229110999999996,
         16.370892
        ],
        [
         48.229075,
         16.370949
        ],
        [
         48.229048999999996,
         16.370877
        ],
        [
         48.229031,
         16.370824
        ],
        [
         48.229044,
         16.370835999999997
        ],
        [
         48.229046000000004,
         16.37085
        ],
        [
         48.229122,
         16.370841
        ],
        [
         48.229255,
         16.370832
        ],
        [
         48.229314,
         16.370901999999997
        ],
        [
         48.229222,
         16.371055
        ],
        [
         48.229252,
         16.371187
        ],
        [
         48.229246,
         16.371263
        ],
        [
         48.229245,
         16.371348
        ],
        [
         48.229295,
         16.371448
        ],
        [
         48.229325,
         16.371482999999998
        ],
        [
         48.229356,
         16.371515
        ],
        [
         48.229353,
         16.371586999999998
        ],
        [
         48.229304,
         16.371674
        ],
        [
         48.229293,
         16.371706
        ],
        [
         48.22935,
         16.371678
        ],
        [
         48.229397999999996,
         16.371692000000003
        ],
        [
         48.229449,
         16.371734
        ],
        [
         48.229424,
         16.371804
        ],
        [
         48.229448,
         16.371789
        ],
        [
         48.229534,
         16.371745999999998
        ],
        [
         48.229572,
         16.371663
        ],
        [
         48.229597,
         16.371566
        ],
        [
         48.229633,
         16.3715
        ],
        [
         48.229675,
         16.371378
        ],
        [
         48.229681,
         16.371349
        ],
        [
         48.229687,
         16.371375
        ],
        [
         48.22971,
         16.371357999999997
        ],
        [
         48.229702,
         16.371335000000002
        ],
        [
         48.229668,
         16.371342000000002
        ],
        [
         48.229623,
         16.371313
        ],
        [
         48.229559,
         16.371287
        ],
        [
         48.22953,
         16.371315
        ],
        [
         48.229490000000006,
         16.371309
        ],
        [
         48.229454,
         16.371275
        ],
        [
         48.229406,
         16.371234
        ],
        [
         48.229406,
         16.371234
        ],
        [
         48.229406,
         16.371234
        ],
        [
         48.229406,
         16.371234
        ],
        [
         48.229406,
         16.371234
        ],
        [
         48.229406,
         16.371234
        ],
        [
         48.229406,
         16.371234
        ],
        [
         48.229406,
         16.371234
        ],
        [
         48.229406,
         16.371234
        ],
        [
         48.23001,
         16.371512
        ],
        [
         48.23001,
         16.371512
        ],
        [
         48.23001,
         16.371512
        ],
        [
         48.23001,
         16.371512
        ],
        [
         48.23001,
         16.371512
        ],
        [
         48.23001,
         16.371512
        ],
        [
         48.23001,
         16.371512
        ],
        [
         48.23001,
         16.371512
        ],
        [
         48.23001,
         16.371512
        ],
        [
         48.23001,
         16.371512
        ],
        [
         48.23001,
         16.371512
        ],
        [
         48.23001,
         16.371512
        ],
        [
         48.23001,
         16.371512
        ],
        [
         48.23001,
         16.371512
        ],
        [
         48.23001,
         16.371512
        ],
        [
         48.23001,
         16.371512
        ],
        [
         48.23001,
         16.371512
        ],
        [
         48.23001,
         16.371512
        ],
        [
         48.23001,
         16.371512
        ],
        [
         48.230598,
         16.373117999999998
        ],
        [
         48.230598,
         16.373117999999998
        ],
        [
         48.230598,
         16.373117999999998
        ],
        [
         48.230598,
         16.373117999999998
        ],
        [
         48.230598,
         16.373117999999998
        ],
        [
         48.230598,
         16.373117999999998
        ],
        [
         48.230598,
         16.373117999999998
        ],
        [
         48.230598,
         16.373117999999998
        ],
        [
         48.230598,
         16.373117999999998
        ],
        [
         48.230598,
         16.373117999999998
        ],
        [
         48.230598,
         16.373117999999998
        ],
        [
         48.230598,
         16.373117999999998
        ],
        [
         48.230598,
         16.373117999999998
        ],
        [
         48.230598,
         16.373117999999998
        ],
        [
         48.230598,
         16.373117999999998
        ],
        [
         48.230598,
         16.373117999999998
        ],
        [
         48.229240999999995,
         16.373863
        ],
        [
         48.22926,
         16.373772
        ],
        [
         48.22926,
         16.373772
        ],
        [
         48.22926,
         16.373772
        ],
        [
         48.22926,
         16.373772
        ],
        [
         48.22926,
         16.373772
        ],
        [
         48.230204,
         16.373359
        ],
        [
         48.230204,
         16.373359
        ],
        [
         48.230204,
         16.373359
        ],
        [
         48.230204,
         16.373359
        ],
        [
         48.230204,
         16.373359
        ],
        [
         48.230204,
         16.373359
        ],
        [
         48.230204,
         16.373359
        ],
        [
         48.230475,
         16.373299
        ],
        [
         48.230475,
         16.373299
        ],
        [
         48.230475,
         16.373299
        ],
        [
         48.230475,
         16.373299
        ],
        [
         48.230475,
         16.373299
        ],
        [
         48.230475,
         16.373299
        ],
        [
         48.230475,
         16.373299
        ],
        [
         48.230606,
         16.373506
        ],
        [
         48.230606,
         16.373506
        ],
        [
         48.230606,
         16.373506
        ],
        [
         48.230606,
         16.373506
        ],
        [
         48.230606,
         16.373506
        ],
        [
         48.230641999999996,
         16.37363
        ],
        [
         48.230644,
         16.373654000000002
        ],
        [
         48.230629,
         16.373717000000003
        ],
        [
         48.230669,
         16.373798999999998
        ],
        [
         48.230686999999996,
         16.373891
        ],
        [
         48.230686999999996,
         16.373946
        ],
        [
         48.230686999999996,
         16.373946
        ],
        [
         48.230756,
         16.374073000000003
        ],
        [
         48.23075,
         16.374101
        ],
        [
         48.230742,
         16.374137
        ],
        [
         48.230740000000004,
         16.374144
        ],
        [
         48.230815,
         16.374139000000003
        ],
        [
         48.230813,
         16.374146
        ],
        [
         48.230802000000004,
         16.374163
        ],
        [
         48.230808,
         16.374236
        ],
        [
         48.230839,
         16.374279
        ],
        [
         48.230877,
         16.37434
        ],
        [
         48.230903999999995,
         16.374387
        ],
        [
         48.230901,
         16.374467000000003
        ],
        [
         48.230928000000006,
         16.374558
        ],
        [
         48.230996999999995,
         16.374551999999998
        ],
        [
         48.23103,
         16.374619
        ],
        [
         48.231064,
         16.374702
        ],
        [
         48.231072999999995,
         16.374785
        ],
        [
         48.231049,
         16.374882999999997
        ],
        [
         48.230990000000006,
         16.374963
        ],
        [
         48.230933,
         16.375113
        ],
        [
         48.230924,
         16.375132999999998
        ],
        [
         48.23087,
         16.375189000000002
        ],
        [
         48.23082,
         16.375223000000002
        ],
        [
         48.230724,
         16.375346
        ],
        [
         48.230663,
         16.375414000000003
        ],
        [
         48.230563000000004,
         16.375514000000003
        ],
        [
         48.230543,
         16.375549
        ],
        [
         48.230554999999995,
         16.375551
        ],
        [
         48.230579999999996,
         16.375554
        ],
        [
         48.230527,
         16.375524
        ],
        [
         48.230482,
         16.375448000000002
        ],
        [
         48.230521,
         16.375409
        ],
        [
         48.230661,
         16.375441
        ],
        [
         48.230703000000005,
         16.375441
        ],
        [
         48.230795,
         16.375279000000003
        ],
        [
         48.230803,
         16.375201999999998
        ],
        [
         48.230825,
         16.375148
        ],
        [
         48.23086,
         16.375127
        ],
        [
         48.230878000000004,
         16.375109
        ],
        [
         48.230897,
         16.375104
        ],
        [
         48.23089,
         16.375106
        ],
        [
         48.230899,
         16.375104
        ],
        [
         48.230911,
         16.375095
        ],
        [
         48.230914,
         16.375087
        ],
        [
         48.230925,
         16.375078
        ],
        [
         48.230928000000006,
         16.375072
        ],
        [
         48.230940999999994,
         16.375062
        ],
        [
         48.230945,
         16.375083
        ],
        [
         48.230928000000006,
         16.375182000000002
        ],
        [
         48.230944,
         16.375226
        ],
        [
         48.230934000000005,
         16.37527
        ],
        [
         48.230987,
         16.375324
        ],
        [
         48.230922,
         16.375385
        ],
        [
         48.230866999999996,
         16.37544
        ],
        [
         48.230643,
         16.375517000000002
        ],
        [
         48.230901,
         16.375207999999997
        ],
        [
         48.230998,
         16.375118
        ],
        [
         48.231010999999995,
         16.375073999999998
        ],
        [
         48.231032,
         16.375047
        ],
        [
         48.231041,
         16.374978
        ],
        [
         48.231038,
         16.374896
        ],
        [
         48.231072,
         16.37485
        ],
        [
         48.231097,
         16.374832
        ],
        [
         48.23105,
         16.374817
        ],
        [
         48.231057,
         16.374745
        ],
        [
         48.231141,
         16.374737
        ],
        [
         48.231213000000004,
         16.374737
        ],
        [
         48.231328999999995,
         16.374692
        ],
        [
         48.231377,
         16.374666
        ],
        [
         48.231459,
         16.37469
        ],
        [
         48.231522,
         16.374717999999998
        ],
        [
         48.231621999999994,
         16.374685
        ],
        [
         48.231691,
         16.374677
        ],
        [
         48.231777,
         16.374679
        ],
        [
         48.231801000000004,
         16.374682999999997
        ],
        [
         48.231836,
         16.374674
        ],
        [
         48.231856,
         16.374658
        ],
        [
         48.231866,
         16.374653
        ],
        [
         48.231898,
         16.374659
        ],
        [
         48.231976,
         16.374661
        ],
        [
         48.232018,
         16.374660000000002
        ],
        [
         48.232038,
         16.374665
        ],
        [
         48.232067,
         16.374678
        ],
        [
         48.23211,
         16.374691000000002
        ],
        [
         48.232193,
         16.374682
        ],
        [
         48.232172,
         16.374716
        ],
        [
         48.232172999999996,
         16.374737
        ],
        [
         48.232177,
         16.374795000000002
        ],
        [
         48.232184000000004,
         16.374897
        ],
        [
         48.232181,
         16.374923000000003
        ],
        [
         48.232178000000005,
         16.374934
        ],
        [
         48.232178999999995,
         16.374913
        ],
        [
         48.232192,
         16.374897
        ],
        [
         48.232209000000005,
         16.374888000000002
        ],
        [
         48.232211,
         16.374926000000002
        ],
        [
         48.232262,
         16.374878
        ],
        [
         48.232325,
         16.374751999999997
        ],
        [
         48.232309,
         16.37455
        ],
        [
         48.232302000000004,
         16.374457999999997
        ],
        [
         48.232288,
         16.374378
        ],
        [
         48.232299,
         16.374234
        ],
        [
         48.232303,
         16.374136
        ],
        [
         48.232298,
         16.374043
        ],
        [
         48.232288,
         16.373938
        ],
        [
         48.232310999999996,
         16.373872
        ],
        [
         48.232310999999996,
         16.373786
        ],
        [
         48.2323,
         16.373714
        ],
        [
         48.232271000000004,
         16.373638
        ],
        [
         48.232248999999996,
         16.373592000000002
        ],
        [
         48.232195000000004,
         16.3736
        ],
        [
         48.2321,
         16.373603
        ],
        [
         48.232034999999996,
         16.373611999999998
        ],
        [
         48.231941,
         16.373632999999998
        ],
        [
         48.231913,
         16.37365
        ],
        [
         48.231913,
         16.37365
        ],
        [
         48.231913,
         16.37365
        ],
        [
         48.231913,
         16.37365
        ],
        [
         48.231913,
         16.37365
        ],
        [
         48.231913,
         16.37365
        ],
        [
         48.231913,
         16.37365
        ]
       ],
       "name": "Trail",
       "options": [
        "color",
        "dash_array",
        "delay",
        "hardware_accelerated",
        "paused",
        "pulse_color",
        "radius",
        "reverse",
        "use",
        "weight"
       ],
       "pulse_color": "#3f6fba"
      }
     },
     "5510dc211e4841dfa25760ab8ab113bd": {
      "model_module": "jupyter-leaflet",
      "model_module_version": "^0.13.2",
      "model_name": "LeafletMarkerModel",
      "state": {
       "_model_module_version": "^0.13.2",
       "_view_module_version": "^0.13.2",
       "icon": "IPY_MODEL_5bd13314aaef47c9a3a1238367a34716",
       "options": [
        "alt",
        "draggable",
        "keyboard",
        "rise_offset",
        "rise_on_hover",
        "rotation_angle",
        "rotation_origin",
        "title",
        "z_index_offset"
       ]
      }
     },
     "5833167c73d3404db75d5aa659a93618": {
      "model_module": "jupyter-leaflet",
      "model_module_version": "^0.13.2",
      "model_name": "LeafletIconModel",
      "state": {
       "_model_module_version": "^0.13.2",
       "_view_module_version": "^0.13.2",
       "icon_size": [
        30,
        40
       ],
       "icon_url": "icons/trashbin.png",
       "options": [
        "icon_anchor",
        "icon_size",
        "icon_url",
        "popup_anchor",
        "shadow_anchor",
        "shadow_size",
        "shadow_url"
       ],
       "shadow_url": null
      }
     },
     "5a24e2389aed43bdaab50b9407ab75e2": {
      "model_module": "jupyter-leaflet",
      "model_module_version": "^0.13.2",
      "model_name": "LeafletMapStyleModel",
      "state": {
       "_model_module_version": "^0.13.2"
      }
     },
     "5b27d6b212f74171a95bab79f319cbea": {
      "model_module": "jupyter-leaflet",
      "model_module_version": "^0.13.2",
      "model_name": "LeafletScaleControlModel",
      "state": {
       "_model_module_version": "^0.13.2",
       "_view_module_version": "^0.13.2",
       "imperial": false,
       "max_width": 100,
       "metric": true,
       "options": [
        "imperial",
        "max_width",
        "metric",
        "position",
        "update_when_idle"
       ],
       "position": "bottomleft",
       "update_when_idle": false
      }
     },
     "5bd13314aaef47c9a3a1238367a34716": {
      "model_module": "jupyter-leaflet",
      "model_module_version": "^0.13.2",
      "model_name": "LeafletIconModel",
      "state": {
       "_model_module_version": "^0.13.2",
       "_view_module_version": "^0.13.2",
       "icon_size": [
        30,
        40
       ],
       "icon_url": "icons/tree.png",
       "options": [
        "icon_anchor",
        "icon_size",
        "icon_url",
        "popup_anchor",
        "shadow_anchor",
        "shadow_size",
        "shadow_url"
       ],
       "shadow_url": null
      }
     },
     "5f2f4e3c7e3743d19b069b4c6fbd51e8": {
      "model_module": "jupyter-leaflet",
      "model_module_version": "^0.13.2",
      "model_name": "LeafletMarkerModel",
      "state": {
       "_model_module_version": "^0.13.2",
       "_view_module_version": "^0.13.2",
       "icon": "IPY_MODEL_5833167c73d3404db75d5aa659a93618",
       "location": [
        48.229262,
        16.373779000000003
       ],
       "options": [
        "alt",
        "draggable",
        "keyboard",
        "rise_offset",
        "rise_on_hover",
        "rotation_angle",
        "rotation_origin",
        "title",
        "z_index_offset"
       ]
      }
     },
     "6890a3ee6e854f00ae7e663c07d558f0": {
      "model_module": "jupyter-leaflet",
      "model_module_version": "^0.13.2",
      "model_name": "LeafletMarkerModel",
      "state": {
       "_model_module_version": "^0.13.2",
       "_view_module_version": "^0.13.2",
       "icon": "IPY_MODEL_5bd13314aaef47c9a3a1238367a34716",
       "location": [
        48.229986,
        16.371497
       ],
       "options": [
        "alt",
        "draggable",
        "keyboard",
        "rise_offset",
        "rise_on_hover",
        "rotation_angle",
        "rotation_origin",
        "title",
        "z_index_offset"
       ]
      }
     },
     "6fbed4d6fa964464b73a20bd0697cd21": {
      "model_module": "@jupyter-widgets/base",
      "model_module_version": "1.2.0",
      "model_name": "LayoutModel",
      "state": {}
     },
     "6fce4632d1074093a3fa8bf9273afd0a": {
      "model_module": "jupyter-leaflet",
      "model_module_version": "^0.13.2",
      "model_name": "LeafletMarkerModel",
      "state": {
       "_model_module_version": "^0.13.2",
       "_view_module_version": "^0.13.2",
       "icon": "IPY_MODEL_5bd13314aaef47c9a3a1238367a34716",
       "location": [
        48.229537,
        16.369913
       ],
       "options": [
        "alt",
        "draggable",
        "keyboard",
        "rise_offset",
        "rise_on_hover",
        "rotation_angle",
        "rotation_origin",
        "title",
        "z_index_offset"
       ]
      }
     },
     "7aaf92246c4647c19bbd8935a42d9128": {
      "model_module": "jupyter-leaflet",
      "model_module_version": "^0.13.2",
      "model_name": "LeafletAntPathModel",
      "state": {
       "_model_module_version": "^0.13.2",
       "_view_module_version": "^0.13.2",
       "color": "#7590ba",
       "dash_array": [
        1,
        10
       ],
       "delay": 2000,
       "locations": [
        [
         48.231325,
         16.373732
        ],
        [
         48.231356,
         16.373739999999998
        ],
        [
         48.231421000000005,
         16.373773
        ],
        [
         48.23145,
         16.373781
        ],
        [
         48.231477000000005,
         16.373781
        ],
        [
         48.231429,
         16.37376
        ],
        [
         48.231195,
         16.373704999999998
        ],
        [
         48.231015,
         16.373694
        ],
        [
         48.230927,
         16.373727
        ],
        [
         48.230905,
         16.373775
        ],
        [
         48.230789,
         16.373766
        ],
        [
         48.230691,
         16.373754
        ],
        [
         48.230928999999996,
         16.373603
        ],
        [
         48.230944,
         16.373553
        ],
        [
         48.230901,
         16.373521
        ],
        [
         48.230903999999995,
         16.373520000000003
        ],
        [
         48.230897999999996,
         16.373495000000002
        ],
        [
         48.230856,
         16.373448
        ],
        [
         48.230805,
         16.373421
        ],
        [
         48.230725,
         16.373383
        ],
        [
         48.230694,
         16.373312
        ],
        [
         48.230626,
         16.373217
        ],
        [
         48.230639000000004,
         16.373161
        ],
        [
         48.2305,
         16.373057
        ],
        [
         48.230415,
         16.372962
        ],
        [
         48.230418,
         16.372923
        ],
        [
         48.230337,
         16.372832
        ],
        [
         48.23024,
         16.372768
        ],
        [
         48.230212,
         16.372675
        ],
        [
         48.230253999999995,
         16.372647
        ],
        [
         48.230253000000005,
         16.372621
        ],
        [
         48.230214000000004,
         16.3726
        ],
        [
         48.230189,
         16.372585
        ],
        [
         48.230092,
         16.372559
        ],
        [
         48.229933,
         16.372475
        ],
        [
         48.229804,
         16.372084
        ],
        [
         48.229861,
         16.37201
        ],
        [
         48.229827,
         16.371956
        ],
        [
         48.230003,
         16.371848
        ],
        [
         48.230162,
         16.371603
        ],
        [
         48.230214000000004,
         16.371414
        ],
        [
         48.230290000000004,
         16.371272
        ],
        [
         48.23019,
         16.371214000000002
        ],
        [
         48.230083,
         16.371168
        ],
        [
         48.229985,
         16.371159
        ],
        [
         48.229952000000004,
         16.371152
        ],
        [
         48.229884000000006,
         16.371082
        ],
        [
         48.229884000000006,
         16.371082
        ],
        [
         48.229884000000006,
         16.371082
        ],
        [
         48.229884000000006,
         16.371082
        ],
        [
         48.229884000000006,
         16.371082
        ],
        [
         48.229884000000006,
         16.371082
        ],
        [
         48.229884000000006,
         16.371082
        ],
        [
         48.229884000000006,
         16.371082
        ],
        [
         48.229884000000006,
         16.371082
        ],
        [
         48.229884000000006,
         16.371082
        ],
        [
         48.229634000000004,
         16.370667
        ],
        [
         48.229634000000004,
         16.370667
        ],
        [
         48.229634000000004,
         16.370667
        ],
        [
         48.229634000000004,
         16.370667
        ],
        [
         48.229566999999996,
         16.370301
        ],
        [
         48.229538,
         16.370146
        ],
        [
         48.229510999999995,
         16.369997
        ],
        [
         48.229562,
         16.36992
        ],
        [
         48.229582,
         16.369868
        ],
        [
         48.229585,
         16.369823999999998
        ],
        [
         48.229566999999996,
         16.369782
        ],
        [
         48.229458,
         16.369742000000002
        ],
        [
         48.229496000000005,
         16.369692999999998
        ],
        [
         48.229473999999996,
         16.369692
        ],
        [
         48.229456,
         16.369692999999998
        ],
        [
         48.229401,
         16.369694
        ],
        [
         48.229341,
         16.369626999999998
        ],
        [
         48.229321,
         16.369638000000002
        ],
        [
         48.229246,
         16.369642000000002
        ],
        [
         48.229118,
         16.369605
        ],
        [
         48.228858,
         16.369601
        ],
        [
         48.228826,
         16.369467
        ],
        [
         48.228821,
         16.369379000000002
        ],
        [
         48.22888,
         16.369293
        ],
        [
         48.228916,
         16.369232
        ],
        [
         48.228871999999996,
         16.36919
        ],
        [
         48.228865,
         16.369135999999997
        ],
        [
         48.228835,
         16.369062
        ],
        [
         48.228849,
         16.368964000000002
        ],
        [
         48.228908000000004,
         16.368909
        ],
        [
         48.228978000000005,
         16.368884
        ],
        [
         48.228943,
         16.368816
        ],
        [
         48.22885,
         16.368758
        ],
        [
         48.228856,
         16.368721
        ],
        [
         48.228848,
         16.368684
        ],
        [
         48.228848,
         16.368662
        ],
        [
         48.228843,
         16.36865
        ],
        [
         48.22889,
         16.368617
        ],
        [
         48.228902000000005,
         16.368613
        ],
        [
         48.228916999999996,
         16.368555999999998
        ],
        [
         48.228966,
         16.368542
        ],
        [
         48.229025,
         16.36855
        ],
        [
         48.229043,
         16.368601
        ],
        [
         48.229057,
         16.368591000000002
        ],
        [
         48.229017,
         16.3686
        ],
        [
         48.229007,
         16.368620999999997
        ],
        [
         48.228983,
         16.368671
        ],
        [
         48.229003000000006,
         16.368758
        ],
        [
         48.22903,
         16.368827
        ],
        [
         48.229084,
         16.368907999999998
        ],
        [
         48.229108000000004,
         16.368988
        ],
        [
         48.229109,
         16.369024
        ],
        [
         48.229123,
         16.369032999999998
        ],
        [
         48.229139,
         16.36905
        ],
        [
         48.229074,
         16.369023000000002
        ],
        [
         48.229031,
         16.369011999999998
        ],
        [
         48.229034000000006,
         16.369024
        ],
        [
         48.229063000000004,
         16.369027
        ],
        [
         48.229096999999996,
         16.368993
        ],
        [
         48.229092,
         16.368972
        ],
        [
         48.229061,
         16.368935999999998
        ],
        [
         48.229053,
         16.368931
        ],
        [
         48.229075,
         16.368954000000002
        ],
        [
         48.229082,
         16.368964000000002
        ],
        [
         48.229094,
         16.368975
        ],
        [
         48.229128,
         16.369004
        ],
        [
         48.229147,
         16.369007
        ],
        [
         48.229106,
         16.36898
        ],
        [
         48.229068,
         16.368959
        ],
        [
         48.229026,
         16.368947
        ],
        [
         48.229061,
         16.369024
        ],
        [
         48.229199,
         16.369159
        ],
        [
         48.229257000000004,
         16.369269
        ],
        [
         48.229219,
         16.369334
        ],
        [
         48.229201,
         16.369424
        ],
        [
         48.229203999999996,
         16.36948
        ],
        [
         48.229240999999995,
         16.369569
        ],
        [
         48.229234000000005,
         16.369592
        ],
        [
         48.229312,
         16.369654999999998
        ],
        [
         48.229384,
         16.369725
        ],
        [
         48.229455,
         16.369779
        ],
        [
         48.229477,
         16.369839000000002
        ],
        [
         48.229521999999996,
         16.3699
        ],
        [
         48.229524,
         16.369909
        ],
        [
         48.229537,
         16.369913
        ],
        [
         48.22952,
         16.369892
        ],
        [
         48.229543,
         16.369889999999998
        ],
        [
         48.229585,
         16.369954999999997
        ],
        [
         48.229628999999996,
         16.369997
        ],
        [
         48.229658,
         16.370060000000002
        ],
        [
         48.229647,
         16.370151
        ],
        [
         48.22963,
         16.370268
        ],
        [
         48.229673999999996,
         16.370348
        ],
        [
         48.229695,
         16.370404
        ],
        [
         48.229721000000005,
         16.370499
        ],
        [
         48.229714,
         16.370549
        ],
        [
         48.229782,
         16.370616000000002
        ],
        [
         48.229847,
         16.370701999999998
        ],
        [
         48.229871,
         16.370793
        ],
        [
         48.229828999999995,
         16.370859
        ],
        [
         48.229856,
         16.370957999999998
        ],
        [
         48.229865000000004,
         16.371053
        ],
        [
         48.22988,
         16.371113
        ],
        [
         48.229896999999994,
         16.371187
        ],
        [
         48.229887,
         16.371247
        ],
        [
         48.22984,
         16.371235000000002
        ],
        [
         48.229791999999996,
         16.371291
        ],
        [
         48.229715999999996,
         16.371288
        ],
        [
         48.229584,
         16.371263
        ],
        [
         48.229524,
         16.371259
        ],
        [
         48.229459000000006,
         16.371226999999998
        ],
        [
         48.229382,
         16.371171
        ],
        [
         48.229347,
         16.371106
        ],
        [
         48.229313,
         16.371064999999998
        ],
        [
         48.229295,
         16.371037
        ],
        [
         48.229285,
         16.371026
        ],
        [
         48.229281,
         16.371038000000002
        ],
        [
         48.229324,
         16.370986
        ],
        [
         48.2293,
         16.370987
        ],
        [
         48.229268,
         16.370995999999998
        ],
        [
         48.229243,
         16.371002999999998
        ],
        [
         48.229237,
         16.371029
        ],
        [
         48.229253,
         16.371118
        ],
        [
         48.22926,
         16.371118
        ],
        [
         48.229279999999996,
         16.371097
        ],
        [
         48.229354,
         16.371187
        ],
        [
         48.229167,
         16.370898999999998
        ],
        [
         48.22912,
         16.3709
        ],
        [
         48.229163,
         16.370869
        ],
        [
         48.229162,
         16.370898999999998
        ],
        [
         48.229108000000004,
         16.370917000000002
        ],
        [
         48.229110999999996,
         16.370892
        ],
        [
         48.229075,
         16.370949
        ],
        [
         48.229048999999996,
         16.370877
        ],
        [
         48.229031,
         16.370824
        ],
        [
         48.229044,
         16.370835999999997
        ],
        [
         48.229046000000004,
         16.37085
        ],
        [
         48.229122,
         16.370841
        ],
        [
         48.229255,
         16.370832
        ],
        [
         48.229314,
         16.370901999999997
        ],
        [
         48.229222,
         16.371055
        ],
        [
         48.229252,
         16.371187
        ],
        [
         48.229246,
         16.371263
        ],
        [
         48.229245,
         16.371348
        ],
        [
         48.229295,
         16.371448
        ],
        [
         48.229325,
         16.371482999999998
        ],
        [
         48.229356,
         16.371515
        ],
        [
         48.229353,
         16.371586999999998
        ],
        [
         48.229304,
         16.371674
        ],
        [
         48.229293,
         16.371706
        ],
        [
         48.22935,
         16.371678
        ],
        [
         48.229397999999996,
         16.371692000000003
        ],
        [
         48.229449,
         16.371734
        ],
        [
         48.229424,
         16.371804
        ],
        [
         48.229448,
         16.371789
        ],
        [
         48.229534,
         16.371745999999998
        ],
        [
         48.229572,
         16.371663
        ],
        [
         48.229597,
         16.371566
        ],
        [
         48.229633,
         16.3715
        ],
        [
         48.229675,
         16.371378
        ],
        [
         48.229681,
         16.371349
        ],
        [
         48.229687,
         16.371375
        ],
        [
         48.22971,
         16.371357999999997
        ],
        [
         48.229702,
         16.371335000000002
        ],
        [
         48.229668,
         16.371342000000002
        ],
        [
         48.229623,
         16.371313
        ],
        [
         48.229559,
         16.371287
        ],
        [
         48.22953,
         16.371315
        ],
        [
         48.229490000000006,
         16.371309
        ],
        [
         48.229454,
         16.371275
        ],
        [
         48.229406,
         16.371234
        ],
        [
         48.229406,
         16.371234
        ],
        [
         48.229406,
         16.371234
        ],
        [
         48.229406,
         16.371234
        ],
        [
         48.229406,
         16.371234
        ],
        [
         48.229406,
         16.371234
        ],
        [
         48.229406,
         16.371234
        ],
        [
         48.229406,
         16.371234
        ],
        [
         48.229406,
         16.371234
        ],
        [
         48.23001,
         16.371512
        ],
        [
         48.23001,
         16.371512
        ],
        [
         48.23001,
         16.371512
        ],
        [
         48.23001,
         16.371512
        ],
        [
         48.23001,
         16.371512
        ],
        [
         48.23001,
         16.371512
        ],
        [
         48.23001,
         16.371512
        ],
        [
         48.23001,
         16.371512
        ],
        [
         48.23001,
         16.371512
        ],
        [
         48.23001,
         16.371512
        ],
        [
         48.23001,
         16.371512
        ],
        [
         48.23001,
         16.371512
        ],
        [
         48.23001,
         16.371512
        ],
        [
         48.23001,
         16.371512
        ],
        [
         48.23001,
         16.371512
        ],
        [
         48.23001,
         16.371512
        ],
        [
         48.23001,
         16.371512
        ],
        [
         48.23001,
         16.371512
        ],
        [
         48.23001,
         16.371512
        ],
        [
         48.230598,
         16.373117999999998
        ],
        [
         48.230598,
         16.373117999999998
        ],
        [
         48.230598,
         16.373117999999998
        ],
        [
         48.230598,
         16.373117999999998
        ],
        [
         48.230598,
         16.373117999999998
        ],
        [
         48.230598,
         16.373117999999998
        ],
        [
         48.230598,
         16.373117999999998
        ],
        [
         48.230598,
         16.373117999999998
        ],
        [
         48.230598,
         16.373117999999998
        ],
        [
         48.230598,
         16.373117999999998
        ],
        [
         48.230598,
         16.373117999999998
        ],
        [
         48.230598,
         16.373117999999998
        ],
        [
         48.230598,
         16.373117999999998
        ],
        [
         48.230598,
         16.373117999999998
        ],
        [
         48.230598,
         16.373117999999998
        ],
        [
         48.230598,
         16.373117999999998
        ],
        [
         48.229240999999995,
         16.373863
        ],
        [
         48.22926,
         16.373772
        ],
        [
         48.22926,
         16.373772
        ],
        [
         48.22926,
         16.373772
        ],
        [
         48.22926,
         16.373772
        ],
        [
         48.22926,
         16.373772
        ],
        [
         48.230204,
         16.373359
        ],
        [
         48.230204,
         16.373359
        ],
        [
         48.230204,
         16.373359
        ],
        [
         48.230204,
         16.373359
        ],
        [
         48.230204,
         16.373359
        ],
        [
         48.230204,
         16.373359
        ],
        [
         48.230204,
         16.373359
        ],
        [
         48.230475,
         16.373299
        ],
        [
         48.230475,
         16.373299
        ],
        [
         48.230475,
         16.373299
        ],
        [
         48.230475,
         16.373299
        ],
        [
         48.230475,
         16.373299
        ],
        [
         48.230475,
         16.373299
        ],
        [
         48.230475,
         16.373299
        ],
        [
         48.230606,
         16.373506
        ],
        [
         48.230606,
         16.373506
        ],
        [
         48.230606,
         16.373506
        ],
        [
         48.230606,
         16.373506
        ],
        [
         48.230606,
         16.373506
        ],
        [
         48.230641999999996,
         16.37363
        ],
        [
         48.230644,
         16.373654000000002
        ],
        [
         48.230629,
         16.373717000000003
        ],
        [
         48.230669,
         16.373798999999998
        ],
        [
         48.230686999999996,
         16.373891
        ],
        [
         48.230686999999996,
         16.373946
        ],
        [
         48.230686999999996,
         16.373946
        ],
        [
         48.230756,
         16.374073000000003
        ],
        [
         48.23075,
         16.374101
        ],
        [
         48.230742,
         16.374137
        ],
        [
         48.230740000000004,
         16.374144
        ],
        [
         48.230815,
         16.374139000000003
        ],
        [
         48.230813,
         16.374146
        ],
        [
         48.230802000000004,
         16.374163
        ],
        [
         48.230808,
         16.374236
        ],
        [
         48.230839,
         16.374279
        ],
        [
         48.230877,
         16.37434
        ],
        [
         48.230903999999995,
         16.374387
        ],
        [
         48.230901,
         16.374467000000003
        ],
        [
         48.230928000000006,
         16.374558
        ],
        [
         48.230996999999995,
         16.374551999999998
        ],
        [
         48.23103,
         16.374619
        ],
        [
         48.231064,
         16.374702
        ],
        [
         48.231072999999995,
         16.374785
        ],
        [
         48.231049,
         16.374882999999997
        ],
        [
         48.230990000000006,
         16.374963
        ],
        [
         48.230933,
         16.375113
        ],
        [
         48.230924,
         16.375132999999998
        ],
        [
         48.23087,
         16.375189000000002
        ],
        [
         48.23082,
         16.375223000000002
        ],
        [
         48.230724,
         16.375346
        ],
        [
         48.230663,
         16.375414000000003
        ],
        [
         48.230563000000004,
         16.375514000000003
        ],
        [
         48.230543,
         16.375549
        ],
        [
         48.230554999999995,
         16.375551
        ],
        [
         48.230579999999996,
         16.375554
        ],
        [
         48.230527,
         16.375524
        ],
        [
         48.230482,
         16.375448000000002
        ],
        [
         48.230521,
         16.375409
        ],
        [
         48.230661,
         16.375441
        ],
        [
         48.230703000000005,
         16.375441
        ],
        [
         48.230795,
         16.375279000000003
        ],
        [
         48.230803,
         16.375201999999998
        ],
        [
         48.230825,
         16.375148
        ],
        [
         48.23086,
         16.375127
        ],
        [
         48.230878000000004,
         16.375109
        ],
        [
         48.230897,
         16.375104
        ],
        [
         48.23089,
         16.375106
        ],
        [
         48.230899,
         16.375104
        ],
        [
         48.230911,
         16.375095
        ],
        [
         48.230914,
         16.375087
        ],
        [
         48.230925,
         16.375078
        ],
        [
         48.230928000000006,
         16.375072
        ],
        [
         48.230940999999994,
         16.375062
        ],
        [
         48.230945,
         16.375083
        ],
        [
         48.230928000000006,
         16.375182000000002
        ],
        [
         48.230944,
         16.375226
        ],
        [
         48.230934000000005,
         16.37527
        ],
        [
         48.230987,
         16.375324
        ],
        [
         48.230922,
         16.375385
        ],
        [
         48.230866999999996,
         16.37544
        ],
        [
         48.230643,
         16.375517000000002
        ],
        [
         48.230901,
         16.375207999999997
        ],
        [
         48.230998,
         16.375118
        ],
        [
         48.231010999999995,
         16.375073999999998
        ],
        [
         48.231032,
         16.375047
        ],
        [
         48.231041,
         16.374978
        ],
        [
         48.231038,
         16.374896
        ],
        [
         48.231072,
         16.37485
        ],
        [
         48.231097,
         16.374832
        ],
        [
         48.23105,
         16.374817
        ],
        [
         48.231057,
         16.374745
        ],
        [
         48.231141,
         16.374737
        ],
        [
         48.231213000000004,
         16.374737
        ],
        [
         48.231328999999995,
         16.374692
        ],
        [
         48.231377,
         16.374666
        ],
        [
         48.231459,
         16.37469
        ],
        [
         48.231522,
         16.374717999999998
        ],
        [
         48.231621999999994,
         16.374685
        ],
        [
         48.231691,
         16.374677
        ],
        [
         48.231777,
         16.374679
        ],
        [
         48.231801000000004,
         16.374682999999997
        ],
        [
         48.231836,
         16.374674
        ],
        [
         48.231856,
         16.374658
        ],
        [
         48.231866,
         16.374653
        ],
        [
         48.231898,
         16.374659
        ],
        [
         48.231976,
         16.374661
        ],
        [
         48.232018,
         16.374660000000002
        ],
        [
         48.232038,
         16.374665
        ],
        [
         48.232067,
         16.374678
        ],
        [
         48.23211,
         16.374691000000002
        ],
        [
         48.232193,
         16.374682
        ],
        [
         48.232172,
         16.374716
        ],
        [
         48.232172999999996,
         16.374737
        ],
        [
         48.232177,
         16.374795000000002
        ],
        [
         48.232184000000004,
         16.374897
        ],
        [
         48.232181,
         16.374923000000003
        ],
        [
         48.232178000000005,
         16.374934
        ],
        [
         48.232178999999995,
         16.374913
        ],
        [
         48.232192,
         16.374897
        ],
        [
         48.232209000000005,
         16.374888000000002
        ],
        [
         48.232211,
         16.374926000000002
        ],
        [
         48.232262,
         16.374878
        ],
        [
         48.232325,
         16.374751999999997
        ],
        [
         48.232309,
         16.37455
        ],
        [
         48.232302000000004,
         16.374457999999997
        ],
        [
         48.232288,
         16.374378
        ],
        [
         48.232299,
         16.374234
        ],
        [
         48.232303,
         16.374136
        ],
        [
         48.232298,
         16.374043
        ],
        [
         48.232288,
         16.373938
        ],
        [
         48.232310999999996,
         16.373872
        ],
        [
         48.232310999999996,
         16.373786
        ],
        [
         48.2323,
         16.373714
        ],
        [
         48.232271000000004,
         16.373638
        ],
        [
         48.232248999999996,
         16.373592000000002
        ],
        [
         48.232195000000004,
         16.3736
        ],
        [
         48.2321,
         16.373603
        ],
        [
         48.232034999999996,
         16.373611999999998
        ],
        [
         48.231941,
         16.373632999999998
        ],
        [
         48.231913,
         16.37365
        ],
        [
         48.231913,
         16.37365
        ],
        [
         48.231913,
         16.37365
        ],
        [
         48.231913,
         16.37365
        ],
        [
         48.231913,
         16.37365
        ],
        [
         48.231913,
         16.37365
        ],
        [
         48.231913,
         16.37365
        ]
       ],
       "name": "Trail",
       "options": [
        "color",
        "dash_array",
        "delay",
        "hardware_accelerated",
        "paused",
        "pulse_color",
        "radius",
        "reverse",
        "use",
        "weight"
       ],
       "pulse_color": "#3f6fba"
      }
     },
     "7ab61395c9d74b0aaf2aa43c513037d9": {
      "model_module": "jupyter-leaflet",
      "model_module_version": "^0.13.2",
      "model_name": "LeafletMarkerModel",
      "state": {
       "_model_module_version": "^0.13.2",
       "_view_module_version": "^0.13.2",
       "icon": "IPY_MODEL_38252593e31f4243b6e5a1ee8768cd91",
       "location": [
        48.230903999999995,
        16.373520000000003
       ],
       "options": [
        "alt",
        "draggable",
        "keyboard",
        "rise_offset",
        "rise_on_hover",
        "rotation_angle",
        "rotation_origin",
        "title",
        "z_index_offset"
       ]
      }
     },
     "7e4503aec31141d6bf53e2c6e5285d21": {
      "model_module": "jupyter-leaflet",
      "model_module_version": "^0.13.2",
      "model_name": "LeafletTileLayerModel",
      "state": {
       "_model_module_version": "^0.13.2",
       "_view_module_version": "^0.13.2",
       "base": true,
       "max_native_zoom": 18,
       "max_zoom": 19,
       "min_native_zoom": 0,
       "min_zoom": 1,
       "options": [
        "attribution",
        "detect_retina",
        "max_native_zoom",
        "max_zoom",
        "min_native_zoom",
        "min_zoom",
        "no_wrap",
        "tile_size",
        "tms"
       ]
      }
     },
     "80d0fec5a2a54594889b65186046872a": {
      "model_module": "jupyter-leaflet",
      "model_module_version": "^0.13.2",
      "model_name": "LeafletMapStyleModel",
      "state": {
       "_model_module_version": "^0.13.2"
      }
     },
     "85acc36118ad4e9cae933af7232704b5": {
      "model_module": "@jupyter-widgets/controls",
      "model_module_version": "1.5.0",
      "model_name": "IntSliderModel",
      "state": {
       "description": "Zoom level:",
       "layout": "IPY_MODEL_19fa6f3416df4a199649165ccae72eb8",
       "max": 20,
       "min": 10,
       "style": "IPY_MODEL_cbb9116a8e4242bfa816d2ba87023a4e",
       "value": 18
      }
     },
     "87cef8a33bd74d0c8131a6873181f770": {
      "model_module": "jupyter-leaflet",
      "model_module_version": "^0.13.2",
      "model_name": "LeafletMarkerModel",
      "state": {
       "_model_module_version": "^0.13.2",
       "_view_module_version": "^0.13.2",
       "icon": "IPY_MODEL_b5a28740d5424d7eba19955d171444f4",
       "location": [
        48.229083,
        16.368969
       ],
       "options": [
        "alt",
        "draggable",
        "keyboard",
        "rise_offset",
        "rise_on_hover",
        "rotation_angle",
        "rotation_origin",
        "title",
        "z_index_offset"
       ]
      }
     },
     "8a170d34ffdd41a7bee420a2cdd9c2cb": {
      "model_module": "jupyter-leaflet",
      "model_module_version": "^0.13.2",
      "model_name": "LeafletTileLayerModel",
      "state": {
       "_model_module_version": "^0.13.2",
       "_view_module_version": "^0.13.2",
       "attribution": "Map tiles by <a href=\"http://stamen.com/\">Stamen Design</a>, under <a href=\"http://creativecommons.org/licenses/by/3.0\">CC BY 3.0</a>. Data by <a href=\"http://openstreetmap.org/\">OpenStreetMap</a>, under <a href=\"http://creativecommons.org/licenses/by-sa/3.0\">CC BY SA</a>.",
       "max_native_zoom": 18,
       "max_zoom": 20,
       "min_native_zoom": 0,
       "name": "Stamen.Toner",
       "options": [
        "attribution",
        "detect_retina",
        "max_native_zoom",
        "max_zoom",
        "min_native_zoom",
        "min_zoom",
        "no_wrap",
        "tile_size",
        "tms"
       ],
       "url": "https://stamen-tiles-a.a.ssl.fastly.net/toner/{z}/{x}/{y}.png"
      }
     },
     "8c263242e04f4086a5bfcfd8017a0ce0": {
      "model_module": "jupyter-leaflet",
      "model_module_version": "^0.13.2",
      "model_name": "LeafletMarkerModel",
      "state": {
       "_model_module_version": "^0.13.2",
       "_view_module_version": "^0.13.2",
       "icon": "IPY_MODEL_5833167c73d3404db75d5aa659a93618",
       "location": [
        48.229083,
        16.368969
       ],
       "options": [
        "alt",
        "draggable",
        "keyboard",
        "rise_offset",
        "rise_on_hover",
        "rotation_angle",
        "rotation_origin",
        "title",
        "z_index_offset"
       ]
      }
     },
     "8f54340a9b4d4e59b8181c3376580f90": {
      "model_module": "jupyter-leaflet",
      "model_module_version": "^0.13.2",
      "model_name": "LeafletAntPathModel",
      "state": {
       "_model_module_version": "^0.13.2",
       "_view_module_version": "^0.13.2",
       "color": "#7590ba",
       "dash_array": [
        1,
        10
       ],
       "delay": 2000,
       "locations": [
        [
         48.231325,
         16.373732
        ],
        [
         48.231356,
         16.373739999999998
        ],
        [
         48.231421000000005,
         16.373773
        ],
        [
         48.23145,
         16.373781
        ],
        [
         48.231477000000005,
         16.373781
        ],
        [
         48.231429,
         16.37376
        ],
        [
         48.231195,
         16.373704999999998
        ],
        [
         48.231015,
         16.373694
        ],
        [
         48.230927,
         16.373727
        ],
        [
         48.230905,
         16.373775
        ],
        [
         48.230789,
         16.373766
        ],
        [
         48.230691,
         16.373754
        ],
        [
         48.230928999999996,
         16.373603
        ],
        [
         48.230944,
         16.373553
        ],
        [
         48.230901,
         16.373521
        ],
        [
         48.230903999999995,
         16.373520000000003
        ],
        [
         48.230897999999996,
         16.373495000000002
        ],
        [
         48.230856,
         16.373448
        ],
        [
         48.230805,
         16.373421
        ],
        [
         48.230725,
         16.373383
        ],
        [
         48.230694,
         16.373312
        ],
        [
         48.230626,
         16.373217
        ],
        [
         48.230639000000004,
         16.373161
        ],
        [
         48.2305,
         16.373057
        ],
        [
         48.230415,
         16.372962
        ],
        [
         48.230418,
         16.372923
        ],
        [
         48.230337,
         16.372832
        ],
        [
         48.23024,
         16.372768
        ],
        [
         48.230212,
         16.372675
        ],
        [
         48.230253999999995,
         16.372647
        ],
        [
         48.230253000000005,
         16.372621
        ],
        [
         48.230214000000004,
         16.3726
        ],
        [
         48.230189,
         16.372585
        ],
        [
         48.230092,
         16.372559
        ],
        [
         48.229933,
         16.372475
        ],
        [
         48.229804,
         16.372084
        ],
        [
         48.229861,
         16.37201
        ],
        [
         48.229827,
         16.371956
        ],
        [
         48.230003,
         16.371848
        ],
        [
         48.230162,
         16.371603
        ],
        [
         48.230214000000004,
         16.371414
        ],
        [
         48.230290000000004,
         16.371272
        ],
        [
         48.23019,
         16.371214000000002
        ],
        [
         48.230083,
         16.371168
        ],
        [
         48.229985,
         16.371159
        ],
        [
         48.229952000000004,
         16.371152
        ],
        [
         48.229884000000006,
         16.371082
        ],
        [
         48.229884000000006,
         16.371082
        ],
        [
         48.229884000000006,
         16.371082
        ],
        [
         48.229884000000006,
         16.371082
        ],
        [
         48.229884000000006,
         16.371082
        ],
        [
         48.229884000000006,
         16.371082
        ],
        [
         48.229884000000006,
         16.371082
        ],
        [
         48.229884000000006,
         16.371082
        ],
        [
         48.229884000000006,
         16.371082
        ],
        [
         48.229884000000006,
         16.371082
        ],
        [
         48.229634000000004,
         16.370667
        ],
        [
         48.229634000000004,
         16.370667
        ],
        [
         48.229634000000004,
         16.370667
        ],
        [
         48.229634000000004,
         16.370667
        ],
        [
         48.229566999999996,
         16.370301
        ],
        [
         48.229538,
         16.370146
        ],
        [
         48.229510999999995,
         16.369997
        ],
        [
         48.229562,
         16.36992
        ],
        [
         48.229582,
         16.369868
        ],
        [
         48.229585,
         16.369823999999998
        ],
        [
         48.229566999999996,
         16.369782
        ],
        [
         48.229458,
         16.369742000000002
        ],
        [
         48.229496000000005,
         16.369692999999998
        ],
        [
         48.229473999999996,
         16.369692
        ],
        [
         48.229456,
         16.369692999999998
        ],
        [
         48.229401,
         16.369694
        ],
        [
         48.229341,
         16.369626999999998
        ],
        [
         48.229321,
         16.369638000000002
        ],
        [
         48.229246,
         16.369642000000002
        ],
        [
         48.229118,
         16.369605
        ],
        [
         48.228858,
         16.369601
        ],
        [
         48.228826,
         16.369467
        ],
        [
         48.228821,
         16.369379000000002
        ],
        [
         48.22888,
         16.369293
        ],
        [
         48.228916,
         16.369232
        ],
        [
         48.228871999999996,
         16.36919
        ],
        [
         48.228865,
         16.369135999999997
        ],
        [
         48.228835,
         16.369062
        ],
        [
         48.228849,
         16.368964000000002
        ],
        [
         48.228908000000004,
         16.368909
        ],
        [
         48.228978000000005,
         16.368884
        ],
        [
         48.228943,
         16.368816
        ],
        [
         48.22885,
         16.368758
        ],
        [
         48.228856,
         16.368721
        ],
        [
         48.228848,
         16.368684
        ],
        [
         48.228848,
         16.368662
        ],
        [
         48.228843,
         16.36865
        ],
        [
         48.22889,
         16.368617
        ],
        [
         48.228902000000005,
         16.368613
        ],
        [
         48.228916999999996,
         16.368555999999998
        ],
        [
         48.228966,
         16.368542
        ],
        [
         48.229025,
         16.36855
        ],
        [
         48.229043,
         16.368601
        ],
        [
         48.229057,
         16.368591000000002
        ],
        [
         48.229017,
         16.3686
        ],
        [
         48.229007,
         16.368620999999997
        ],
        [
         48.228983,
         16.368671
        ],
        [
         48.229003000000006,
         16.368758
        ],
        [
         48.22903,
         16.368827
        ],
        [
         48.229084,
         16.368907999999998
        ],
        [
         48.229108000000004,
         16.368988
        ],
        [
         48.229109,
         16.369024
        ],
        [
         48.229123,
         16.369032999999998
        ],
        [
         48.229139,
         16.36905
        ],
        [
         48.229074,
         16.369023000000002
        ],
        [
         48.229031,
         16.369011999999998
        ],
        [
         48.229034000000006,
         16.369024
        ],
        [
         48.229063000000004,
         16.369027
        ],
        [
         48.229096999999996,
         16.368993
        ],
        [
         48.229092,
         16.368972
        ],
        [
         48.229061,
         16.368935999999998
        ],
        [
         48.229053,
         16.368931
        ],
        [
         48.229075,
         16.368954000000002
        ],
        [
         48.229082,
         16.368964000000002
        ],
        [
         48.229094,
         16.368975
        ],
        [
         48.229128,
         16.369004
        ],
        [
         48.229147,
         16.369007
        ],
        [
         48.229106,
         16.36898
        ],
        [
         48.229068,
         16.368959
        ],
        [
         48.229026,
         16.368947
        ],
        [
         48.229061,
         16.369024
        ],
        [
         48.229199,
         16.369159
        ],
        [
         48.229257000000004,
         16.369269
        ],
        [
         48.229219,
         16.369334
        ],
        [
         48.229201,
         16.369424
        ],
        [
         48.229203999999996,
         16.36948
        ],
        [
         48.229240999999995,
         16.369569
        ],
        [
         48.229234000000005,
         16.369592
        ],
        [
         48.229312,
         16.369654999999998
        ],
        [
         48.229384,
         16.369725
        ],
        [
         48.229455,
         16.369779
        ],
        [
         48.229477,
         16.369839000000002
        ],
        [
         48.229521999999996,
         16.3699
        ],
        [
         48.229524,
         16.369909
        ],
        [
         48.229537,
         16.369913
        ],
        [
         48.22952,
         16.369892
        ],
        [
         48.229543,
         16.369889999999998
        ],
        [
         48.229585,
         16.369954999999997
        ],
        [
         48.229628999999996,
         16.369997
        ],
        [
         48.229658,
         16.370060000000002
        ],
        [
         48.229647,
         16.370151
        ],
        [
         48.22963,
         16.370268
        ],
        [
         48.229673999999996,
         16.370348
        ],
        [
         48.229695,
         16.370404
        ],
        [
         48.229721000000005,
         16.370499
        ],
        [
         48.229714,
         16.370549
        ],
        [
         48.229782,
         16.370616000000002
        ],
        [
         48.229847,
         16.370701999999998
        ],
        [
         48.229871,
         16.370793
        ],
        [
         48.229828999999995,
         16.370859
        ],
        [
         48.229856,
         16.370957999999998
        ],
        [
         48.229865000000004,
         16.371053
        ],
        [
         48.22988,
         16.371113
        ],
        [
         48.229896999999994,
         16.371187
        ],
        [
         48.229887,
         16.371247
        ],
        [
         48.22984,
         16.371235000000002
        ],
        [
         48.229791999999996,
         16.371291
        ],
        [
         48.229715999999996,
         16.371288
        ],
        [
         48.229584,
         16.371263
        ],
        [
         48.229524,
         16.371259
        ],
        [
         48.229459000000006,
         16.371226999999998
        ],
        [
         48.229382,
         16.371171
        ],
        [
         48.229347,
         16.371106
        ],
        [
         48.229313,
         16.371064999999998
        ],
        [
         48.229295,
         16.371037
        ],
        [
         48.229285,
         16.371026
        ],
        [
         48.229281,
         16.371038000000002
        ],
        [
         48.229324,
         16.370986
        ],
        [
         48.2293,
         16.370987
        ],
        [
         48.229268,
         16.370995999999998
        ],
        [
         48.229243,
         16.371002999999998
        ],
        [
         48.229237,
         16.371029
        ],
        [
         48.229253,
         16.371118
        ],
        [
         48.22926,
         16.371118
        ],
        [
         48.229279999999996,
         16.371097
        ],
        [
         48.229354,
         16.371187
        ],
        [
         48.229167,
         16.370898999999998
        ],
        [
         48.22912,
         16.3709
        ],
        [
         48.229163,
         16.370869
        ],
        [
         48.229162,
         16.370898999999998
        ],
        [
         48.229108000000004,
         16.370917000000002
        ],
        [
         48.229110999999996,
         16.370892
        ],
        [
         48.229075,
         16.370949
        ],
        [
         48.229048999999996,
         16.370877
        ],
        [
         48.229031,
         16.370824
        ],
        [
         48.229044,
         16.370835999999997
        ],
        [
         48.229046000000004,
         16.37085
        ],
        [
         48.229122,
         16.370841
        ],
        [
         48.229255,
         16.370832
        ],
        [
         48.229314,
         16.370901999999997
        ],
        [
         48.229222,
         16.371055
        ],
        [
         48.229252,
         16.371187
        ],
        [
         48.229246,
         16.371263
        ],
        [
         48.229245,
         16.371348
        ],
        [
         48.229295,
         16.371448
        ],
        [
         48.229325,
         16.371482999999998
        ],
        [
         48.229356,
         16.371515
        ],
        [
         48.229353,
         16.371586999999998
        ],
        [
         48.229304,
         16.371674
        ],
        [
         48.229293,
         16.371706
        ],
        [
         48.22935,
         16.371678
        ],
        [
         48.229397999999996,
         16.371692000000003
        ],
        [
         48.229449,
         16.371734
        ],
        [
         48.229424,
         16.371804
        ],
        [
         48.229448,
         16.371789
        ],
        [
         48.229534,
         16.371745999999998
        ],
        [
         48.229572,
         16.371663
        ],
        [
         48.229597,
         16.371566
        ],
        [
         48.229633,
         16.3715
        ],
        [
         48.229675,
         16.371378
        ],
        [
         48.229681,
         16.371349
        ],
        [
         48.229687,
         16.371375
        ],
        [
         48.22971,
         16.371357999999997
        ],
        [
         48.229702,
         16.371335000000002
        ],
        [
         48.229668,
         16.371342000000002
        ],
        [
         48.229623,
         16.371313
        ],
        [
         48.229559,
         16.371287
        ],
        [
         48.22953,
         16.371315
        ],
        [
         48.229490000000006,
         16.371309
        ],
        [
         48.229454,
         16.371275
        ],
        [
         48.229406,
         16.371234
        ],
        [
         48.229406,
         16.371234
        ],
        [
         48.229406,
         16.371234
        ],
        [
         48.229406,
         16.371234
        ],
        [
         48.229406,
         16.371234
        ],
        [
         48.229406,
         16.371234
        ],
        [
         48.229406,
         16.371234
        ],
        [
         48.229406,
         16.371234
        ],
        [
         48.229406,
         16.371234
        ],
        [
         48.23001,
         16.371512
        ],
        [
         48.23001,
         16.371512
        ],
        [
         48.23001,
         16.371512
        ],
        [
         48.23001,
         16.371512
        ],
        [
         48.23001,
         16.371512
        ],
        [
         48.23001,
         16.371512
        ],
        [
         48.23001,
         16.371512
        ],
        [
         48.23001,
         16.371512
        ],
        [
         48.23001,
         16.371512
        ],
        [
         48.23001,
         16.371512
        ],
        [
         48.23001,
         16.371512
        ],
        [
         48.23001,
         16.371512
        ],
        [
         48.23001,
         16.371512
        ],
        [
         48.23001,
         16.371512
        ],
        [
         48.23001,
         16.371512
        ],
        [
         48.23001,
         16.371512
        ],
        [
         48.23001,
         16.371512
        ],
        [
         48.23001,
         16.371512
        ],
        [
         48.23001,
         16.371512
        ],
        [
         48.230598,
         16.373117999999998
        ],
        [
         48.230598,
         16.373117999999998
        ],
        [
         48.230598,
         16.373117999999998
        ],
        [
         48.230598,
         16.373117999999998
        ],
        [
         48.230598,
         16.373117999999998
        ],
        [
         48.230598,
         16.373117999999998
        ],
        [
         48.230598,
         16.373117999999998
        ],
        [
         48.230598,
         16.373117999999998
        ],
        [
         48.230598,
         16.373117999999998
        ],
        [
         48.230598,
         16.373117999999998
        ],
        [
         48.230598,
         16.373117999999998
        ],
        [
         48.230598,
         16.373117999999998
        ],
        [
         48.230598,
         16.373117999999998
        ],
        [
         48.230598,
         16.373117999999998
        ],
        [
         48.230598,
         16.373117999999998
        ],
        [
         48.230598,
         16.373117999999998
        ],
        [
         48.229240999999995,
         16.373863
        ],
        [
         48.22926,
         16.373772
        ],
        [
         48.22926,
         16.373772
        ],
        [
         48.22926,
         16.373772
        ],
        [
         48.22926,
         16.373772
        ],
        [
         48.22926,
         16.373772
        ],
        [
         48.230204,
         16.373359
        ],
        [
         48.230204,
         16.373359
        ],
        [
         48.230204,
         16.373359
        ],
        [
         48.230204,
         16.373359
        ],
        [
         48.230204,
         16.373359
        ],
        [
         48.230204,
         16.373359
        ],
        [
         48.230204,
         16.373359
        ],
        [
         48.230475,
         16.373299
        ],
        [
         48.230475,
         16.373299
        ],
        [
         48.230475,
         16.373299
        ],
        [
         48.230475,
         16.373299
        ],
        [
         48.230475,
         16.373299
        ],
        [
         48.230475,
         16.373299
        ],
        [
         48.230475,
         16.373299
        ],
        [
         48.230606,
         16.373506
        ],
        [
         48.230606,
         16.373506
        ],
        [
         48.230606,
         16.373506
        ],
        [
         48.230606,
         16.373506
        ],
        [
         48.230606,
         16.373506
        ],
        [
         48.230641999999996,
         16.37363
        ],
        [
         48.230644,
         16.373654000000002
        ],
        [
         48.230629,
         16.373717000000003
        ],
        [
         48.230669,
         16.373798999999998
        ],
        [
         48.230686999999996,
         16.373891
        ],
        [
         48.230686999999996,
         16.373946
        ],
        [
         48.230686999999996,
         16.373946
        ],
        [
         48.230756,
         16.374073000000003
        ],
        [
         48.23075,
         16.374101
        ],
        [
         48.230742,
         16.374137
        ],
        [
         48.230740000000004,
         16.374144
        ],
        [
         48.230815,
         16.374139000000003
        ],
        [
         48.230813,
         16.374146
        ],
        [
         48.230802000000004,
         16.374163
        ],
        [
         48.230808,
         16.374236
        ],
        [
         48.230839,
         16.374279
        ],
        [
         48.230877,
         16.37434
        ],
        [
         48.230903999999995,
         16.374387
        ],
        [
         48.230901,
         16.374467000000003
        ],
        [
         48.230928000000006,
         16.374558
        ],
        [
         48.230996999999995,
         16.374551999999998
        ],
        [
         48.23103,
         16.374619
        ],
        [
         48.231064,
         16.374702
        ],
        [
         48.231072999999995,
         16.374785
        ],
        [
         48.231049,
         16.374882999999997
        ],
        [
         48.230990000000006,
         16.374963
        ],
        [
         48.230933,
         16.375113
        ],
        [
         48.230924,
         16.375132999999998
        ],
        [
         48.23087,
         16.375189000000002
        ],
        [
         48.23082,
         16.375223000000002
        ],
        [
         48.230724,
         16.375346
        ],
        [
         48.230663,
         16.375414000000003
        ],
        [
         48.230563000000004,
         16.375514000000003
        ],
        [
         48.230543,
         16.375549
        ],
        [
         48.230554999999995,
         16.375551
        ],
        [
         48.230579999999996,
         16.375554
        ],
        [
         48.230527,
         16.375524
        ],
        [
         48.230482,
         16.375448000000002
        ],
        [
         48.230521,
         16.375409
        ],
        [
         48.230661,
         16.375441
        ],
        [
         48.230703000000005,
         16.375441
        ],
        [
         48.230795,
         16.375279000000003
        ],
        [
         48.230803,
         16.375201999999998
        ],
        [
         48.230825,
         16.375148
        ],
        [
         48.23086,
         16.375127
        ],
        [
         48.230878000000004,
         16.375109
        ],
        [
         48.230897,
         16.375104
        ],
        [
         48.23089,
         16.375106
        ],
        [
         48.230899,
         16.375104
        ],
        [
         48.230911,
         16.375095
        ],
        [
         48.230914,
         16.375087
        ],
        [
         48.230925,
         16.375078
        ],
        [
         48.230928000000006,
         16.375072
        ],
        [
         48.230940999999994,
         16.375062
        ],
        [
         48.230945,
         16.375083
        ],
        [
         48.230928000000006,
         16.375182000000002
        ],
        [
         48.230944,
         16.375226
        ],
        [
         48.230934000000005,
         16.37527
        ],
        [
         48.230987,
         16.375324
        ],
        [
         48.230922,
         16.375385
        ],
        [
         48.230866999999996,
         16.37544
        ],
        [
         48.230643,
         16.375517000000002
        ],
        [
         48.230901,
         16.375207999999997
        ],
        [
         48.230998,
         16.375118
        ],
        [
         48.231010999999995,
         16.375073999999998
        ],
        [
         48.231032,
         16.375047
        ],
        [
         48.231041,
         16.374978
        ],
        [
         48.231038,
         16.374896
        ],
        [
         48.231072,
         16.37485
        ],
        [
         48.231097,
         16.374832
        ],
        [
         48.23105,
         16.374817
        ],
        [
         48.231057,
         16.374745
        ],
        [
         48.231141,
         16.374737
        ],
        [
         48.231213000000004,
         16.374737
        ],
        [
         48.231328999999995,
         16.374692
        ],
        [
         48.231377,
         16.374666
        ],
        [
         48.231459,
         16.37469
        ],
        [
         48.231522,
         16.374717999999998
        ],
        [
         48.231621999999994,
         16.374685
        ],
        [
         48.231691,
         16.374677
        ],
        [
         48.231777,
         16.374679
        ],
        [
         48.231801000000004,
         16.374682999999997
        ],
        [
         48.231836,
         16.374674
        ],
        [
         48.231856,
         16.374658
        ],
        [
         48.231866,
         16.374653
        ],
        [
         48.231898,
         16.374659
        ],
        [
         48.231976,
         16.374661
        ],
        [
         48.232018,
         16.374660000000002
        ],
        [
         48.232038,
         16.374665
        ],
        [
         48.232067,
         16.374678
        ],
        [
         48.23211,
         16.374691000000002
        ],
        [
         48.232193,
         16.374682
        ],
        [
         48.232172,
         16.374716
        ],
        [
         48.232172999999996,
         16.374737
        ],
        [
         48.232177,
         16.374795000000002
        ],
        [
         48.232184000000004,
         16.374897
        ],
        [
         48.232181,
         16.374923000000003
        ],
        [
         48.232178000000005,
         16.374934
        ],
        [
         48.232178999999995,
         16.374913
        ],
        [
         48.232192,
         16.374897
        ],
        [
         48.232209000000005,
         16.374888000000002
        ],
        [
         48.232211,
         16.374926000000002
        ],
        [
         48.232262,
         16.374878
        ],
        [
         48.232325,
         16.374751999999997
        ],
        [
         48.232309,
         16.37455
        ],
        [
         48.232302000000004,
         16.374457999999997
        ],
        [
         48.232288,
         16.374378
        ],
        [
         48.232299,
         16.374234
        ],
        [
         48.232303,
         16.374136
        ],
        [
         48.232298,
         16.374043
        ],
        [
         48.232288,
         16.373938
        ],
        [
         48.232310999999996,
         16.373872
        ],
        [
         48.232310999999996,
         16.373786
        ],
        [
         48.2323,
         16.373714
        ],
        [
         48.232271000000004,
         16.373638
        ],
        [
         48.232248999999996,
         16.373592000000002
        ],
        [
         48.232195000000004,
         16.3736
        ],
        [
         48.2321,
         16.373603
        ],
        [
         48.232034999999996,
         16.373611999999998
        ],
        [
         48.231941,
         16.373632999999998
        ],
        [
         48.231913,
         16.37365
        ],
        [
         48.231913,
         16.37365
        ],
        [
         48.231913,
         16.37365
        ],
        [
         48.231913,
         16.37365
        ],
        [
         48.231913,
         16.37365
        ],
        [
         48.231913,
         16.37365
        ],
        [
         48.231913,
         16.37365
        ]
       ],
       "name": "Trail",
       "options": [
        "color",
        "dash_array",
        "delay",
        "hardware_accelerated",
        "paused",
        "pulse_color",
        "radius",
        "reverse",
        "use",
        "weight"
       ],
       "pulse_color": "#3f6fba"
      }
     },
     "962d925f4b6547f8a3a9c79e2b8ac099": {
      "model_module": "jupyter-leaflet",
      "model_module_version": "^0.13.2",
      "model_name": "LeafletMarkerModel",
      "state": {
       "_model_module_version": "^0.13.2",
       "_view_module_version": "^0.13.2",
       "icon": "IPY_MODEL_5bd13314aaef47c9a3a1238367a34716",
       "location": [
        48.230742,
        16.374137
       ],
       "options": [
        "alt",
        "draggable",
        "keyboard",
        "rise_offset",
        "rise_on_hover",
        "rotation_angle",
        "rotation_origin",
        "title",
        "z_index_offset"
       ]
      }
     },
     "9878451671da422aa9fa49c8e3a37b65": {
      "model_module": "jupyter-leaflet",
      "model_module_version": "^0.13.2",
      "model_name": "LeafletMarkerModel",
      "state": {
       "_model_module_version": "^0.13.2",
       "_view_module_version": "^0.13.2",
       "icon": "IPY_MODEL_38252593e31f4243b6e5a1ee8768cd91",
       "location": [
        48.229347,
        16.371676
       ],
       "options": [
        "alt",
        "draggable",
        "keyboard",
        "rise_offset",
        "rise_on_hover",
        "rotation_angle",
        "rotation_origin",
        "title",
        "z_index_offset"
       ]
      }
     },
     "9a891daa98d24dcab3083ca555724cff": {
      "model_module": "jupyter-leaflet",
      "model_module_version": "^0.13.2",
      "model_name": "LeafletMapModel",
      "state": {
       "_model_module_version": "^0.13.2",
       "_view_module_version": "^0.13.2",
       "bottom": 5816068,
       "center": [
        48.23256307207321,
        16.38291120529175
       ],
       "controls": [
        "IPY_MODEL_24caeb048661413e90cad11121bcc317",
        "IPY_MODEL_ad34e0e6a7704fc08691066b4241dc7a",
        "IPY_MODEL_f50a74a4fc5f49b59651960e012aade2",
        "IPY_MODEL_5024435247d342079be8b3b4c5cf9958",
        "IPY_MODEL_09715252ea1242ec9edd21244ae4aaa8",
        "IPY_MODEL_f0fa1177f3234d9f85a7c03497333402",
        "IPY_MODEL_a26251a0caf24e8e88f82a6af084abc2"
       ],
       "default_style": "IPY_MODEL_1321b353fd0e479ca0813af7f56cdc89",
       "dragging_style": "IPY_MODEL_e29d9a36d1b14f7b8331ba0237f63ed2",
       "east": 16.396536827087406,
       "fullscreen": false,
       "interpolation": "bilinear",
       "layers": [
        "IPY_MODEL_7e4503aec31141d6bf53e2c6e5285d21"
       ],
       "layout": "IPY_MODEL_e85d863c4d694aea89ea7107c11c240f",
       "left": 9151472,
       "modisdate": "yesterday",
       "north": 48.236850834935034,
       "options": [
        "bounce_at_zoom_limits",
        "box_zoom",
        "center",
        "close_popup_on_click",
        "double_click_zoom",
        "dragging",
        "fullscreen",
        "inertia",
        "inertia_deceleration",
        "inertia_max_speed",
        "interpolation",
        "keyboard",
        "keyboard_pan_offset",
        "keyboard_zoom_offset",
        "max_zoom",
        "min_zoom",
        "scroll_wheel_zoom",
        "tap",
        "tap_tolerance",
        "touch_zoom",
        "world_copy_jump",
        "zoom",
        "zoom_animation_threshold",
        "zoom_delta",
        "zoom_snap",
        "zoom_start"
       ],
       "right": 9152742,
       "south": 48.22827494988891,
       "style": "IPY_MODEL_1321b353fd0e479ca0813af7f56cdc89",
       "top": 5815468,
       "west": 16.369285583496097,
       "window_url": "http://localhost:8888/lab#Reading-the-data-as-provided-by-the-gadget-(there-are-always-two-types-of-files---tracks-and-ratings-of-spots)",
       "zoom": 16
      }
     },
     "9ab149a00dd8493490805273ce0016d5": {
      "model_module": "jupyter-leaflet",
      "model_module_version": "^0.13.2",
      "model_name": "LeafletMarkerModel",
      "state": {
       "_model_module_version": "^0.13.2",
       "_view_module_version": "^0.13.2",
       "icon": "IPY_MODEL_5bd13314aaef47c9a3a1238367a34716",
       "location": [
        48.231735,
        16.374679
       ],
       "options": [
        "alt",
        "draggable",
        "keyboard",
        "rise_offset",
        "rise_on_hover",
        "rotation_angle",
        "rotation_origin",
        "title",
        "z_index_offset"
       ]
      }
     },
     "9b726c6e87ff4565b4d65d175543f72e": {
      "model_module": "@jupyter-widgets/controls",
      "model_module_version": "1.5.0",
      "model_name": "LinkModel",
      "state": {
       "source": [
        "IPY_MODEL_85acc36118ad4e9cae933af7232704b5",
        "value"
       ],
       "target": [
        "IPY_MODEL_47a386390fde48918ca9ad01d917c6c2",
        "zoom"
       ]
      }
     },
     "a26251a0caf24e8e88f82a6af084abc2": {
      "model_module": "jupyter-leaflet",
      "model_module_version": "^0.13.2",
      "model_name": "LeafletLayersControlModel",
      "state": {
       "_model_module_version": "^0.13.2",
       "_view_module_version": "^0.13.2",
       "options": [
        "position"
       ],
       "position": "topright"
      }
     },
     "a2db8249f631460eaa12fcafc791dd2b": {
      "model_module": "jupyter-leaflet",
      "model_module_version": "^0.13.2",
      "model_name": "LeafletMarkerModel",
      "state": {
       "_model_module_version": "^0.13.2",
       "_view_module_version": "^0.13.2",
       "icon": "IPY_MODEL_b5a28740d5424d7eba19955d171444f4",
       "location": [
        48.231858,
        16.374661
       ],
       "options": [
        "alt",
        "draggable",
        "keyboard",
        "rise_offset",
        "rise_on_hover",
        "rotation_angle",
        "rotation_origin",
        "title",
        "z_index_offset"
       ]
      }
     },
     "ad34e0e6a7704fc08691066b4241dc7a": {
      "model_module": "jupyter-leaflet",
      "model_module_version": "^0.13.2",
      "model_name": "LeafletAttributionControlModel",
      "state": {
       "_model_module_version": "^0.13.2",
       "_view_module_version": "^0.13.2",
       "options": [
        "position",
        "prefix"
       ],
       "position": "bottomright",
       "prefix": "ipyleaflet"
      }
     },
     "af5e5fdb368d47ef916a24c90b036f9a": {
      "model_module": "jupyter-leaflet",
      "model_module_version": "^0.13.2",
      "model_name": "LeafletWidgetControlModel",
      "state": {
       "_model_module": "jupyter-leaflet",
       "_model_module_version": "^0.13.2",
       "_view_count": null,
       "_view_module": "jupyter-leaflet",
       "_view_module_version": "^0.13.2",
       "options": [
        "position"
       ],
       "position": "topright",
       "widget": "IPY_MODEL_85acc36118ad4e9cae933af7232704b5"
      }
     },
     "af975bc6672c4c9d9b5888446de217d2": {
      "model_module": "jupyter-leaflet",
      "model_module_version": "^0.13.2",
      "model_name": "LeafletMapStyleModel",
      "state": {
       "_model_module_version": "^0.13.2"
      }
     },
     "b586481622f74ff5a7557f42caf38dcb": {
      "model_module": "jupyter-leaflet",
      "model_module_version": "^0.13.2",
      "model_name": "LeafletMarkerModel",
      "state": {
       "_model_module_version": "^0.13.2",
       "_view_module_version": "^0.13.2",
       "icon": "IPY_MODEL_5bd13314aaef47c9a3a1238367a34716",
       "location": [
        48.230563000000004,
        16.375514000000003
       ],
       "options": [
        "alt",
        "draggable",
        "keyboard",
        "rise_offset",
        "rise_on_hover",
        "rotation_angle",
        "rotation_origin",
        "title",
        "z_index_offset"
       ]
      }
     },
     "b5a28740d5424d7eba19955d171444f4": {
      "model_module": "jupyter-leaflet",
      "model_module_version": "^0.13.2",
      "model_name": "LeafletIconModel",
      "state": {
       "_model_module_version": "^0.13.2",
       "_view_module_version": "^0.13.2",
       "icon_size": [
        30,
        40
       ],
       "icon_url": "icons/trashbin.png",
       "options": [
        "icon_anchor",
        "icon_size",
        "icon_url",
        "popup_anchor",
        "shadow_anchor",
        "shadow_size",
        "shadow_url"
       ],
       "shadow_url": null
      }
     },
     "b5c71e196546418fbf8ffbf02f7f9a71": {
      "model_module": "jupyter-leaflet",
      "model_module_version": "^0.13.2",
      "model_name": "LeafletMapStyleModel",
      "state": {
       "_model_module_version": "^0.13.2"
      }
     },
     "c8686681d9604198b37a6d4b72ece32d": {
      "model_module": "jupyter-leaflet",
      "model_module_version": "^0.13.2",
      "model_name": "LeafletLayersControlModel",
      "state": {
       "_model_module_version": "^0.13.2",
       "_view_module_version": "^0.13.2",
       "options": [
        "position"
       ],
       "position": "topright"
      }
     },
     "cb95a5c8ed9a42aa8529e1f594cd7e98": {
      "model_module": "jupyter-leaflet",
      "model_module_version": "^0.13.2",
      "model_name": "LeafletZoomControlModel",
      "state": {
       "_model_module_version": "^0.13.2",
       "_view_module_version": "^0.13.2",
       "options": [
        "position",
        "zoom_in_text",
        "zoom_in_title",
        "zoom_out_text",
        "zoom_out_title"
       ]
      }
     },
     "cbb9116a8e4242bfa816d2ba87023a4e": {
      "model_module": "@jupyter-widgets/controls",
      "model_module_version": "1.5.0",
      "model_name": "SliderStyleModel",
      "state": {
       "description_width": ""
      }
     },
     "cc3139c81f2f4ebbbb1ef597cd57e69a": {
      "model_module": "@jupyter-widgets/controls",
      "model_module_version": "1.5.0",
      "model_name": "IntSliderModel",
      "state": {
       "description": "Zoom level:",
       "layout": "IPY_MODEL_6fbed4d6fa964464b73a20bd0697cd21",
       "max": 20,
       "min": 10,
       "style": "IPY_MODEL_ea4356ceff2f4ae7a3a609543b44881e",
       "value": 18
      }
     },
     "d3a37c974bcb4981a60d9985b0d5b334": {
      "model_module": "jupyter-leaflet",
      "model_module_version": "^0.13.2",
      "model_name": "LeafletMarkerModel",
      "state": {
       "_model_module_version": "^0.13.2",
       "_view_module_version": "^0.13.2",
       "icon": "IPY_MODEL_38252593e31f4243b6e5a1ee8768cd91",
       "location": [
        48.231735,
        16.374679
       ],
       "options": [
        "alt",
        "draggable",
        "keyboard",
        "rise_offset",
        "rise_on_hover",
        "rotation_angle",
        "rotation_origin",
        "title",
        "z_index_offset"
       ]
      }
     },
     "d3e9763ebc05443b8b12ed588a8ba1cf": {
      "model_module": "jupyter-leaflet",
      "model_module_version": "^0.13.2",
      "model_name": "LeafletMapStyleModel",
      "state": {
       "_model_module_version": "^0.13.2",
       "cursor": "move"
      }
     },
     "d5eb02c0573f48d3a98c50250a81c04b": {
      "model_module": "jupyter-leaflet",
      "model_module_version": "^0.13.2",
      "model_name": "LeafletTileLayerModel",
      "state": {
       "_model_module_version": "^0.13.2",
       "_view_module_version": "^0.13.2",
       "attribution": "Map tiles by <a href=\"http://stamen.com/\">Stamen Design</a>, under <a href=\"http://creativecommons.org/licenses/by/3.0\">CC BY 3.0</a>. Data by <a href=\"http://openstreetmap.org/\">OpenStreetMap</a>, under <a href=\"http://creativecommons.org/licenses/by-sa/3.0\">CC BY SA</a>.",
       "max_native_zoom": 18,
       "max_zoom": 20,
       "min_native_zoom": 0,
       "name": "Stamen.Toner",
       "options": [
        "attribution",
        "detect_retina",
        "max_native_zoom",
        "max_zoom",
        "min_native_zoom",
        "min_zoom",
        "no_wrap",
        "tile_size",
        "tms"
       ],
       "url": "https://stamen-tiles-a.a.ssl.fastly.net/toner/{z}/{x}/{y}.png"
      }
     },
     "d62d0ef0224c438a92da86eda4f409f7": {
      "model_module": "@jupyter-widgets/controls",
      "model_module_version": "1.5.0",
      "model_name": "IntSliderModel",
      "state": {
       "description": "Zoom level:",
       "layout": "IPY_MODEL_4df06b38ae644247bb07b38dbb02c772",
       "max": 20,
       "min": 10,
       "style": "IPY_MODEL_0923c4f3abe34e9ca493da2cc1977163",
       "value": 18
      }
     },
     "d9edfad46a504ae4a92a90a1f38d455d": {
      "model_module": "jupyter-leaflet",
      "model_module_version": "^0.13.2",
      "model_name": "LeafletMarkerModel",
      "state": {
       "_model_module_version": "^0.13.2",
       "_view_module_version": "^0.13.2",
       "icon": "IPY_MODEL_38252593e31f4243b6e5a1ee8768cd91",
       "location": [
        48.229494,
        16.369711
       ],
       "options": [
        "alt",
        "draggable",
        "keyboard",
        "rise_offset",
        "rise_on_hover",
        "rotation_angle",
        "rotation_origin",
        "title",
        "z_index_offset"
       ]
      }
     },
     "dc1f483eb69f4007ab8e2a3b54e1e68e": {
      "model_module": "jupyter-leaflet",
      "model_module_version": "^0.13.2",
      "model_name": "LeafletMarkerModel",
      "state": {
       "_model_module_version": "^0.13.2",
       "_view_module_version": "^0.13.2",
       "icon": "IPY_MODEL_b5a28740d5424d7eba19955d171444f4",
       "location": [
        48.229262,
        16.373779000000003
       ],
       "options": [
        "alt",
        "draggable",
        "keyboard",
        "rise_offset",
        "rise_on_hover",
        "rotation_angle",
        "rotation_origin",
        "title",
        "z_index_offset"
       ]
      }
     },
     "dfd47f64f2a04f209b25ea9e258ed1da": {
      "model_module": "jupyter-leaflet",
      "model_module_version": "^0.13.2",
      "model_name": "LeafletAttributionControlModel",
      "state": {
       "_model_module_version": "^0.13.2",
       "_view_module_version": "^0.13.2",
       "options": [
        "position",
        "prefix"
       ],
       "position": "bottomright",
       "prefix": "ipyleaflet"
      }
     },
     "e1961664f9834146864765313858099d": {
      "model_module": "jupyter-leaflet",
      "model_module_version": "^0.13.2",
      "model_name": "LeafletMarkerModel",
      "state": {
       "_model_module_version": "^0.13.2",
       "_view_module_version": "^0.13.2",
       "icon": "IPY_MODEL_5bd13314aaef47c9a3a1238367a34716",
       "location": [
        48.229347,
        16.371676
       ],
       "options": [
        "alt",
        "draggable",
        "keyboard",
        "rise_offset",
        "rise_on_hover",
        "rotation_angle",
        "rotation_origin",
        "title",
        "z_index_offset"
       ]
      }
     },
     "e29d9a36d1b14f7b8331ba0237f63ed2": {
      "model_module": "jupyter-leaflet",
      "model_module_version": "^0.13.2",
      "model_name": "LeafletMapStyleModel",
      "state": {
       "_model_module_version": "^0.13.2",
       "cursor": "move"
      }
     },
     "e2c91cd8969a4576a0305d5e94eeca27": {
      "model_module": "jupyter-leaflet",
      "model_module_version": "^0.13.2",
      "model_name": "LeafletMarkerModel",
      "state": {
       "_model_module_version": "^0.13.2",
       "_view_module_version": "^0.13.2",
       "icon": "IPY_MODEL_38252593e31f4243b6e5a1ee8768cd91",
       "location": [
        48.230742,
        16.374137
       ],
       "options": [
        "alt",
        "draggable",
        "keyboard",
        "rise_offset",
        "rise_on_hover",
        "rotation_angle",
        "rotation_origin",
        "title",
        "z_index_offset"
       ]
      }
     },
     "e37e7b45818d4d318422626ed7c2da66": {
      "model_module": "jupyter-leaflet",
      "model_module_version": "^0.13.2",
      "model_name": "LeafletMarkerModel",
      "state": {
       "_model_module_version": "^0.13.2",
       "_view_module_version": "^0.13.2",
       "icon": "IPY_MODEL_b5a28740d5424d7eba19955d171444f4",
       "options": [
        "alt",
        "draggable",
        "keyboard",
        "rise_offset",
        "rise_on_hover",
        "rotation_angle",
        "rotation_origin",
        "title",
        "z_index_offset"
       ]
      }
     },
     "e5b31e4a9db043acb290669fca3e0cae": {
      "model_module": "jupyter-leaflet",
      "model_module_version": "^0.13.2",
      "model_name": "LeafletMarkerModel",
      "state": {
       "_model_module_version": "^0.13.2",
       "_view_module_version": "^0.13.2",
       "icon": "IPY_MODEL_5bd13314aaef47c9a3a1238367a34716",
       "location": [
        48.232172999999996,
        16.374737
       ],
       "options": [
        "alt",
        "draggable",
        "keyboard",
        "rise_offset",
        "rise_on_hover",
        "rotation_angle",
        "rotation_origin",
        "title",
        "z_index_offset"
       ]
      }
     },
     "e85d863c4d694aea89ea7107c11c240f": {
      "model_module": "@jupyter-widgets/base",
      "model_module_version": "1.2.0",
      "model_name": "LayoutModel",
      "state": {
       "height": "600px",
       "width": "100%"
      }
     },
     "ea4356ceff2f4ae7a3a609543b44881e": {
      "model_module": "@jupyter-widgets/controls",
      "model_module_version": "1.5.0",
      "model_name": "SliderStyleModel",
      "state": {
       "description_width": ""
      }
     },
     "eaf8a6faaf3e4a77aa098fa92f2eb7be": {
      "model_module": "jupyter-leaflet",
      "model_module_version": "^0.13.2",
      "model_name": "LeafletMeasureControlModel",
      "state": {
       "_model_module_version": "^0.13.2",
       "_view_module_version": "^0.13.2",
       "active_color": "orange",
       "completed_color": "blue",
       "options": [
        "active_color",
        "capture_z_index",
        "completed_color",
        "popup_options",
        "position",
        "primary_area_unit",
        "primary_length_unit",
        "secondary_area_unit",
        "secondary_length_unit"
       ],
       "position": "bottomleft",
       "primary_area_unit": "sqmeters",
       "primary_length_unit": "meters",
       "secondary_area_unit": null,
       "secondary_length_unit": null
      }
     },
     "eddbdc4405c847428d10b84b12ad9f53": {
      "model_module": "jupyter-leaflet",
      "model_module_version": "^0.13.2",
      "model_name": "LeafletMarkerModel",
      "state": {
       "_model_module_version": "^0.13.2",
       "_view_module_version": "^0.13.2",
       "icon": "IPY_MODEL_5bd13314aaef47c9a3a1238367a34716",
       "location": [
        48.229884000000006,
        16.371082
       ],
       "options": [
        "alt",
        "draggable",
        "keyboard",
        "rise_offset",
        "rise_on_hover",
        "rotation_angle",
        "rotation_origin",
        "title",
        "z_index_offset"
       ]
      }
     },
     "ee0f1d47add74f3dbe6b70667fdec3e0": {
      "model_module": "jupyter-leaflet",
      "model_module_version": "^0.13.2",
      "model_name": "LeafletMarkerModel",
      "state": {
       "_model_module_version": "^0.13.2",
       "_view_module_version": "^0.13.2",
       "icon": "IPY_MODEL_b5a28740d5424d7eba19955d171444f4",
       "location": [
        48.231079,
        16.374826000000002
       ],
       "options": [
        "alt",
        "draggable",
        "keyboard",
        "rise_offset",
        "rise_on_hover",
        "rotation_angle",
        "rotation_origin",
        "title",
        "z_index_offset"
       ]
      }
     },
     "f0fa1177f3234d9f85a7c03497333402": {
      "model_module": "jupyter-leaflet",
      "model_module_version": "^0.13.2",
      "model_name": "LeafletScaleControlModel",
      "state": {
       "_model_module_version": "^0.13.2",
       "_view_module_version": "^0.13.2",
       "imperial": false,
       "max_width": 100,
       "metric": true,
       "options": [
        "imperial",
        "max_width",
        "metric",
        "position",
        "update_when_idle"
       ],
       "position": "bottomleft",
       "update_when_idle": false
      }
     },
     "f13c513be38d4fc2bb16be5c539c2ff7": {
      "model_module": "jupyter-leaflet",
      "model_module_version": "^0.13.2",
      "model_name": "LeafletMapModel",
      "state": {
       "_model_module_version": "^0.13.2",
       "_view_module_version": "^0.13.2",
       "center": [
        48.232221917266784,
        16.380053306347694
       ],
       "controls": [
        "IPY_MODEL_cb95a5c8ed9a42aa8529e1f594cd7e98",
        "IPY_MODEL_41c1d023d72b423c9d2f230abe8d9a17",
        "IPY_MODEL_0b1a7f1f41f943149262ae127c38ffc7",
        "IPY_MODEL_af5e5fdb368d47ef916a24c90b036f9a",
        "IPY_MODEL_4e98cd6733c34184ad7b35fdc6248062",
        "IPY_MODEL_3b5c11346bbc458089be615ae60cb767",
        "IPY_MODEL_349e1e7000ab41da8b34cac1cffc6f72"
       ],
       "default_style": "IPY_MODEL_80d0fec5a2a54594889b65186046872a",
       "dragging_style": "IPY_MODEL_1780ebd9e7554435b3682b0ddd267346",
       "east": -180,
       "fullscreen": false,
       "interpolation": "bilinear",
       "layers": [
        "IPY_MODEL_4a9c2a62ee0d4b8f96d76d764a89ebbf"
       ],
       "layout": "IPY_MODEL_e85d863c4d694aea89ea7107c11c240f",
       "modisdate": "yesterday",
       "north": -90,
       "options": [
        "bounce_at_zoom_limits",
        "box_zoom",
        "center",
        "close_popup_on_click",
        "double_click_zoom",
        "dragging",
        "fullscreen",
        "inertia",
        "inertia_deceleration",
        "inertia_max_speed",
        "interpolation",
        "keyboard",
        "keyboard_pan_offset",
        "keyboard_zoom_offset",
        "max_zoom",
        "min_zoom",
        "scroll_wheel_zoom",
        "tap",
        "tap_tolerance",
        "touch_zoom",
        "world_copy_jump",
        "zoom",
        "zoom_animation_threshold",
        "zoom_delta",
        "zoom_snap",
        "zoom_start"
       ],
       "south": 90,
       "style": "IPY_MODEL_80d0fec5a2a54594889b65186046872a",
       "west": 180,
       "window_url": "http://localhost:8888/lab#Reading-the-data-as-provided-by-the-gadget-(there-are-always-two-types-of-files---tracks-and-ratings-of-spots)",
       "zoom": 16
      }
     },
     "f1a4b800dd8f4f3f9e45bec037b77f6a": {
      "model_module": "jupyter-leaflet",
      "model_module_version": "^0.13.2",
      "model_name": "LeafletMarkerModel",
      "state": {
       "_model_module_version": "^0.13.2",
       "_view_module_version": "^0.13.2",
       "icon": "IPY_MODEL_38252593e31f4243b6e5a1ee8768cd91",
       "location": [
        48.229537,
        16.369913
       ],
       "options": [
        "alt",
        "draggable",
        "keyboard",
        "rise_offset",
        "rise_on_hover",
        "rotation_angle",
        "rotation_origin",
        "title",
        "z_index_offset"
       ]
      }
     },
     "f2903822a7da4274ad5f61d0afd07f4a": {
      "model_module": "jupyter-leaflet",
      "model_module_version": "^0.13.2",
      "model_name": "LeafletZoomControlModel",
      "state": {
       "_model_module_version": "^0.13.2",
       "_view_module_version": "^0.13.2",
       "options": [
        "position",
        "zoom_in_text",
        "zoom_in_title",
        "zoom_out_text",
        "zoom_out_title"
       ]
      }
     },
     "f50a74a4fc5f49b59651960e012aade2": {
      "model_module": "jupyter-leaflet",
      "model_module_version": "^0.13.2",
      "model_name": "LeafletSplitMapControlModel",
      "state": {
       "_model_module_version": "^0.13.2",
       "_model_name": "LeafletSplitMapControlModel",
       "_view_module_version": "^0.13.2",
       "_view_name": "LeafletSplitMapControlView",
       "left_layer": "IPY_MODEL_fe01ff0307014db2897a82b868243ed6",
       "options": [
        "position"
       ],
       "right_layer": "IPY_MODEL_d5eb02c0573f48d3a98c50250a81c04b"
      }
     },
     "f68a4970fc4d4555a7a0392153757797": {
      "model_module": "jupyter-leaflet",
      "model_module_version": "^0.13.2",
      "model_name": "LeafletTileLayerModel",
      "state": {
       "_model_module_version": "^0.13.2",
       "_view_module_version": "^0.13.2",
       "attribution": "Tiles &copy; Esri &mdash; Source: Esri, DeLorme, NAVTEQ, USGS, Intermap, iPC, NRCAN, Esri Japan, METI, Esri China (Hong Kong), Esri (Thailand), TomTom, 2012",
       "base": true,
       "max_native_zoom": 18,
       "max_zoom": 20,
       "min_native_zoom": 0,
       "min_zoom": 1,
       "name": "Esri.WorldStreetMap",
       "options": [
        "attribution",
        "detect_retina",
        "max_native_zoom",
        "max_zoom",
        "min_native_zoom",
        "min_zoom",
        "no_wrap",
        "tile_size",
        "tms"
       ],
       "url": "http://server.arcgisonline.com/ArcGIS/rest/services/World_Street_Map/MapServer/tile/{z}/{y}/{x}"
      }
     },
     "f8ce08d371c74b0380b55695c3f8056c": {
      "model_module": "jupyter-leaflet",
      "model_module_version": "^0.13.2",
      "model_name": "LeafletFullScreenControlModel",
      "state": {
       "_model_module_version": "^0.13.2",
       "_view_module_version": "^0.13.2",
       "options": [
        "position"
       ]
      }
     },
     "fac86cf2983944dd93bef683fdc22625": {
      "model_module": "jupyter-leaflet",
      "model_module_version": "^0.13.2",
      "model_name": "LeafletAntPathModel",
      "state": {
       "_model_module_version": "^0.13.2",
       "_view_module_version": "^0.13.2",
       "color": "#7590ba",
       "dash_array": [
        1,
        10
       ],
       "delay": 2000,
       "locations": [
        [
         48.231325,
         16.373732
        ],
        [
         48.231356,
         16.373739999999998
        ],
        [
         48.231421000000005,
         16.373773
        ],
        [
         48.23145,
         16.373781
        ],
        [
         48.231477000000005,
         16.373781
        ],
        [
         48.231429,
         16.37376
        ],
        [
         48.231195,
         16.373704999999998
        ],
        [
         48.231015,
         16.373694
        ],
        [
         48.230927,
         16.373727
        ],
        [
         48.230905,
         16.373775
        ],
        [
         48.230789,
         16.373766
        ],
        [
         48.230691,
         16.373754
        ],
        [
         48.230928999999996,
         16.373603
        ],
        [
         48.230944,
         16.373553
        ],
        [
         48.230901,
         16.373521
        ],
        [
         48.230903999999995,
         16.373520000000003
        ],
        [
         48.230897999999996,
         16.373495000000002
        ],
        [
         48.230856,
         16.373448
        ],
        [
         48.230805,
         16.373421
        ],
        [
         48.230725,
         16.373383
        ],
        [
         48.230694,
         16.373312
        ],
        [
         48.230626,
         16.373217
        ],
        [
         48.230639000000004,
         16.373161
        ],
        [
         48.2305,
         16.373057
        ],
        [
         48.230415,
         16.372962
        ],
        [
         48.230418,
         16.372923
        ],
        [
         48.230337,
         16.372832
        ],
        [
         48.23024,
         16.372768
        ],
        [
         48.230212,
         16.372675
        ],
        [
         48.230253999999995,
         16.372647
        ],
        [
         48.230253000000005,
         16.372621
        ],
        [
         48.230214000000004,
         16.3726
        ],
        [
         48.230189,
         16.372585
        ],
        [
         48.230092,
         16.372559
        ],
        [
         48.229933,
         16.372475
        ],
        [
         48.229804,
         16.372084
        ],
        [
         48.229861,
         16.37201
        ],
        [
         48.229827,
         16.371956
        ],
        [
         48.230003,
         16.371848
        ],
        [
         48.230162,
         16.371603
        ],
        [
         48.230214000000004,
         16.371414
        ],
        [
         48.230290000000004,
         16.371272
        ],
        [
         48.23019,
         16.371214000000002
        ],
        [
         48.230083,
         16.371168
        ],
        [
         48.229985,
         16.371159
        ],
        [
         48.229952000000004,
         16.371152
        ],
        [
         48.229884000000006,
         16.371082
        ],
        [
         48.229884000000006,
         16.371082
        ],
        [
         48.229884000000006,
         16.371082
        ],
        [
         48.229884000000006,
         16.371082
        ],
        [
         48.229884000000006,
         16.371082
        ],
        [
         48.229884000000006,
         16.371082
        ],
        [
         48.229884000000006,
         16.371082
        ],
        [
         48.229884000000006,
         16.371082
        ],
        [
         48.229884000000006,
         16.371082
        ],
        [
         48.229884000000006,
         16.371082
        ],
        [
         48.229634000000004,
         16.370667
        ],
        [
         48.229634000000004,
         16.370667
        ],
        [
         48.229634000000004,
         16.370667
        ],
        [
         48.229634000000004,
         16.370667
        ],
        [
         48.229566999999996,
         16.370301
        ],
        [
         48.229538,
         16.370146
        ],
        [
         48.229510999999995,
         16.369997
        ],
        [
         48.229562,
         16.36992
        ],
        [
         48.229582,
         16.369868
        ],
        [
         48.229585,
         16.369823999999998
        ],
        [
         48.229566999999996,
         16.369782
        ],
        [
         48.229458,
         16.369742000000002
        ],
        [
         48.229496000000005,
         16.369692999999998
        ],
        [
         48.229473999999996,
         16.369692
        ],
        [
         48.229456,
         16.369692999999998
        ],
        [
         48.229401,
         16.369694
        ],
        [
         48.229341,
         16.369626999999998
        ],
        [
         48.229321,
         16.369638000000002
        ],
        [
         48.229246,
         16.369642000000002
        ],
        [
         48.229118,
         16.369605
        ],
        [
         48.228858,
         16.369601
        ],
        [
         48.228826,
         16.369467
        ],
        [
         48.228821,
         16.369379000000002
        ],
        [
         48.22888,
         16.369293
        ],
        [
         48.228916,
         16.369232
        ],
        [
         48.228871999999996,
         16.36919
        ],
        [
         48.228865,
         16.369135999999997
        ],
        [
         48.228835,
         16.369062
        ],
        [
         48.228849,
         16.368964000000002
        ],
        [
         48.228908000000004,
         16.368909
        ],
        [
         48.228978000000005,
         16.368884
        ],
        [
         48.228943,
         16.368816
        ],
        [
         48.22885,
         16.368758
        ],
        [
         48.228856,
         16.368721
        ],
        [
         48.228848,
         16.368684
        ],
        [
         48.228848,
         16.368662
        ],
        [
         48.228843,
         16.36865
        ],
        [
         48.22889,
         16.368617
        ],
        [
         48.228902000000005,
         16.368613
        ],
        [
         48.228916999999996,
         16.368555999999998
        ],
        [
         48.228966,
         16.368542
        ],
        [
         48.229025,
         16.36855
        ],
        [
         48.229043,
         16.368601
        ],
        [
         48.229057,
         16.368591000000002
        ],
        [
         48.229017,
         16.3686
        ],
        [
         48.229007,
         16.368620999999997
        ],
        [
         48.228983,
         16.368671
        ],
        [
         48.229003000000006,
         16.368758
        ],
        [
         48.22903,
         16.368827
        ],
        [
         48.229084,
         16.368907999999998
        ],
        [
         48.229108000000004,
         16.368988
        ],
        [
         48.229109,
         16.369024
        ],
        [
         48.229123,
         16.369032999999998
        ],
        [
         48.229139,
         16.36905
        ],
        [
         48.229074,
         16.369023000000002
        ],
        [
         48.229031,
         16.369011999999998
        ],
        [
         48.229034000000006,
         16.369024
        ],
        [
         48.229063000000004,
         16.369027
        ],
        [
         48.229096999999996,
         16.368993
        ],
        [
         48.229092,
         16.368972
        ],
        [
         48.229061,
         16.368935999999998
        ],
        [
         48.229053,
         16.368931
        ],
        [
         48.229075,
         16.368954000000002
        ],
        [
         48.229082,
         16.368964000000002
        ],
        [
         48.229094,
         16.368975
        ],
        [
         48.229128,
         16.369004
        ],
        [
         48.229147,
         16.369007
        ],
        [
         48.229106,
         16.36898
        ],
        [
         48.229068,
         16.368959
        ],
        [
         48.229026,
         16.368947
        ],
        [
         48.229061,
         16.369024
        ],
        [
         48.229199,
         16.369159
        ],
        [
         48.229257000000004,
         16.369269
        ],
        [
         48.229219,
         16.369334
        ],
        [
         48.229201,
         16.369424
        ],
        [
         48.229203999999996,
         16.36948
        ],
        [
         48.229240999999995,
         16.369569
        ],
        [
         48.229234000000005,
         16.369592
        ],
        [
         48.229312,
         16.369654999999998
        ],
        [
         48.229384,
         16.369725
        ],
        [
         48.229455,
         16.369779
        ],
        [
         48.229477,
         16.369839000000002
        ],
        [
         48.229521999999996,
         16.3699
        ],
        [
         48.229524,
         16.369909
        ],
        [
         48.229537,
         16.369913
        ],
        [
         48.22952,
         16.369892
        ],
        [
         48.229543,
         16.369889999999998
        ],
        [
         48.229585,
         16.369954999999997
        ],
        [
         48.229628999999996,
         16.369997
        ],
        [
         48.229658,
         16.370060000000002
        ],
        [
         48.229647,
         16.370151
        ],
        [
         48.22963,
         16.370268
        ],
        [
         48.229673999999996,
         16.370348
        ],
        [
         48.229695,
         16.370404
        ],
        [
         48.229721000000005,
         16.370499
        ],
        [
         48.229714,
         16.370549
        ],
        [
         48.229782,
         16.370616000000002
        ],
        [
         48.229847,
         16.370701999999998
        ],
        [
         48.229871,
         16.370793
        ],
        [
         48.229828999999995,
         16.370859
        ],
        [
         48.229856,
         16.370957999999998
        ],
        [
         48.229865000000004,
         16.371053
        ],
        [
         48.22988,
         16.371113
        ],
        [
         48.229896999999994,
         16.371187
        ],
        [
         48.229887,
         16.371247
        ],
        [
         48.22984,
         16.371235000000002
        ],
        [
         48.229791999999996,
         16.371291
        ],
        [
         48.229715999999996,
         16.371288
        ],
        [
         48.229584,
         16.371263
        ],
        [
         48.229524,
         16.371259
        ],
        [
         48.229459000000006,
         16.371226999999998
        ],
        [
         48.229382,
         16.371171
        ],
        [
         48.229347,
         16.371106
        ],
        [
         48.229313,
         16.371064999999998
        ],
        [
         48.229295,
         16.371037
        ],
        [
         48.229285,
         16.371026
        ],
        [
         48.229281,
         16.371038000000002
        ],
        [
         48.229324,
         16.370986
        ],
        [
         48.2293,
         16.370987
        ],
        [
         48.229268,
         16.370995999999998
        ],
        [
         48.229243,
         16.371002999999998
        ],
        [
         48.229237,
         16.371029
        ],
        [
         48.229253,
         16.371118
        ],
        [
         48.22926,
         16.371118
        ],
        [
         48.229279999999996,
         16.371097
        ],
        [
         48.229354,
         16.371187
        ],
        [
         48.229167,
         16.370898999999998
        ],
        [
         48.22912,
         16.3709
        ],
        [
         48.229163,
         16.370869
        ],
        [
         48.229162,
         16.370898999999998
        ],
        [
         48.229108000000004,
         16.370917000000002
        ],
        [
         48.229110999999996,
         16.370892
        ],
        [
         48.229075,
         16.370949
        ],
        [
         48.229048999999996,
         16.370877
        ],
        [
         48.229031,
         16.370824
        ],
        [
         48.229044,
         16.370835999999997
        ],
        [
         48.229046000000004,
         16.37085
        ],
        [
         48.229122,
         16.370841
        ],
        [
         48.229255,
         16.370832
        ],
        [
         48.229314,
         16.370901999999997
        ],
        [
         48.229222,
         16.371055
        ],
        [
         48.229252,
         16.371187
        ],
        [
         48.229246,
         16.371263
        ],
        [
         48.229245,
         16.371348
        ],
        [
         48.229295,
         16.371448
        ],
        [
         48.229325,
         16.371482999999998
        ],
        [
         48.229356,
         16.371515
        ],
        [
         48.229353,
         16.371586999999998
        ],
        [
         48.229304,
         16.371674
        ],
        [
         48.229293,
         16.371706
        ],
        [
         48.22935,
         16.371678
        ],
        [
         48.229397999999996,
         16.371692000000003
        ],
        [
         48.229449,
         16.371734
        ],
        [
         48.229424,
         16.371804
        ],
        [
         48.229448,
         16.371789
        ],
        [
         48.229534,
         16.371745999999998
        ],
        [
         48.229572,
         16.371663
        ],
        [
         48.229597,
         16.371566
        ],
        [
         48.229633,
         16.3715
        ],
        [
         48.229675,
         16.371378
        ],
        [
         48.229681,
         16.371349
        ],
        [
         48.229687,
         16.371375
        ],
        [
         48.22971,
         16.371357999999997
        ],
        [
         48.229702,
         16.371335000000002
        ],
        [
         48.229668,
         16.371342000000002
        ],
        [
         48.229623,
         16.371313
        ],
        [
         48.229559,
         16.371287
        ],
        [
         48.22953,
         16.371315
        ],
        [
         48.229490000000006,
         16.371309
        ],
        [
         48.229454,
         16.371275
        ],
        [
         48.229406,
         16.371234
        ],
        [
         48.229406,
         16.371234
        ],
        [
         48.229406,
         16.371234
        ],
        [
         48.229406,
         16.371234
        ],
        [
         48.229406,
         16.371234
        ],
        [
         48.229406,
         16.371234
        ],
        [
         48.229406,
         16.371234
        ],
        [
         48.229406,
         16.371234
        ],
        [
         48.229406,
         16.371234
        ],
        [
         48.23001,
         16.371512
        ],
        [
         48.23001,
         16.371512
        ],
        [
         48.23001,
         16.371512
        ],
        [
         48.23001,
         16.371512
        ],
        [
         48.23001,
         16.371512
        ],
        [
         48.23001,
         16.371512
        ],
        [
         48.23001,
         16.371512
        ],
        [
         48.23001,
         16.371512
        ],
        [
         48.23001,
         16.371512
        ],
        [
         48.23001,
         16.371512
        ],
        [
         48.23001,
         16.371512
        ],
        [
         48.23001,
         16.371512
        ],
        [
         48.23001,
         16.371512
        ],
        [
         48.23001,
         16.371512
        ],
        [
         48.23001,
         16.371512
        ],
        [
         48.23001,
         16.371512
        ],
        [
         48.23001,
         16.371512
        ],
        [
         48.23001,
         16.371512
        ],
        [
         48.23001,
         16.371512
        ],
        [
         48.230598,
         16.373117999999998
        ],
        [
         48.230598,
         16.373117999999998
        ],
        [
         48.230598,
         16.373117999999998
        ],
        [
         48.230598,
         16.373117999999998
        ],
        [
         48.230598,
         16.373117999999998
        ],
        [
         48.230598,
         16.373117999999998
        ],
        [
         48.230598,
         16.373117999999998
        ],
        [
         48.230598,
         16.373117999999998
        ],
        [
         48.230598,
         16.373117999999998
        ],
        [
         48.230598,
         16.373117999999998
        ],
        [
         48.230598,
         16.373117999999998
        ],
        [
         48.230598,
         16.373117999999998
        ],
        [
         48.230598,
         16.373117999999998
        ],
        [
         48.230598,
         16.373117999999998
        ],
        [
         48.230598,
         16.373117999999998
        ],
        [
         48.230598,
         16.373117999999998
        ],
        [
         48.229240999999995,
         16.373863
        ],
        [
         48.22926,
         16.373772
        ],
        [
         48.22926,
         16.373772
        ],
        [
         48.22926,
         16.373772
        ],
        [
         48.22926,
         16.373772
        ],
        [
         48.22926,
         16.373772
        ],
        [
         48.230204,
         16.373359
        ],
        [
         48.230204,
         16.373359
        ],
        [
         48.230204,
         16.373359
        ],
        [
         48.230204,
         16.373359
        ],
        [
         48.230204,
         16.373359
        ],
        [
         48.230204,
         16.373359
        ],
        [
         48.230204,
         16.373359
        ],
        [
         48.230475,
         16.373299
        ],
        [
         48.230475,
         16.373299
        ],
        [
         48.230475,
         16.373299
        ],
        [
         48.230475,
         16.373299
        ],
        [
         48.230475,
         16.373299
        ],
        [
         48.230475,
         16.373299
        ],
        [
         48.230475,
         16.373299
        ],
        [
         48.230606,
         16.373506
        ],
        [
         48.230606,
         16.373506
        ],
        [
         48.230606,
         16.373506
        ],
        [
         48.230606,
         16.373506
        ],
        [
         48.230606,
         16.373506
        ],
        [
         48.230641999999996,
         16.37363
        ],
        [
         48.230644,
         16.373654000000002
        ],
        [
         48.230629,
         16.373717000000003
        ],
        [
         48.230669,
         16.373798999999998
        ],
        [
         48.230686999999996,
         16.373891
        ],
        [
         48.230686999999996,
         16.373946
        ],
        [
         48.230686999999996,
         16.373946
        ],
        [
         48.230756,
         16.374073000000003
        ],
        [
         48.23075,
         16.374101
        ],
        [
         48.230742,
         16.374137
        ],
        [
         48.230740000000004,
         16.374144
        ],
        [
         48.230815,
         16.374139000000003
        ],
        [
         48.230813,
         16.374146
        ],
        [
         48.230802000000004,
         16.374163
        ],
        [
         48.230808,
         16.374236
        ],
        [
         48.230839,
         16.374279
        ],
        [
         48.230877,
         16.37434
        ],
        [
         48.230903999999995,
         16.374387
        ],
        [
         48.230901,
         16.374467000000003
        ],
        [
         48.230928000000006,
         16.374558
        ],
        [
         48.230996999999995,
         16.374551999999998
        ],
        [
         48.23103,
         16.374619
        ],
        [
         48.231064,
         16.374702
        ],
        [
         48.231072999999995,
         16.374785
        ],
        [
         48.231049,
         16.374882999999997
        ],
        [
         48.230990000000006,
         16.374963
        ],
        [
         48.230933,
         16.375113
        ],
        [
         48.230924,
         16.375132999999998
        ],
        [
         48.23087,
         16.375189000000002
        ],
        [
         48.23082,
         16.375223000000002
        ],
        [
         48.230724,
         16.375346
        ],
        [
         48.230663,
         16.375414000000003
        ],
        [
         48.230563000000004,
         16.375514000000003
        ],
        [
         48.230543,
         16.375549
        ],
        [
         48.230554999999995,
         16.375551
        ],
        [
         48.230579999999996,
         16.375554
        ],
        [
         48.230527,
         16.375524
        ],
        [
         48.230482,
         16.375448000000002
        ],
        [
         48.230521,
         16.375409
        ],
        [
         48.230661,
         16.375441
        ],
        [
         48.230703000000005,
         16.375441
        ],
        [
         48.230795,
         16.375279000000003
        ],
        [
         48.230803,
         16.375201999999998
        ],
        [
         48.230825,
         16.375148
        ],
        [
         48.23086,
         16.375127
        ],
        [
         48.230878000000004,
         16.375109
        ],
        [
         48.230897,
         16.375104
        ],
        [
         48.23089,
         16.375106
        ],
        [
         48.230899,
         16.375104
        ],
        [
         48.230911,
         16.375095
        ],
        [
         48.230914,
         16.375087
        ],
        [
         48.230925,
         16.375078
        ],
        [
         48.230928000000006,
         16.375072
        ],
        [
         48.230940999999994,
         16.375062
        ],
        [
         48.230945,
         16.375083
        ],
        [
         48.230928000000006,
         16.375182000000002
        ],
        [
         48.230944,
         16.375226
        ],
        [
         48.230934000000005,
         16.37527
        ],
        [
         48.230987,
         16.375324
        ],
        [
         48.230922,
         16.375385
        ],
        [
         48.230866999999996,
         16.37544
        ],
        [
         48.230643,
         16.375517000000002
        ],
        [
         48.230901,
         16.375207999999997
        ],
        [
         48.230998,
         16.375118
        ],
        [
         48.231010999999995,
         16.375073999999998
        ],
        [
         48.231032,
         16.375047
        ],
        [
         48.231041,
         16.374978
        ],
        [
         48.231038,
         16.374896
        ],
        [
         48.231072,
         16.37485
        ],
        [
         48.231097,
         16.374832
        ],
        [
         48.23105,
         16.374817
        ],
        [
         48.231057,
         16.374745
        ],
        [
         48.231141,
         16.374737
        ],
        [
         48.231213000000004,
         16.374737
        ],
        [
         48.231328999999995,
         16.374692
        ],
        [
         48.231377,
         16.374666
        ],
        [
         48.231459,
         16.37469
        ],
        [
         48.231522,
         16.374717999999998
        ],
        [
         48.231621999999994,
         16.374685
        ],
        [
         48.231691,
         16.374677
        ],
        [
         48.231777,
         16.374679
        ],
        [
         48.231801000000004,
         16.374682999999997
        ],
        [
         48.231836,
         16.374674
        ],
        [
         48.231856,
         16.374658
        ],
        [
         48.231866,
         16.374653
        ],
        [
         48.231898,
         16.374659
        ],
        [
         48.231976,
         16.374661
        ],
        [
         48.232018,
         16.374660000000002
        ],
        [
         48.232038,
         16.374665
        ],
        [
         48.232067,
         16.374678
        ],
        [
         48.23211,
         16.374691000000002
        ],
        [
         48.232193,
         16.374682
        ],
        [
         48.232172,
         16.374716
        ],
        [
         48.232172999999996,
         16.374737
        ],
        [
         48.232177,
         16.374795000000002
        ],
        [
         48.232184000000004,
         16.374897
        ],
        [
         48.232181,
         16.374923000000003
        ],
        [
         48.232178000000005,
         16.374934
        ],
        [
         48.232178999999995,
         16.374913
        ],
        [
         48.232192,
         16.374897
        ],
        [
         48.232209000000005,
         16.374888000000002
        ],
        [
         48.232211,
         16.374926000000002
        ],
        [
         48.232262,
         16.374878
        ],
        [
         48.232325,
         16.374751999999997
        ],
        [
         48.232309,
         16.37455
        ],
        [
         48.232302000000004,
         16.374457999999997
        ],
        [
         48.232288,
         16.374378
        ],
        [
         48.232299,
         16.374234
        ],
        [
         48.232303,
         16.374136
        ],
        [
         48.232298,
         16.374043
        ],
        [
         48.232288,
         16.373938
        ],
        [
         48.232310999999996,
         16.373872
        ],
        [
         48.232310999999996,
         16.373786
        ],
        [
         48.2323,
         16.373714
        ],
        [
         48.232271000000004,
         16.373638
        ],
        [
         48.232248999999996,
         16.373592000000002
        ],
        [
         48.232195000000004,
         16.3736
        ],
        [
         48.2321,
         16.373603
        ],
        [
         48.232034999999996,
         16.373611999999998
        ],
        [
         48.231941,
         16.373632999999998
        ],
        [
         48.231913,
         16.37365
        ],
        [
         48.231913,
         16.37365
        ],
        [
         48.231913,
         16.37365
        ],
        [
         48.231913,
         16.37365
        ],
        [
         48.231913,
         16.37365
        ],
        [
         48.231913,
         16.37365
        ],
        [
         48.231913,
         16.37365
        ]
       ],
       "name": "Trail",
       "options": [
        "color",
        "dash_array",
        "delay",
        "hardware_accelerated",
        "paused",
        "pulse_color",
        "radius",
        "reverse",
        "use",
        "weight"
       ],
       "pulse_color": "#3f6fba"
      }
     },
     "fb04f1f4ee0241a09b629cff3e683797": {
      "model_module": "jupyter-leaflet",
      "model_module_version": "^0.13.2",
      "model_name": "LeafletMarkerModel",
      "state": {
       "_model_module_version": "^0.13.2",
       "_view_module_version": "^0.13.2",
       "icon": "IPY_MODEL_5833167c73d3404db75d5aa659a93618",
       "options": [
        "alt",
        "draggable",
        "keyboard",
        "rise_offset",
        "rise_on_hover",
        "rotation_angle",
        "rotation_origin",
        "title",
        "z_index_offset"
       ]
      }
     },
     "fc254be5d4cf46459d8d439b0402a0b1": {
      "model_module": "jupyter-leaflet",
      "model_module_version": "^0.13.2",
      "model_name": "LeafletMarkerModel",
      "state": {
       "_model_module_version": "^0.13.2",
       "_view_module_version": "^0.13.2",
       "icon": "IPY_MODEL_b5a28740d5424d7eba19955d171444f4",
       "location": [
        48.230641999999996,
        16.37363
       ],
       "options": [
        "alt",
        "draggable",
        "keyboard",
        "rise_offset",
        "rise_on_hover",
        "rotation_angle",
        "rotation_origin",
        "title",
        "z_index_offset"
       ]
      }
     },
     "fe01ff0307014db2897a82b868243ed6": {
      "model_module": "jupyter-leaflet",
      "model_module_version": "^0.13.2",
      "model_name": "LeafletTileLayerModel",
      "state": {
       "_model_module_version": "^0.13.2",
       "_view_module_version": "^0.13.2",
       "attribution": "Tiles &copy; Esri &mdash; Source: Esri, DeLorme, NAVTEQ, USGS, Intermap, iPC, NRCAN, Esri Japan, METI, Esri China (Hong Kong), Esri (Thailand), TomTom, 2012",
       "max_native_zoom": 18,
       "max_zoom": 20,
       "min_native_zoom": 0,
       "min_zoom": 1,
       "name": "Esri.WorldStreetMap",
       "options": [
        "attribution",
        "detect_retina",
        "max_native_zoom",
        "max_zoom",
        "min_native_zoom",
        "min_zoom",
        "no_wrap",
        "tile_size",
        "tms"
       ],
       "url": "http://server.arcgisonline.com/ArcGIS/rest/services/World_Street_Map/MapServer/tile/{z}/{y}/{x}"
      }
     },
     "ffa6ee13b4ef48dd84294be5943a2f4e": {
      "model_module": "jupyter-leaflet",
      "model_module_version": "^0.13.2",
      "model_name": "LeafletTileLayerModel",
      "state": {
       "_model_module_version": "^0.13.2",
       "_view_module_version": "^0.13.2",
       "attribution": "Tiles &copy; Esri &mdash; Source: Esri, DeLorme, NAVTEQ, USGS, Intermap, iPC, NRCAN, Esri Japan, METI, Esri China (Hong Kong), Esri (Thailand), TomTom, 2012",
       "max_native_zoom": 18,
       "max_zoom": 20,
       "min_native_zoom": 0,
       "min_zoom": 1,
       "name": "Esri.WorldStreetMap",
       "options": [
        "attribution",
        "detect_retina",
        "max_native_zoom",
        "max_zoom",
        "min_native_zoom",
        "min_zoom",
        "no_wrap",
        "tile_size",
        "tms"
       ],
       "url": "http://server.arcgisonline.com/ArcGIS/rest/services/World_Street_Map/MapServer/tile/{z}/{y}/{x}"
      }
     }
    },
    "version_major": 2,
    "version_minor": 0
   }
  }
 },
 "nbformat": 4,
 "nbformat_minor": 4
}
